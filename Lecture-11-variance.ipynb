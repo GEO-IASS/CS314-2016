{
 "cells": [
  {
   "cell_type": "markdown",
   "metadata": {},
   "source": [
    "## Computing the variance in one pass\n",
    "There a variety of algorithms described for computing the variance of a set of numbers. Recall that the variance of a set values is\n",
    "$$v = \\frac{1}{n-1} \\sum_i \\left( x_i - \\tfrac{1}{n} \\sum_{j} x_j \\right)^2.$$\n",
    "(This is the _sample_ variance that is sometimes computed, the differences do not matter for our discussion.)\n",
    "\n",
    "The easiest way to compute this formula is by first computing the mean:\n",
    "$$ \\text{mean} = \\tfrac{1}{n-1} \\sum_{j} x_j $$\n",
    "and then computing the variance based on the mean\n",
    "$$v = \\frac{1}{n-1} \\sum_i \\left( x_i - \\text{mean} \\right)^2.$$\n",
    "\n",
    "But this requires _two_ visits to each datapoint. If there are millions or billions of datapoints, this could be expensive."
   ]
  },
  {
   "cell_type": "code",
   "execution_count": 26,
   "metadata": {
    "collapsed": false
   },
   "outputs": [
    {
     "data": {
      "text/plain": [
       "badvar1 (generic function with 1 method)"
      ]
     },
     "execution_count": 26,
     "metadata": {},
     "output_type": "execute_result"
    }
   ],
   "source": [
    "function badvar1(x::Vector{Float64})\n",
    "ex2 = 0.0\n",
    "ex = 0.0\n",
    "n = length(x)\n",
    "for i=1:n\n",
    "  ex2 = ex2 + x[i]^2\n",
    "  ex = ex + x[i]\n",
    "end\n",
    "    @show ex2, ex^2\n",
    "return 1.0/(n-1)*(ex2 - (ex)^2/n)\n",
    "end"
   ]
  },
  {
   "cell_type": "code",
   "execution_count": 17,
   "metadata": {
    "collapsed": false
   },
   "outputs": [
    {
     "name": "stdout",
     "output_type": "stream",
     "text": [
      "badvar1(x) = 1.032311000268402\n",
      "basevar(x) = 1.0323110002684024\n"
     ]
    },
    {
     "data": {
      "text/plain": [
       "1.0323110002684024"
      ]
     },
     "execution_count": 17,
     "metadata": {},
     "output_type": "execute_result"
    }
   ],
   "source": [
    "x = randn(100)\n",
    "basevar = x -> (length(x)/(length(x)-1))*mean((x - mean(x)).^2)\n",
    "@show badvar1(x)\n",
    "@show basevar(x)"
   ]
  },
  {
   "cell_type": "code",
   "execution_count": 18,
   "metadata": {
    "collapsed": false
   },
   "outputs": [
    {
     "name": "stdout",
     "output_type": "stream",
     "text": [
      "badvar1(x) = 1.0098437328466676\n",
      "basevar(x) = 1.0098437328466736\n"
     ]
    },
    {
     "data": {
      "text/plain": [
       "1.0098437328466736"
      ]
     },
     "execution_count": 18,
     "metadata": {},
     "output_type": "execute_result"
    }
   ],
   "source": [
    "x = randn(10000)\n",
    "@show badvar1(x)\n",
    "@show basevar(x)"
   ]
  },
  {
   "cell_type": "markdown",
   "metadata": {},
   "source": [
    "Variance computations are immune to shifts"
   ]
  },
  {
   "cell_type": "code",
   "execution_count": 19,
   "metadata": {
    "collapsed": false
   },
   "outputs": [
    {
     "name": "stdout",
     "output_type": "stream",
     "text": [
      "badvar1(x) = 1.019557363451189\n",
      "basevar(x) = 1.0195578158695435\n"
     ]
    },
    {
     "data": {
      "text/plain": [
       "1.0195578158695435"
      ]
     },
     "execution_count": 19,
     "metadata": {},
     "output_type": "execute_result"
    }
   ],
   "source": [
    "x = randn(10000)+1e4\n",
    "@show badvar1(x)\n",
    "@show basevar(x)"
   ]
  },
  {
   "cell_type": "code",
   "execution_count": 20,
   "metadata": {
    "collapsed": false
   },
   "outputs": [
    {
     "name": "stdout",
     "output_type": "stream",
     "text": [
      "badvar1(x) = 0.9928992899289929\n",
      "basevar(x) = 1.0077890284079822\n"
     ]
    },
    {
     "data": {
      "text/plain": [
       "1.0077890284079822"
      ]
     },
     "execution_count": 20,
     "metadata": {},
     "output_type": "execute_result"
    }
   ],
   "source": [
    "x = randn(10000)+1e6\n",
    "@show badvar1(x)\n",
    "@show basevar(x)"
   ]
  },
  {
   "cell_type": "code",
   "execution_count": 27,
   "metadata": {
    "collapsed": false
   },
   "outputs": [
    {
     "name": "stdout",
     "output_type": "stream",
     "text": [
      "(ex2,ex ^ 2) = (1.0000000002153153e20,1.0000000002153186e24)\n",
      "badvar1(x) = -34.40984098409841\n",
      "basevar(x) = 1.0046044826796907\n"
     ]
    },
    {
     "data": {
      "text/plain": [
       "1.0046044826796907"
      ]
     },
     "execution_count": 27,
     "metadata": {},
     "output_type": "execute_result"
    }
   ],
   "source": [
    "x = randn(10000)+1e8\n",
    "@show badvar1(x)\n",
    "@show basevar(x)"
   ]
  },
  {
   "cell_type": "code",
   "execution_count": 24,
   "metadata": {
    "collapsed": false
   },
   "outputs": [
    {
     "data": {
      "text/plain": [
       "goodvar (generic function with 1 method)"
      ]
     },
     "execution_count": 24,
     "metadata": {},
     "output_type": "execute_result"
    }
   ],
   "source": [
    "function goodvar(x::Vector{Float64})\n",
    "    n = length(x); mean = 0.0; m2 = 0.0; N = 0.0\n",
    "    for i=1:n\n",
    "        N = N + 1\n",
    "        delta = x[i] - mean\n",
    "        mean = mean + delta/N\n",
    "        m2 = m2 + delta*(x[i]-mean)\n",
    "    end\n",
    "    return m2/(n-1)\n",
    "end"
   ]
  },
  {
   "cell_type": "code",
   "execution_count": 25,
   "metadata": {
    "collapsed": false
   },
   "outputs": [
    {
     "name": "stdout",
     "output_type": "stream",
     "text": [
      "badvar1(x) = 81.92819281928193\n",
      "basevar(x) = 1.016826575245556\n",
      "goodvar(x) = 1.0168265735653041\n"
     ]
    },
    {
     "data": {
      "text/plain": [
       "1.0168265735653041"
      ]
     },
     "execution_count": 25,
     "metadata": {},
     "output_type": "execute_result"
    }
   ],
   "source": [
    "x = randn(10000)+1e8\n",
    "basevar = var\n",
    "@show badvar1(x)\n",
    "@show basevar(x)\n",
    "@show goodvar(x)"
   ]
  }
 ],
 "metadata": {
  "kernelspec": {
   "display_name": "Julia 0.4.6",
   "language": "julia",
   "name": "julia-0.4"
  },
  "language_info": {
   "file_extension": ".jl",
   "mimetype": "application/julia",
   "name": "julia",
   "version": "0.4.6"
  }
 },
 "nbformat": 4,
 "nbformat_minor": 0
}
