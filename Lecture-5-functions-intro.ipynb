{
 "cells": [
  {
   "cell_type": "markdown",
   "metadata": {},
   "source": [
    "# Write two functions in Julia!\n",
    "We will write two functions in Julia to demonstrate how they work.\n",
    "\n",
    "The first function is \n",
    "`sumdiff`, which will sum up of differences between two vectors "
   ]
  },
  {
   "cell_type": "code",
   "execution_count": 1,
   "metadata": {
    "collapsed": false
   },
   "outputs": [
    {
     "data": {
      "text/plain": [
       "sumdiff (generic function with 1 method)"
      ]
     },
     "execution_count": 1,
     "metadata": {},
     "output_type": "execute_result"
    }
   ],
   "source": [
    "# this bit is all a comment / string. \n",
    "\"\"\"\n",
    "`sumdiff`\n",
    "=========\n",
    "computes the sum of differences between two vectors \n",
    "without creating a third vector in the middle.\n",
    "\n",
    "Functions\n",
    "---------\n",
    "- `sumdiff(x,y)` Computes the sum of x-y where x and y are vectors\n",
    "\n",
    "Example\n",
    "-------\n",
    "~~~~\n",
    "x = [1 2 3]\n",
    "y = [3 2 1]\n",
    "@show sumdiff(x,y)\n",
    "~~~~\n",
    "\"\"\"\n",
    "function sumdiff(x,y)\n",
    "end"
   ]
  },
  {
   "cell_type": "code",
   "execution_count": 2,
   "metadata": {
    "collapsed": false
   },
   "outputs": [
    {
     "name": "stdout",
     "output_type": "stream",
     "text": [
      "search: sumdiff\n",
      "\n"
     ]
    },
    {
     "data": {
      "text/markdown": [
       "# `sumdiff`\n",
       "\n",
       "computes the sum of differences between two vectors  without creating a third vector in the middle.\n",
       "\n",
       "## Functions\n",
       "\n",
       "  * `sumdiff(x,y)` Computes the sum of x-y where x and y are vectors\n",
       "\n",
       "## Example\n",
       "\n",
       "```\n",
       "x = [1 2 3]\n",
       "y = [3 2 1]\n",
       "@show sumdiff(x,y)\n",
       "```\n"
      ],
      "text/plain": [
       "# `sumdiff`\n",
       "\n",
       "computes the sum of differences between two vectors  without creating a third vector in the middle.\n",
       "\n",
       "## Functions\n",
       "\n",
       "  * `sumdiff(x,y)` Computes the sum of x-y where x and y are vectors\n",
       "\n",
       "## Example\n",
       "\n",
       "```\n",
       "x = [1 2 3]\n",
       "y = [3 2 1]\n",
       "@show sumdiff(x,y)\n",
       "```\n"
      ]
     },
     "execution_count": 2,
     "metadata": {},
     "output_type": "execute_result"
    }
   ],
   "source": [
    "?sumdiff"
   ]
  },
  {
   "cell_type": "code",
   "execution_count": 3,
   "metadata": {
    "collapsed": false
   },
   "outputs": [
    {
     "name": "stdout",
     "output_type": "stream",
     "text": [
      "sumdiff(x,y) = 0.0\n"
     ]
    },
    {
     "data": {
      "text/plain": [
       "0.0"
      ]
     },
     "execution_count": 3,
     "metadata": {},
     "output_type": "execute_result"
    }
   ],
   "source": [
    "x = [1 2 3]\n",
    "y = [3 2 1]\n",
    "@show sumdiff(x,y)"
   ]
  },
  {
   "cell_type": "code",
   "execution_count": 4,
   "metadata": {
    "collapsed": false
   },
   "outputs": [
    {
     "data": {
      "text/plain": [
       "0"
      ]
     },
     "execution_count": 4,
     "metadata": {},
     "output_type": "execute_result"
    }
   ],
   "source": [
    "sum(x-y)"
   ]
  },
  {
   "cell_type": "code",
   "execution_count": 6,
   "metadata": {
    "collapsed": false
   },
   "outputs": [
    {
     "ename": "LoadError",
     "evalue": "LoadError: BoundsError: attempt to access 1x5 Array{Int64,2}:\n 1  2  3  4  5\n  at index [6]\nwhile loading In[6], in expression starting on line 1",
     "output_type": "error",
     "traceback": [
      "LoadError: BoundsError: attempt to access 1x5 Array{Int64,2}:\n 1  2  3  4  5\n  at index [6]\nwhile loading In[6], in expression starting on line 1",
      "",
      " in sumdiff at In[1]:24"
     ]
    }
   ],
   "source": [
    "sumdiff([1,2,3,4,5,7,8,9],[1 2 3 4 5])"
   ]
  },
  {
   "cell_type": "code",
   "execution_count": 15,
   "metadata": {
    "collapsed": false
   },
   "outputs": [
    {
     "ename": "LoadError",
     "evalue": "LoadError: UndefVarError: x not defined\nwhile loading In[15], in expression starting on line 8",
     "output_type": "error",
     "traceback": [
      "LoadError: UndefVarError: x not defined\nwhile loading In[15], in expression starting on line 8",
      "",
      " in diagsolve at In[15]:3"
     ]
    }
   ],
   "source": [
    "function diagsolve(A,b)\n",
    "    for i=1:length(b)\n",
    "        x[i] = b[i] / A[i]\n",
    "    end\n",
    "end\n",
    "A = diagm([2,3,4.])\n",
    "b = [1. 1. 1.]\n",
    "diagsolve(A,b)"
   ]
  }
 ],
 "metadata": {
  "kernelspec": {
   "display_name": "Julia 0.4.6",
   "language": "julia",
   "name": "julia-0.4"
  },
  "language_info": {
   "file_extension": ".jl",
   "mimetype": "application/julia",
   "name": "julia",
   "version": "0.4.6"
  }
 },
 "nbformat": 4,
 "nbformat_minor": 0
}
