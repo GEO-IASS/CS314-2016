{
 "cells": [
  {
   "cell_type": "markdown",
   "metadata": {},
   "source": [
    "## A Monte Carlo simulation of the Monty Hall Problem\n",
    "Consider the following game. You have a choice of three doors. Behind one door is a car. Behind the other two doors are goats. After you pick your door, the host, Monty Hall, will show you what is behind one of the other two doors. Should you switch your door at this point? \n",
    "\n",
    "Marilyn vos Savant, who had the higher IQ on record, asserted that you should switch your door. Legions of mathematics Ph.D. dissented.\n",
    "\n",
    "Who was right? Let's do a Monte Carlo simulation to find out!"
   ]
  },
  {
   "cell_type": "markdown",
   "metadata": {},
   "source": [
    "### Case 1\n",
    "The case where you don't switch! In this case, it's really easy.  It doesn't matter which door Monty shows us because we stay with our original choice."
   ]
  },
  {
   "cell_type": "code",
   "execution_count": 2,
   "metadata": {
    "collapsed": false
   },
   "outputs": [
    {
     "data": {
      "text/plain": [
       "monty_hall_stay (generic function with 1 method)"
      ]
     },
     "execution_count": 2,
     "metadata": {},
     "output_type": "execute_result"
    }
   ],
   "source": [
    "function monty_hall_stay()\n",
    "    door_car = rand(1:3)\n",
    "    door_pick = rand(1:3)\n",
    "    if door_pick == door_car\n",
    "        return 1\n",
    "    else\n",
    "        return 0\n",
    "    end\n",
    "end"
   ]
  },
  {
   "cell_type": "code",
   "execution_count": 3,
   "metadata": {
    "collapsed": false
   },
   "outputs": [
    {
     "data": {
      "text/plain": [
       "0.3348"
      ]
     },
     "execution_count": 3,
     "metadata": {},
     "output_type": "execute_result"
    }
   ],
   "source": [
    "wins = 0\n",
    "ntrials = 10000\n",
    "for i=1:ntrials\n",
    "    wins += monty_hall_stay()\n",
    "end\n",
    "wins/ntrials"
   ]
  },
  {
   "cell_type": "markdown",
   "metadata": {},
   "source": [
    "### Case 2\n",
    "The case where you do switch! In this case, we have to be careful about what goes where. The `setdiff` function helps us remove choices. It's like set subtraction. So `setdiff([1;2;3],door_car)` removes the element `door_car` from the set `1,2,3`, which tells us exactly where the goats are."
   ]
  },
  {
   "cell_type": "code",
   "execution_count": 19,
   "metadata": {
    "collapsed": false
   },
   "outputs": [
    {
     "data": {
      "text/plain": [
       "monty_hall_switch (generic function with 1 method)"
      ]
     },
     "execution_count": 19,
     "metadata": {},
     "output_type": "execute_result"
    }
   ],
   "source": [
    "function monty_hall_switch()\n",
    "    door_car = rand(1:3)\n",
    "    door_pick = rand(1:3)\n",
    "    door_goats = setdiff([1;2;3],door_car)\n",
    "    if door_pick == door_car\n",
    "        door_show = rand(door_goats)\n",
    "    else\n",
    "        door_show = setdiff(door_goats,door_pick)\n",
    "    end\n",
    "    door_switch = setdiff([1;2;3],[door_pick;door_show])[1]\n",
    "    #@show door_car, door_pick, door_show, door_goats, door_switch\n",
    "    door_pick = door_switch\n",
    "    if door_pick == door_car\n",
    "        return 1\n",
    "    else\n",
    "        return 0\n",
    "    end\n",
    "end"
   ]
  },
  {
   "cell_type": "code",
   "execution_count": 27,
   "metadata": {
    "collapsed": false
   },
   "outputs": [
    {
     "data": {
      "text/plain": [
       "0.6655"
      ]
     },
     "execution_count": 27,
     "metadata": {},
     "output_type": "execute_result"
    }
   ],
   "source": [
    "wins = 0\n",
    "ntrials = 10000\n",
    "for i=1:ntrials\n",
    "    wins += monty_hall_switch()\n",
    "end\n",
    "wins/ntrials"
   ]
  }
 ],
 "metadata": {
  "kernelspec": {
   "display_name": "Julia 0.4.6",
   "language": "julia",
   "name": "julia-0.4"
  },
  "language_info": {
   "file_extension": ".jl",
   "mimetype": "application/julia",
   "name": "julia",
   "version": "0.4.6"
  }
 },
 "nbformat": 4,
 "nbformat_minor": 0
}
