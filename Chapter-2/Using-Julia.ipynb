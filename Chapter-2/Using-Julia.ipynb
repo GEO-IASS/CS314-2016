{
 "cells": [
  {
   "cell_type": "markdown",
   "metadata": {},
   "source": [
    "_This text is adapted from Numerical Methods by Greenbaum and Chartier and is meant as a Julia-based analogue to their chapter on Matlab._\n",
    "\n",
    "Julia is a high-level programming language that can be used for any technical or numerical computing problem, but is especially well-suited to linear algebra computations. It is also a powerful general-purpose programming language in its own right. \n",
    "\n",
    "In this course, we think that `juliabox.com` is the best way to run Julia. This uses the `jupyter notebook` interface that enables us to insert commands and see their results.\n",
    "\n",
    "To use this, enter `juliabox.com` in your browser.\n",
    "\n",
    "_(Note, there is an older `juliabox.org` website that serves the same purpose, but please use `juliabox.com` for CS314 at Purdue in Fall 2016.)_\n",
    "\n",
    "You should see the following webpage."
   ]
  },
  {
   "cell_type": "markdown",
   "metadata": {},
   "source": [
    "<img src=\"juliabox-page-1.png\" alt=\"The juliabox home page\" title=\"Juliabox homepage\">"
   ]
  },
  {
   "cell_type": "markdown",
   "metadata": {},
   "source": [
    "At this point, you need to login to juliabox. I do it via Google, which uses your google id, but has no other access to your account.\n",
    "\n",
    "Once you do that, you'll get to the file browser. "
   ]
  },
  {
   "cell_type": "markdown",
   "metadata": {},
   "source": [
    "<img src=\"juliabox-page-2.png\" alt=\"The juliabox file browser page\" title=\"Juliabox file browser\">"
   ]
  },
  {
   "cell_type": "markdown",
   "metadata": {},
   "source": [
    "This allows you to create new notebooks (the New button at the upper-right...) or work through a directory structure. All the files are stored on Google's cloud and saved so that they'll be there if you return. You can upload files through the \"Files\" button at top.\n",
    "\n",
    "The *Tutorial* is placed by default in every new juliabox setup. (Only once though, if you delete it, I don't know how to get it back right now.)  This is a good place to start. If you click on the tutorial, you'll get a list of notebooks."
   ]
  },
  {
   "cell_type": "markdown",
   "metadata": {},
   "source": [
    "<img src=\"juliabox-page-3.png\" alt=\"The juliabox tutorial folder\" title=\"Juliabox tutorial folder\">"
   ]
  },
  {
   "cell_type": "markdown",
   "metadata": {
    "collapsed": true
   },
   "source": [
    "Once you click on a notebook (say the 00 - Start Tutorial.ipnb file), then you'll start a notebook!"
   ]
  },
  {
   "cell_type": "markdown",
   "metadata": {},
   "source": [
    "<img src=\"juliabox-page-4.png\" alt=\"The juliabox file browser page\" title=\"Juliabox file browser\">"
   ]
  },
  {
   "cell_type": "markdown",
   "metadata": {},
   "source": [
    "Actually, this file is a notebook itself, so we can type commands just the same way!\n",
    "\n",
    "These examples now follow your textbook. To create a new \"cell\", go to \"Insert Cell Below\" and you'll get your own area to type commands"
   ]
  },
  {
   "cell_type": "code",
   "execution_count": 12,
   "metadata": {
    "collapsed": false
   },
   "outputs": [
    {
     "data": {
      "text/plain": [
       "7"
      ]
     },
     "execution_count": 12,
     "metadata": {},
     "output_type": "execute_result"
    }
   ],
   "source": [
    "1+2*3"
   ]
  },
  {
   "cell_type": "code",
   "execution_count": 13,
   "metadata": {
    "collapsed": false
   },
   "outputs": [
    {
     "data": {
      "text/plain": [
       "1.75"
      ]
     },
     "execution_count": 13,
     "metadata": {},
     "output_type": "execute_result"
    }
   ],
   "source": [
    "ans/4"
   ]
  },
  {
   "cell_type": "markdown",
   "metadata": {},
   "source": [
    "## Section 2.2 - Vectors\n",
    "\n",
    "At this point, we are going to switch back and show how to do the commands in the book"
   ]
  },
  {
   "cell_type": "code",
   "execution_count": 91,
   "metadata": {
    "collapsed": false
   },
   "outputs": [
    {
     "data": {
      "text/plain": [
       "4-element Array{Int64,1}:\n",
       " 1\n",
       " 2\n",
       " 3\n",
       " 4"
      ]
     },
     "execution_count": 91,
     "metadata": {},
     "output_type": "execute_result"
    }
   ],
   "source": [
    "v = [1; 2; 3; 4]"
   ]
  },
  {
   "cell_type": "code",
   "execution_count": 92,
   "metadata": {
    "collapsed": false
   },
   "outputs": [
    {
     "data": {
      "text/plain": [
       "4-element Array{Float64,1}:\n",
       " 1.0\n",
       " 2.0\n",
       " 3.0\n",
       " 4.0"
      ]
     },
     "execution_count": 92,
     "metadata": {},
     "output_type": "execute_result"
    }
   ],
   "source": [
    "v = [1.; 2; 3; 4]"
   ]
  },
  {
   "cell_type": "code",
   "execution_count": 93,
   "metadata": {
    "collapsed": false
   },
   "outputs": [
    {
     "data": {
      "text/plain": [
       "1x4 Array{Int64,2}:\n",
       " 5  6  7  8"
      ]
     },
     "execution_count": 93,
     "metadata": {},
     "output_type": "execute_result"
    }
   ],
   "source": [
    "w = [5 6 7 8]"
   ]
  },
  {
   "cell_type": "code",
   "execution_count": 94,
   "metadata": {
    "collapsed": false
   },
   "outputs": [
    {
     "data": {
      "text/plain": [
       "1x4 Array{Float64,2}:\n",
       " 5.0  6.0  7.0  8.0"
      ]
     },
     "execution_count": 94,
     "metadata": {},
     "output_type": "execute_result"
    }
   ],
   "source": [
    "w = map(Float64,[5 6 7 8]) # convert to Float64"
   ]
  },
  {
   "cell_type": "code",
   "execution_count": 95,
   "metadata": {
    "collapsed": false
   },
   "outputs": [
    {
     "data": {
      "text/plain": [
       "2.0"
      ]
     },
     "execution_count": 95,
     "metadata": {},
     "output_type": "execute_result"
    }
   ],
   "source": [
    "v[2]"
   ]
  },
  {
   "cell_type": "code",
   "execution_count": 96,
   "metadata": {
    "collapsed": false
   },
   "outputs": [
    {
     "data": {
      "text/plain": [
       "7.0"
      ]
     },
     "execution_count": 96,
     "metadata": {},
     "output_type": "execute_result"
    }
   ],
   "source": [
    "w[3]"
   ]
  },
  {
   "cell_type": "code",
   "execution_count": 97,
   "metadata": {
    "collapsed": false
   },
   "outputs": [
    {
     "ename": "LoadError",
     "evalue": "LoadError: DimensionMismatch(\"dimensions must match\")\nwhile loading In[97], in expression starting on line 1",
     "output_type": "error",
     "traceback": [
      "LoadError: DimensionMismatch(\"dimensions must match\")\nwhile loading In[97], in expression starting on line 1",
      "",
      " in promote_shape at operators.jl:211",
      " in + at arraymath.jl:96"
     ]
    }
   ],
   "source": [
    "v+w"
   ]
  },
  {
   "cell_type": "code",
   "execution_count": 98,
   "metadata": {
    "collapsed": false
   },
   "outputs": [
    {
     "data": {
      "text/plain": [
       "4x1 Array{Float64,2}:\n",
       "  6.0\n",
       "  8.0\n",
       " 10.0\n",
       " 12.0"
      ]
     },
     "execution_count": 98,
     "metadata": {},
     "output_type": "execute_result"
    }
   ],
   "source": [
    "v+w'"
   ]
  },
  {
   "cell_type": "code",
   "execution_count": 99,
   "metadata": {
    "collapsed": false
   },
   "outputs": [
    {
     "data": {
      "text/plain": [
       "4-element Array{Float64,1}:\n",
       "  6.0\n",
       "  8.0\n",
       " 10.0\n",
       " 12.0"
      ]
     },
     "execution_count": 99,
     "metadata": {},
     "output_type": "execute_result"
    }
   ],
   "source": [
    "vec(v+w')"
   ]
  },
  {
   "cell_type": "code",
   "execution_count": 100,
   "metadata": {
    "collapsed": false
   },
   "outputs": [
    {
     "data": {
      "text/plain": [
       "10.0"
      ]
     },
     "execution_count": 100,
     "metadata": {},
     "output_type": "execute_result"
    }
   ],
   "source": [
    "v[1]+v[2]+v[3]+v[4]"
   ]
  },
  {
   "cell_type": "code",
   "execution_count": 101,
   "metadata": {
    "collapsed": false
   },
   "outputs": [
    {
     "data": {
      "text/plain": [
       "10.0"
      ]
     },
     "execution_count": 101,
     "metadata": {},
     "output_type": "execute_result"
    }
   ],
   "source": [
    "sumv = 0.\n",
    "for i=1:4 \n",
    "    sumv = sumv+v[i]; \n",
    "end\n",
    "sumv"
   ]
  },
  {
   "cell_type": "markdown",
   "metadata": {},
   "source": [
    "## (Section 2.3) Getting help "
   ]
  },
  {
   "cell_type": "code",
   "execution_count": 4,
   "metadata": {
    "collapsed": false
   },
   "outputs": [
    {
     "name": "stdout",
     "output_type": "stream",
     "text": [
      "search: sum sum! sumabs summary sumabs2 sumabs! sum_kbn sumabs2! cumsum cumsum!\n",
      "\n"
     ]
    },
    {
     "data": {
      "text/markdown": [
       "```\n",
       "sum(A, dims)\n",
       "```\n",
       "\n",
       "Sum elements of an array over the given dimensions.\n",
       "\n",
       "```\n",
       "sum(itr)\n",
       "```\n",
       "\n",
       "Returns the sum of all elements in a collection.\n",
       "\n",
       "```\n",
       "sum(f, itr)\n",
       "```\n",
       "\n",
       "Sum the results of calling function `f` on each element of `itr`.\n"
      ],
      "text/plain": [
       "```\n",
       "sum(A, dims)\n",
       "```\n",
       "\n",
       "Sum elements of an array over the given dimensions.\n",
       "\n",
       "```\n",
       "sum(itr)\n",
       "```\n",
       "\n",
       "Returns the sum of all elements in a collection.\n",
       "\n",
       "```\n",
       "sum(f, itr)\n",
       "```\n",
       "\n",
       "Sum the results of calling function `f` on each element of `itr`.\n"
      ]
     },
     "execution_count": 4,
     "metadata": {},
     "output_type": "execute_result"
    }
   ],
   "source": [
    "?sum"
   ]
  },
  {
   "cell_type": "markdown",
   "metadata": {},
   "source": [
    "**David's note.**\n",
    "Julia's documentation is currently not as good as Matlab's :("
   ]
  },
  {
   "cell_type": "markdown",
   "metadata": {},
   "source": [
    "## Section 2.4 Matrices"
   ]
  },
  {
   "cell_type": "code",
   "execution_count": 7,
   "metadata": {
    "collapsed": false
   },
   "outputs": [
    {
     "data": {
      "text/plain": [
       "3x3 Array{Int64,2}:\n",
       " 1  2  3\n",
       " 4  5  6\n",
       " 7  8  0"
      ]
     },
     "execution_count": 7,
     "metadata": {},
     "output_type": "execute_result"
    }
   ],
   "source": [
    "A = [1 2 3; 4 5 6; 7 8 0]"
   ]
  },
  {
   "cell_type": "code",
   "execution_count": 8,
   "metadata": {
    "collapsed": false
   },
   "outputs": [
    {
     "data": {
      "text/plain": [
       "3-element Array{Int64,1}:\n",
       " 0\n",
       " 1\n",
       " 2"
      ]
     },
     "execution_count": 8,
     "metadata": {},
     "output_type": "execute_result"
    }
   ],
   "source": [
    "b = [0; 1; 2]"
   ]
  },
  {
   "cell_type": "code",
   "execution_count": 9,
   "metadata": {
    "collapsed": false
   },
   "outputs": [
    {
     "data": {
      "text/plain": [
       "3-element Array{Float64,1}:\n",
       "  0.666667\n",
       " -0.333333\n",
       " -0.0     "
      ]
     },
     "execution_count": 9,
     "metadata": {},
     "output_type": "execute_result"
    }
   ],
   "source": [
    "x = A\\b"
   ]
  },
  {
   "cell_type": "markdown",
   "metadata": {},
   "source": [
    "Show a full precision answer. This is slightly easier in Matlab. "
   ]
  },
  {
   "cell_type": "code",
   "execution_count": 11,
   "metadata": {
    "collapsed": false
   },
   "outputs": [
    {
     "name": "stdout",
     "output_type": "stream",
     "text": [
      "6.6666666666666663e-01\n",
      "-3.3333333333333331e-01\n",
      "-0.0000000000000000e+00\n"
     ]
    }
   ],
   "source": [
    "for i=1:length(x) \n",
    "    @printf(\"%.16e\\n\", x[i])\n",
    "end"
   ]
  },
  {
   "cell_type": "code",
   "execution_count": 107,
   "metadata": {
    "collapsed": false
   },
   "outputs": [
    {
     "data": {
      "text/plain": [
       "3-element Array{Float64,1}:\n",
       "  0.666667\n",
       " -0.333333\n",
       " -0.0     "
      ]
     },
     "execution_count": 107,
     "metadata": {},
     "output_type": "execute_result"
    }
   ],
   "source": [
    "x"
   ]
  },
  {
   "cell_type": "code",
   "execution_count": 108,
   "metadata": {
    "collapsed": false
   },
   "outputs": [
    {
     "data": {
      "text/plain": [
       "3-element Array{Float64,1}:\n",
       " 0.0        \n",
       " 0.0        \n",
       " 4.44089e-16"
      ]
     },
     "execution_count": 108,
     "metadata": {},
     "output_type": "execute_result"
    }
   ],
   "source": [
    "b - A*x"
   ]
  },
  {
   "cell_type": "markdown",
   "metadata": {},
   "source": [
    "## Section 2.6 Comments"
   ]
  },
  {
   "cell_type": "code",
   "execution_count": 109,
   "metadata": {
    "collapsed": false
   },
   "outputs": [
    {
     "data": {
      "text/plain": [
       "3-element Array{Float64,1}:\n",
       "  0.666667\n",
       " -0.333333\n",
       " -0.0     "
      ]
     },
     "execution_count": 109,
     "metadata": {},
     "output_type": "execute_result"
    }
   ],
   "source": [
    "#Section 2.6 Comments\n",
    "#Solve Ax = b \n",
    "x = A\\b # this solves Ax=b and stores the result for x"
   ]
  },
  {
   "cell_type": "markdown",
   "metadata": {},
   "source": [
    "## Warning\n",
    "We are still editing the section below this! "
   ]
  },
  {
   "cell_type": "code",
   "execution_count": 114,
   "metadata": {
    "collapsed": false
   },
   "outputs": [
    {
     "data": {
      "text/plain": [
       "f (generic function with 1 method)"
      ]
     },
     "execution_count": 114,
     "metadata": {},
     "output_type": "execute_result"
    }
   ],
   "source": [
    "#2.8 Creating your own functions\n",
    "f(x) = x^2 + 2x"
   ]
  },
  {
   "cell_type": "code",
   "execution_count": 115,
   "metadata": {
    "collapsed": false
   },
   "outputs": [
    {
     "data": {
      "text/plain": [
       "35"
      ]
     },
     "execution_count": 115,
     "metadata": {},
     "output_type": "execute_result"
    }
   ],
   "source": [
    "f(5)\n"
   ]
  },
  {
   "cell_type": "code",
   "execution_count": 116,
   "metadata": {
    "collapsed": false
   },
   "outputs": [
    {
     "data": {
      "text/plain": [
       "6-element Array{Int64,1}:\n",
       "  0\n",
       "  3\n",
       "  8\n",
       " 15\n",
       " 24\n",
       " 35"
      ]
     },
     "execution_count": 116,
     "metadata": {},
     "output_type": "execute_result"
    }
   ],
   "source": [
    "map(f, 0:1:5)"
   ]
  },
  {
   "cell_type": "code",
   "execution_count": 117,
   "metadata": {
    "collapsed": false
   },
   "outputs": [
    {
     "data": {
      "text/plain": [
       "(anonymous function)"
      ]
     },
     "execution_count": 117,
     "metadata": {},
     "output_type": "execute_result"
    }
   ],
   "source": [
    "x -> x^2 + 2x #Anonymous function"
   ]
  },
  {
   "cell_type": "code",
   "execution_count": 118,
   "metadata": {
    "collapsed": false
   },
   "outputs": [
    {
     "data": {
      "text/plain": [
       "6-element Array{Int64,1}:\n",
       "  0\n",
       "  3\n",
       "  8\n",
       " 15\n",
       " 24\n",
       " 35"
      ]
     },
     "execution_count": 118,
     "metadata": {},
     "output_type": "execute_result"
    }
   ],
   "source": [
    "map(x -> x^2 + 2x, 0:1:5)\n"
   ]
  },
  {
   "cell_type": "code",
   "execution_count": 119,
   "metadata": {
    "collapsed": false
   },
   "outputs": [
    {
     "name": "stdout",
     "output_type": "stream",
     "text": [
      "0.0:0.5:2.0"
     ]
    }
   ],
   "source": [
    "#2.9 Printing\n",
    "x = 0:.5:2\n",
    "print(x)\n"
   ]
  },
  {
   "cell_type": "code",
   "execution_count": 124,
   "metadata": {
    "collapsed": false
   },
   "outputs": [
    {
     "name": "stdout",
     "output_type": "stream",
     "text": [
      "x = [0.0,0.5,1.0,1.5,2.0]"
     ]
    }
   ],
   "source": [
    "@printf(\"x = %s\" ,collect(x))\n"
   ]
  },
  {
   "cell_type": "code",
   "execution_count": 125,
   "metadata": {
    "collapsed": false
   },
   "outputs": [
    {
     "name": "stdout",
     "output_type": "stream",
     "text": [
      "      Score1            Score2             Score3 \n",
      "[0.32211092471714275 0.5075976888863105 0.916080364548784\n",
      " 0.2945150815604498 0.8095561821604225 0.038854828692170607\n",
      " 0.22095166747559625 0.7457964790998437 0.9383063722746723\n",
      " 0.5171533339610654 0.4778154207659637 0.03573940173467305\n",
      " 0.15285539705109175 0.7385150097727968 0.8777448778450923]\n"
     ]
    }
   ],
   "source": [
    "y = rand(5,3)\n",
    "println(\"      Score1            Score2             Score3 \")\n",
    "println(\"$y\")"
   ]
  },
  {
   "cell_type": "code",
   "execution_count": 126,
   "metadata": {
    "collapsed": false
   },
   "outputs": [
    {
     "name": "stdout",
     "output_type": "stream",
     "text": [
      "      x \t\t sqrt(x) \n",
      "=====================================\n",
      "1.000000 \t\t 1.000000\n",
      "2.000000 \t\t 1.414214\n",
      "3.000000 \t\t 1.732051\n",
      "4.000000 \t\t 2.000000\n",
      "5.000000 \t\t 2.236068\n"
     ]
    }
   ],
   "source": [
    "println(\"      x \\t\\t sqrt(x) \\n=====================================\")\n",
    "for x=1:5\n",
    "    @printf(\"%f \\t\\t %f\\n\",x, sqrt(x))   #formating string\n",
    "end"
   ]
  },
  {
   "cell_type": "code",
   "execution_count": null,
   "metadata": {
    "collapsed": false
   },
   "outputs": [
    {
     "name": "stdout",
     "output_type": "stream",
     "text": [
      "Enter initial xmin STDIN> 10\n",
      "Enter initial xmax STDIN> 20\n",
      "Enter tolerance STDIN> 1\n",
      "[Plots.jl] Initializing backend: pyplot\n"
     ]
    },
    {
     "name": "stderr",
     "output_type": "stream",
     "text": [
      "WARNING: No working GUI backend found for matplotlib.\n"
     ]
    },
    {
     "name": "stdout",
     "output_type": "stream",
     "text": [
      "Enter new value for xmin "
     ]
    }
   ],
   "source": [
    "#2.10 More Loops and Conditionals\n",
    "using Plots\n",
    "print(\"Enter initial xmin \")\n",
    "xmin = parse(Float64, readline())\n",
    "print(\"Enter initial xmax \")\n",
    "xmax = parse(Float64, readline())\n",
    "print(\"Enter tolerance \")\n",
    "tolerance = parse(Float64, readline())\n",
    "\n",
    "while xmax - xmin > tolerance\n",
    "  x = collect(xmin:(xmax-xmin)/100:xmax)\n",
    "  y = map(x->x^2, x)\n",
    "  plot!(x,y)\n",
    "  print(\"Enter new value for xmin \")\n",
    "  xmin = parse(Float64, readline())\n",
    "  print(\"Enter new value for xmax \")\n",
    "  xmax = parse(Float64, readline())\n",
    "end"
   ]
  },
  {
   "cell_type": "code",
   "execution_count": null,
   "metadata": {
    "collapsed": true
   },
   "outputs": [],
   "source": []
  }
 ],
 "metadata": {
  "kernelspec": {
   "display_name": "Julia 0.4.6",
   "language": "julia",
   "name": "julia-0.4"
  },
  "language_info": {
   "file_extension": ".jl",
   "mimetype": "application/julia",
   "name": "julia",
   "version": "0.4.6"
  }
 },
 "nbformat": 4,
 "nbformat_minor": 0
}
