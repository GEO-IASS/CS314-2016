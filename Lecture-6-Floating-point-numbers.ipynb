{
 "cells": [
  {
   "cell_type": "code",
   "execution_count": 56,
   "metadata": {
    "collapsed": false
   },
   "outputs": [],
   "source": [
    "include(\"float-help.jl\")"
   ]
  },
  {
   "cell_type": "code",
   "execution_count": 60,
   "metadata": {
    "collapsed": false
   },
   "outputs": [
    {
     "name": "stdout",
     "output_type": "stream",
     "text": [
      "The computer representation of a + b is:\n",
      "\u001b[1m\u001b[31m0\u001b[0m\u001b[7m\u001b[32m01111111111\u001b[0m\u001b[4m\u001b[34m0000000000000000000000000000000000000000000000000000\u001b[0m\n",
      "  which decodes to \n",
      "  | sign |   exponent  |    mantissa    \n",
      "     \u001b[1m\u001b[31m0\u001b[0m     \u001b[7m\u001b[32m01111111111\u001b[0m   \u001b[4m\u001b[34m0000000000000000000000000000000000000000000000000000\u001b[0m\n",
      "= (-1)^(0) x 2^(   +0)   x 1.00000000000000000 = 1  \n",
      "\n"
     ]
    }
   ],
   "source": [
    "a = 1/3\n",
    "b = 2/3\n",
    "@show_float a+b\n",
    "println()"
   ]
  },
  {
   "cell_type": "code",
   "execution_count": 61,
   "metadata": {
    "collapsed": false
   },
   "outputs": [
    {
     "name": "stdout",
     "output_type": "stream",
     "text": [
      "The computer representation of a + b is:\n",
      "\u001b[1m\u001b[31m0\u001b[0m\u001b[7m\u001b[32m01111111110\u001b[0m\u001b[4m\u001b[34m0110011001100110011001100110011001100110011001100110\u001b[0m\n",
      "  which decodes to \n",
      "  | sign |   exponent  |    mantissa    \n",
      "     \u001b[1m\u001b[31m0\u001b[0m     \u001b[7m\u001b[32m01111111110\u001b[0m   \u001b[4m\u001b[34m0110011001100110011001100110011001100110011001100110\u001b[0m\n",
      "= (-1)^(0) x 2^(   -1)   x 1.39999999999999991 = 0.7 \n"
     ]
    }
   ],
   "source": [
    "a = 3/10\n",
    "b = 4/10\n",
    "@show_float a+b"
   ]
  }
 ],
 "metadata": {
  "kernelspec": {
   "display_name": "Julia 0.4.6",
   "language": "julia",
   "name": "julia-0.4"
  },
  "language_info": {
   "file_extension": ".jl",
   "mimetype": "application/julia",
   "name": "julia",
   "version": "0.4.6"
  }
 },
 "nbformat": 4,
 "nbformat_minor": 0
}
