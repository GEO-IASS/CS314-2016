{
 "cells": [
  {
   "cell_type": "code",
   "execution_count": 1,
   "metadata": {
    "collapsed": false
   },
   "outputs": [],
   "source": [
    "include(\"float-help.jl\")"
   ]
  },
  {
   "cell_type": "code",
   "execution_count": 2,
   "metadata": {
    "collapsed": false
   },
   "outputs": [
    {
     "name": "stdout",
     "output_type": "stream",
     "text": [
      "The computer representation of a + b is:\n",
      "  \u001b[1m\u001b[31m0\u001b[0m\u001b[7m\u001b[32m01111111111\u001b[0m\u001b[4m\u001b[34m0000000000000000000000000000000000000000000000000000\u001b[0m\n",
      "  which decodes to \n",
      "  | sign |   exponent  |    mantissa    \n",
      "     \u001b[1m\u001b[31m0\u001b[0m     \u001b[7m\u001b[32m01111111111\u001b[0m   \u001b[4m\u001b[34m0000000000000000000000000000000000000000000000000000\u001b[0m\n",
      "= (-1)^(0) x 2^(   +0)   x 1.00000000000000000 = 1  \n",
      "\n"
     ]
    }
   ],
   "source": [
    "a = 1/3\n",
    "b = 2/3\n",
    "@show_float a+b\n",
    "println()"
   ]
  },
  {
   "cell_type": "code",
   "execution_count": 3,
   "metadata": {
    "collapsed": false
   },
   "outputs": [
    {
     "name": "stdout",
     "output_type": "stream",
     "text": [
      "The computer representation of a + b is:\n",
      "  \u001b[1m\u001b[31m0\u001b[0m\u001b[7m\u001b[32m01111111110\u001b[0m\u001b[4m\u001b[34m0110011001100110011001100110011001100110011001100110\u001b[0m\n",
      "  which decodes to \n",
      "  | sign |   exponent  |    mantissa    \n",
      "     \u001b[1m\u001b[31m0\u001b[0m     \u001b[7m\u001b[32m01111111110\u001b[0m   \u001b[4m\u001b[34m0110011001100110011001100110011001100110011001100110\u001b[0m\n",
      "= (-1)^(0) x 2^(   -1)   x 1.39999999999999991 = 0.7 \n"
     ]
    }
   ],
   "source": [
    "a = 3/10\n",
    "b = 4/10\n",
    "@show_float a+b"
   ]
  },
  {
   "cell_type": "code",
   "execution_count": 4,
   "metadata": {
    "collapsed": false
   },
   "outputs": [
    {
     "name": "stdout",
     "output_type": "stream",
     "text": [
      "The computer representation of Inf is:\n",
      "  \u001b[1m\u001b[31m0\u001b[0m\u001b[7m\u001b[32m11111111111\u001b[0m\u001b[4m\u001b[34m0000000000000000000000000000000000000000000000000000\u001b[0m\n",
      "  which decodes to \n",
      "  | sign |   exponent  |    mantissa    \n",
      "     \u001b[1m\u001b[31m0\u001b[0m     \u001b[7m\u001b[32m11111111111\u001b[0m   \u001b[4m\u001b[34m0000000000000000000000000000000000000000000000000000\u001b[0m\n",
      "= (-1)^(0) x 2^( Inf)   x 1.00000000000000000 = Inf \n"
     ]
    }
   ],
   "source": [
    "@show_float Inf"
   ]
  },
  {
   "cell_type": "code",
   "execution_count": 5,
   "metadata": {
    "collapsed": false
   },
   "outputs": [
    {
     "name": "stdout",
     "output_type": "stream",
     "text": [
      "The computer representation of NaN is:\n",
      "  \u001b[1m\u001b[31m0\u001b[0m\u001b[7m\u001b[32m11111111111\u001b[0m\u001b[4m\u001b[34m1000000000000000000000000000000000000000000000000000\u001b[0m\n",
      "  which decodes to \n",
      "  | sign |   exponent  |    mantissa    \n",
      "     \u001b[1m\u001b[31m0\u001b[0m     \u001b[7m\u001b[32m11111111111\u001b[0m   \u001b[4m\u001b[34m1000000000000000000000000000000000000000000000000000\u001b[0m\n",
      "= (-1)^(0) x 2^( Inf)   x 1.50000000000000000 = NaN \n"
     ]
    }
   ],
   "source": [
    "@show_float NaN"
   ]
  },
  {
   "cell_type": "code",
   "execution_count": 7,
   "metadata": {
    "collapsed": false
   },
   "outputs": [
    {
     "name": "stdout",
     "output_type": "stream",
     "text": [
      "The computer representation of Float64(pi) is:\n",
      "  \u001b[1m\u001b[31m0\u001b[0m\u001b[7m\u001b[32m10000000000\u001b[0m\u001b[4m\u001b[34m1001001000011111101101010100010001000010110100011000\u001b[0m\n",
      "  which decodes to \n",
      "  | sign |   exponent  |    mantissa    \n",
      "     \u001b[1m\u001b[31m0\u001b[0m     \u001b[7m\u001b[32m10000000000\u001b[0m   \u001b[4m\u001b[34m1001001000011111101101010100010001000010110100011000\u001b[0m\n",
      "= (-1)^(0) x 2^(   +1)   x 1.57079632679489656 = 3.14159 \n"
     ]
    }
   ],
   "source": [
    "@show_float Float64(pi)"
   ]
  },
  {
   "cell_type": "code",
   "execution_count": 8,
   "metadata": {
    "collapsed": false
   },
   "outputs": [
    {
     "name": "stdout",
     "output_type": "stream",
     "text": [
      "The computer representation of -Inf is:\n",
      "  \u001b[1m\u001b[31m1\u001b[0m\u001b[7m\u001b[32m11111111111\u001b[0m\u001b[4m\u001b[34m0000000000000000000000000000000000000000000000000000\u001b[0m\n",
      "  which decodes to \n",
      "  | sign |   exponent  |    mantissa    \n",
      "     \u001b[1m\u001b[31m1\u001b[0m     \u001b[7m\u001b[32m11111111111\u001b[0m   \u001b[4m\u001b[34m0000000000000000000000000000000000000000000000000000\u001b[0m\n",
      "= (-1)^(1) x 2^( Inf)   x 1.00000000000000000 = -Inf \n"
     ]
    }
   ],
   "source": [
    "@show_float -Inf"
   ]
  },
  {
   "cell_type": "code",
   "execution_count": 9,
   "metadata": {
    "collapsed": false
   },
   "outputs": [
    {
     "name": "stdout",
     "output_type": "stream",
     "text": [
      "The computer representation of -NaN is:\n",
      "  \u001b[1m\u001b[31m1\u001b[0m\u001b[7m\u001b[32m11111111111\u001b[0m\u001b[4m\u001b[34m1000000000000000000000000000000000000000000000000000\u001b[0m\n",
      "  which decodes to \n",
      "  | sign |   exponent  |    mantissa    \n",
      "     \u001b[1m\u001b[31m1\u001b[0m     \u001b[7m\u001b[32m11111111111\u001b[0m   \u001b[4m\u001b[34m1000000000000000000000000000000000000000000000000000\u001b[0m\n",
      "= (-1)^(1) x 2^( Inf)   x 1.50000000000000000 = NaN \n"
     ]
    }
   ],
   "source": [
    "@show_float -NaN"
   ]
  },
  {
   "cell_type": "code",
   "execution_count": 10,
   "metadata": {
    "collapsed": false
   },
   "outputs": [
    {
     "name": "stdout",
     "output_type": "stream",
     "text": [
      "The computer representation of 0.0 is:\n",
      "  \u001b[1m\u001b[31m0\u001b[0m\u001b[7m\u001b[32m00000000000\u001b[0m\u001b[4m\u001b[34m0000000000000000000000000000000000000000000000000000\u001b[0m\n",
      "  which decodes to \n",
      "  | sign |   exponent  |    mantissa    \n",
      "     \u001b[1m\u001b[31m0\u001b[0m     \u001b[7m\u001b[32m00000000000\u001b[0m   \u001b[4m\u001b[34m0000000000000000000000000000000000000000000000000000\u001b[0m\n",
      "= (-1)^(0) x 2^(-1022)   x 0.00000000000000000 = 0  \n"
     ]
    }
   ],
   "source": [
    "@show_float 0."
   ]
  },
  {
   "cell_type": "code",
   "execution_count": 11,
   "metadata": {
    "collapsed": false
   },
   "outputs": [
    {
     "name": "stdout",
     "output_type": "stream",
     "text": [
      "The computer representation of -0.0 is:\n",
      "  \u001b[1m\u001b[31m1\u001b[0m\u001b[7m\u001b[32m00000000000\u001b[0m\u001b[4m\u001b[34m0000000000000000000000000000000000000000000000000000\u001b[0m\n",
      "  which decodes to \n",
      "  | sign |   exponent  |    mantissa    \n",
      "     \u001b[1m\u001b[31m1\u001b[0m     \u001b[7m\u001b[32m00000000000\u001b[0m   \u001b[4m\u001b[34m0000000000000000000000000000000000000000000000000000\u001b[0m\n",
      "= (-1)^(1) x 2^(-1022)   x 0.00000000000000000 = -0  \n"
     ]
    }
   ],
   "source": [
    "@show_float -0."
   ]
  },
  {
   "cell_type": "code",
   "execution_count": 12,
   "metadata": {
    "collapsed": false
   },
   "outputs": [
    {
     "name": "stdout",
     "output_type": "stream",
     "text": [
      "The computer representation of 0.0 is:\n",
      "  \u001b[1m\u001b[31m0\u001b[0m\u001b[7m\u001b[32m00000000000\u001b[0m\u001b[4m\u001b[34m0000000000000000000000000000000000000000000000000000\u001b[0m\n",
      "  which decodes to \n",
      "  | sign |   exponent  |    mantissa    \n",
      "     \u001b[1m\u001b[31m0\u001b[0m     \u001b[7m\u001b[32m00000000000\u001b[0m   \u001b[4m\u001b[34m0000000000000000000000000000000000000000000000000000\u001b[0m\n",
      "= (-1)^(0) x 2^(-1022)   x 0.00000000000000000 = 0  \n"
     ]
    }
   ],
   "source": [
    "@show_float(0.)"
   ]
  },
  {
   "cell_type": "code",
   "execution_count": 13,
   "metadata": {
    "collapsed": false
   },
   "outputs": [
    {
     "name": "stdout",
     "output_type": "stream",
     "text": [
      "The computer representation of nextfloat(0.0) is:\n",
      "  \u001b[1m\u001b[31m0\u001b[0m\u001b[7m\u001b[32m00000000000\u001b[0m\u001b[4m\u001b[34m0000000000000000000000000000000000000000000000000001\u001b[0m\n",
      "  which decodes to \n",
      "  | sign |   exponent  |    mantissa    \n",
      "     \u001b[1m\u001b[31m0\u001b[0m     \u001b[7m\u001b[32m00000000000\u001b[0m   \u001b[4m\u001b[34m0000000000000000000000000000000000000000000000000001\u001b[0m\n",
      "= (-1)^(0) x 2^(-1022)   x 0.00000000000000022 = 4.94066e-324 \n"
     ]
    }
   ],
   "source": [
    "@show_float nextfloat(0.)"
   ]
  },
  {
   "cell_type": "code",
   "execution_count": 14,
   "metadata": {
    "collapsed": false
   },
   "outputs": [
    {
     "data": {
      "text/plain": [
       "2.220446049250313e-16"
      ]
     },
     "execution_count": 14,
     "metadata": {},
     "output_type": "execute_result"
    }
   ],
   "source": [
    "eps(1.)"
   ]
  },
  {
   "cell_type": "code",
   "execution_count": 15,
   "metadata": {
    "collapsed": false
   },
   "outputs": [
    {
     "data": {
      "text/plain": [
       "2.220446049250313e-16"
      ]
     },
     "execution_count": 15,
     "metadata": {},
     "output_type": "execute_result"
    }
   ],
   "source": [
    "eps()"
   ]
  },
  {
   "cell_type": "code",
   "execution_count": 16,
   "metadata": {
    "collapsed": false
   },
   "outputs": [
    {
     "data": {
      "text/plain": [
       "4.440892098500626e-16"
      ]
     },
     "execution_count": 16,
     "metadata": {},
     "output_type": "execute_result"
    }
   ],
   "source": [
    "eps(2.)"
   ]
  },
  {
   "cell_type": "code",
   "execution_count": 17,
   "metadata": {
    "collapsed": false
   },
   "outputs": [
    {
     "data": {
      "text/plain": [
       "5.0e-324"
      ]
     },
     "execution_count": 17,
     "metadata": {},
     "output_type": "execute_result"
    }
   ],
   "source": [
    "eps(0.)"
   ]
  },
  {
   "cell_type": "code",
   "execution_count": 18,
   "metadata": {
    "collapsed": false
   },
   "outputs": [
    {
     "data": {
      "text/plain": [
       "Inf"
      ]
     },
     "execution_count": 18,
     "metadata": {},
     "output_type": "execute_result"
    }
   ],
   "source": [
    "nextfloat(Inf)"
   ]
  },
  {
   "cell_type": "code",
   "execution_count": 19,
   "metadata": {
    "collapsed": false
   },
   "outputs": [
    {
     "data": {
      "text/plain": [
       "-1.7976931348623157e308"
      ]
     },
     "execution_count": 19,
     "metadata": {},
     "output_type": "execute_result"
    }
   ],
   "source": [
    "nextfloat(-Inf)"
   ]
  },
  {
   "cell_type": "code",
   "execution_count": null,
   "metadata": {
    "collapsed": true
   },
   "outputs": [],
   "source": []
  }
 ],
 "metadata": {
  "kernelspec": {
   "display_name": "Julia 0.4.6",
   "language": "julia",
   "name": "julia-0.4"
  },
  "language_info": {
   "file_extension": ".jl",
   "mimetype": "application/julia",
   "name": "julia",
   "version": "0.4.6"
  }
 },
 "nbformat": 4,
 "nbformat_minor": 0
}
