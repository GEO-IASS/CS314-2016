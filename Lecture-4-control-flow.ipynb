{
 "cells": [
  {
   "cell_type": "code",
   "execution_count": 4,
   "metadata": {
    "collapsed": false
   },
   "outputs": [],
   "source": [
    "x = Inf\n",
    "if x<1\n",
    "    @printf(\"x is smaller than 1\");\n",
    "end"
   ]
  },
  {
   "cell_type": "code",
   "execution_count": 6,
   "metadata": {
    "collapsed": false
   },
   "outputs": [
    {
     "name": "stdout",
     "output_type": "stream",
     "text": [
      "x is smaller than 1\n"
     ]
    }
   ],
   "source": [
    "x = 1.5\n",
    "if x<1\n",
    "    println(\"x is smaller than 1\")\n",
    "else\n",
    "    println(\"x is larger than or equal to 1\")\n",
    "end"
   ]
  },
  {
   "cell_type": "code",
   "execution_count": 7,
   "metadata": {
    "collapsed": false
   },
   "outputs": [
    {
     "name": "stdout",
     "output_type": "stream",
     "text": [
      "x is smaller than 1\n"
     ]
    }
   ],
   "source": [
    "x = -5\n",
    "if x < 1\n",
    "    println(\"x is smaller than 1\")\n",
    "elseif x < 0\n",
    "    println(\"x is smaller than 0\")\n",
    "else\n",
    "    println(\"x is larger than or equal to 1\")\n",
    "end"
   ]
  },
  {
   "cell_type": "code",
   "execution_count": 8,
   "metadata": {
    "collapsed": false
   },
   "outputs": [
    {
     "name": "stdout",
     "output_type": "stream",
     "text": [
      "x is smaller than 0\n"
     ]
    }
   ],
   "source": [
    "x = -5\n",
    "if x < 0\n",
    "    println(\"x is smaller than 0\")\n",
    "elseif x < 1\n",
    "    println(\"x is smaller than 1\")    \n",
    "else\n",
    "    println(\"x is larger than or equal to 1\")\n",
    "end"
   ]
  },
  {
   "cell_type": "code",
   "execution_count": 9,
   "metadata": {
    "collapsed": false
   },
   "outputs": [
    {
     "ename": "LoadError",
     "evalue": "LoadError: MethodError: `isless` has no method matching isless(::Array{Float64,2}, ::Int64)\nClosest candidates are:\n  isless(!Matched::AbstractFloat, ::Real)\n  isless(!Matched::Real, ::Real)\n  isless(!Matched::Char, ::Integer)\nwhile loading In[9], in expression starting on line 3",
     "output_type": "error",
     "traceback": [
      "LoadError: MethodError: `isless` has no method matching isless(::Array{Float64,2}, ::Int64)\nClosest candidates are:\n  isless(!Matched::AbstractFloat, ::Real)\n  isless(!Matched::Real, ::Real)\n  isless(!Matched::Char, ::Integer)\nwhile loading In[9], in expression starting on line 3",
      "",
      " in >= at operators.jl:37"
     ]
    }
   ],
   "source": [
    "# this is like Matlab and doesn't work\n",
    "x = [1. 2]\n",
    "if all(x >= 0) && all(x <= 5)\n",
    "    println(\"all elements between [0,5]\")\n",
    "end"
   ]
  },
  {
   "cell_type": "code",
   "execution_count": 11,
   "metadata": {
    "collapsed": false
   },
   "outputs": [],
   "source": [
    "# this is \"Julian\" and does work\n",
    "x = [1, 6]\n",
    "if all(x .>= 0) && all(x .<= 5) # notice the dots!\n",
    "    println(\"all elements between [0,5]\")\n",
    "end"
   ]
  },
  {
   "cell_type": "code",
   "execution_count": 16,
   "metadata": {
    "collapsed": false
   },
   "outputs": [
    {
     "data": {
      "text/plain": [
       "10"
      ]
     },
     "execution_count": 16,
     "metadata": {},
     "output_type": "execute_result"
    }
   ],
   "source": [
    "x = 0\n",
    "y = 5\n",
    "if x+y > 10 || x < 0\n",
    "    y = 0\n",
    "else\n",
    "    y = 10\n",
    "end\n"
   ]
  },
  {
   "cell_type": "code",
   "execution_count": 17,
   "metadata": {
    "collapsed": false
   },
   "outputs": [
    {
     "name": "stdout",
     "output_type": "stream",
     "text": [
      "i = 1\n",
      "end loop iteration\n",
      "i = 2\n",
      "end loop iteration\n",
      "i = 3\n",
      "end loop iteration\n",
      "i = 4\n",
      "end loop iteration\n",
      "i = 5\n",
      "end loop iteration\n",
      "i = 6\n",
      "end loop iteration\n",
      "i = 7\n",
      "end loop iteration\n",
      "i = 8\n",
      "end loop iteration\n",
      "i = 9\n",
      "end loop iteration\n",
      "i = 10\n",
      "end loop iteration\n"
     ]
    }
   ],
   "source": [
    "for i=1:10\n",
    "    @show i\n",
    "    println(\"end loop iteration\")\n",
    "end"
   ]
  },
  {
   "cell_type": "code",
   "execution_count": 18,
   "metadata": {
    "collapsed": false
   },
   "outputs": [
    {
     "name": "stdout",
     "output_type": "stream",
     "text": [
      "i = 1\n",
      "end loop iteration\n",
      "i = 2\n",
      "end loop iteration\n",
      "i = 3\n",
      "end loop iteration\n",
      "i = 4\n",
      "end loop iteration\n",
      "i = 5\n",
      "end loop iteration\n",
      "i = 6\n",
      "end loop iteration\n",
      "i = 7\n",
      "end loop iteration\n",
      "i = 8\n",
      "end loop iteration\n",
      "i = 9\n",
      "end loop iteration\n",
      "i = 10\n",
      "end loop iteration\n"
     ]
    }
   ],
   "source": [
    "v = 1:10\n",
    "for i in v\n",
    "    @show i\n",
    "    println(\"end loop iteration\")\n",
    "end"
   ]
  },
  {
   "cell_type": "code",
   "execution_count": 19,
   "metadata": {
    "collapsed": false
   },
   "outputs": [
    {
     "name": "stdout",
     "output_type": "stream",
     "text": [
      "i = 1\n",
      "end loop iteration\n",
      "i = 2\n",
      "end loop iteration\n",
      "i = 3\n",
      "end loop iteration\n",
      "i = 4\n",
      "end loop iteration\n",
      "i = 5\n",
      "end loop iteration\n",
      "i = 6\n",
      "end loop iteration\n",
      "i = 7\n",
      "end loop iteration\n",
      "i = 8\n",
      "end loop iteration\n",
      "i = 9\n",
      "end loop iteration\n",
      "i = 10\n",
      "end loop iteration\n"
     ]
    }
   ],
   "source": [
    "# There is no difference between \"=\" in a loop and \"in\"\n",
    "v = 1:10\n",
    "for i=v\n",
    "    @show i\n",
    "    println(\"end loop iteration\")\n",
    "end"
   ]
  },
  {
   "cell_type": "code",
   "execution_count": 20,
   "metadata": {
    "collapsed": false
   },
   "outputs": [
    {
     "ename": "LoadError",
     "evalue": "LoadError: indexed assignment not defined for UnitRange{Int64}\nwhile loading In[20], in expression starting on line 1",
     "output_type": "error",
     "traceback": [
      "LoadError: indexed assignment not defined for UnitRange{Int64}\nwhile loading In[20], in expression starting on line 1",
      "",
      " in setindex! at abstractarray.jl:592"
     ]
    }
   ],
   "source": [
    "v[5] = 10. # v isn't really a vector!\n"
   ]
  },
  {
   "cell_type": "code",
   "execution_count": 21,
   "metadata": {
    "collapsed": false
   },
   "outputs": [
    {
     "data": {
      "text/plain": [
       "10-element Array{Int64,1}:\n",
       "  1\n",
       "  2\n",
       "  3\n",
       "  4\n",
       "  5\n",
       "  6\n",
       "  7\n",
       "  8\n",
       "  9\n",
       " 10"
      ]
     },
     "execution_count": 21,
     "metadata": {},
     "output_type": "execute_result"
    }
   ],
   "source": [
    "x = collect(v) # turn this into a vector"
   ]
  },
  {
   "cell_type": "code",
   "execution_count": 22,
   "metadata": {
    "collapsed": false
   },
   "outputs": [
    {
     "data": {
      "text/plain": [
       "10.0"
      ]
     },
     "execution_count": 22,
     "metadata": {},
     "output_type": "execute_result"
    }
   ],
   "source": [
    "x[5] = 10."
   ]
  },
  {
   "cell_type": "code",
   "execution_count": 24,
   "metadata": {
    "collapsed": false
   },
   "outputs": [
    {
     "name": "stdout",
     "output_type": "stream",
     "text": [
      "x = [1,2,3,4,10,6,7,8,9,10]\n"
     ]
    },
    {
     "data": {
      "text/plain": [
       "10-element Array{Int64,1}:\n",
       "  1\n",
       "  2\n",
       "  3\n",
       "  4\n",
       " 10\n",
       "  6\n",
       "  7\n",
       "  8\n",
       "  9\n",
       " 10"
      ]
     },
     "execution_count": 24,
     "metadata": {},
     "output_type": "execute_result"
    }
   ],
   "source": [
    "@show x"
   ]
  },
  {
   "cell_type": "code",
   "execution_count": 23,
   "metadata": {
    "collapsed": false
   },
   "outputs": [
    {
     "name": "stdout",
     "output_type": "stream",
     "text": [
      "i = 1\n",
      "end loop iteration\n",
      "i = 2\n",
      "end loop iteration\n",
      "i = 3\n",
      "end loop iteration\n",
      "i = 4\n",
      "end loop iteration\n",
      "i = 10\n",
      "end loop iteration\n",
      "i = 6\n",
      "end loop iteration\n",
      "i = 7\n",
      "end loop iteration\n",
      "i = 8\n",
      "end loop iteration\n",
      "i = 9\n",
      "end loop iteration\n",
      "i = 10\n",
      "end loop iteration\n"
     ]
    }
   ],
   "source": [
    "for i=x\n",
    "    @show i\n",
    "    println(\"end loop iteration\")\n",
    "end"
   ]
  },
  {
   "cell_type": "code",
   "execution_count": null,
   "metadata": {
    "collapsed": true
   },
   "outputs": [],
   "source": []
  },
  {
   "cell_type": "code",
   "execution_count": 25,
   "metadata": {
    "collapsed": false
   },
   "outputs": [
    {
     "name": "stdout",
     "output_type": "stream",
     "text": [
      "[v' v' + 1] = [1 2 3 4 5 6 7 8 9 10 2 3 4 5 6 7 8 9 10 11]\n",
      "i = 1\n",
      "i = 2\n",
      "i = 3\n",
      "i = 4\n",
      "i = 5\n",
      "i = 6\n",
      "i = 7\n",
      "i = 8\n",
      "i = 9\n",
      "i = 10\n",
      "i = 2\n",
      "i = 3\n",
      "i = 4\n",
      "i = 5\n",
      "i = 6\n",
      "i = 7\n",
      "i = 8\n",
      "i = 9\n",
      "i = 10\n",
      "i = 11\n"
     ]
    }
   ],
   "source": [
    "# this is very different from Matlab now!\n",
    "@show [v' v'+1]\n",
    "for i=[v' v'+1] #\n",
    "    @show i\n",
    "end"
   ]
  },
  {
   "cell_type": "code",
   "execution_count": 26,
   "metadata": {
    "collapsed": false
   },
   "outputs": [
    {
     "name": "stdout",
     "output_type": "stream",
     "text": [
      "[x x + 1] = [1 2\n",
      " 2 3\n",
      " 3 4\n",
      " 4 5\n",
      " 10 11\n",
      " 6 7\n",
      " 7 8\n",
      " 8 9\n",
      " 9 10\n",
      " 10 11]\n",
      "i = 1\n",
      "i = 2\n",
      "i = 3\n",
      "i = 4\n",
      "i = 10\n",
      "i = 6\n",
      "i = 7\n",
      "i = 8\n",
      "i = 9\n",
      "i = 10\n",
      "i = 2\n",
      "i = 3\n",
      "i = 4\n",
      "i = 5\n",
      "i = 11\n",
      "i = 7\n",
      "i = 8\n",
      "i = 9\n",
      "i = 10\n",
      "i = 11\n"
     ]
    }
   ],
   "source": [
    "@show [x x+1]\n",
    "for i=[x x+1] #\n",
    "    @show i\n",
    "end"
   ]
  },
  {
   "cell_type": "code",
   "execution_count": 27,
   "metadata": {
    "collapsed": false
   },
   "outputs": [
    {
     "name": "stdout",
     "output_type": "stream",
     "text": [
      "[x';x' + 1] = [1 2 3 4 10 6 7 8 9 10\n",
      " 2 3 4 5 11 7 8 9 10 11]\n",
      "i = 1\n",
      "i = 2\n",
      "i = 2\n",
      "i = 3\n",
      "i = 3\n",
      "i = 4\n",
      "i = 4\n",
      "i = 5\n",
      "i = 10\n",
      "i = 11\n",
      "i = 6\n",
      "i = 7\n",
      "i = 7\n",
      "i = 8\n",
      "i = 8\n",
      "i = 9\n",
      "i = 9\n",
      "i = 10\n",
      "i = 10\n",
      "i = 11\n"
     ]
    }
   ],
   "source": [
    "@show [x'; x'+1]\n",
    "for i=[x'; x'+1] #\n",
    "    @show i\n",
    "end\n",
    "# we proceed through the array in column-wise order"
   ]
  },
  {
   "cell_type": "code",
   "execution_count": 30,
   "metadata": {
    "collapsed": false
   },
   "outputs": [
    {
     "ename": "LoadError",
     "evalue": "LoadError: InterruptException:\nwhile loading In[30], in expression starting on line 2",
     "output_type": "error",
     "traceback": [
      "LoadError: InterruptException:\nwhile loading In[30], in expression starting on line 2",
      "",
      " [inlined code] from In[30]:10",
      " in anonymous at no file:0"
     ]
    }
   ],
   "source": [
    "i = 0;\n",
    "while i < 10\n",
    "    if i == 5\n",
    "        break\n",
    "    end\n",
    "    if i == 4\n",
    "        #i = i+5 # comment out this line at your own risk!\n",
    "        continue\n",
    "    end\n",
    "    i = i+1\n",
    "end\n",
    "@show i"
   ]
  }
 ],
 "metadata": {
  "kernelspec": {
   "display_name": "Julia 0.4.6",
   "language": "julia",
   "name": "julia-0.4"
  },
  "language_info": {
   "file_extension": ".jl",
   "mimetype": "application/julia",
   "name": "julia",
   "version": "0.4.6"
  }
 },
 "nbformat": 4,
 "nbformat_minor": 0
}
