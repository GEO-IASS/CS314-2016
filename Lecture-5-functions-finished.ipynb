{
 "cells": [
  {
   "cell_type": "markdown",
   "metadata": {},
   "source": [
    "# Write two functions in Julia!\n",
    "We will write two functions in Julia to demonstrate how they work.\n",
    "\n",
    "The first function is \n",
    "`sumdiff`, which will sum up of differences between two vectors "
   ]
  },
  {
   "cell_type": "code",
   "execution_count": 9,
   "metadata": {
    "collapsed": false
   },
   "outputs": [
    {
     "data": {
      "text/plain": [
       "sumdiff (generic function with 1 method)"
      ]
     },
     "execution_count": 9,
     "metadata": {},
     "output_type": "execute_result"
    }
   ],
   "source": [
    "# this bit is all a comment / string. \n",
    "\"\"\"\n",
    "`sumdiff`\n",
    "=========\n",
    "computes the sum of differences between two vectors \n",
    "without creating a third vector in the middle.\n",
    "\n",
    "Functions\n",
    "---------\n",
    "- `sumdiff(x,y)` Computes the sum of x-y where x and y are vectors\n",
    "\n",
    "Example\n",
    "-------\n",
    "~~~~\n",
    "x = [1 2 3]\n",
    "y = [3 2 1]\n",
    "@show sumdiff(x,y)\n",
    "~~~~\n",
    "\"\"\"\n",
    "function sumdiff(x,y)\n",
    "    n = length(x)\n",
    "    @assert length(y) == n\n",
    "    d = 0.\n",
    "    for i=1:n\n",
    "        d += x[i] - y[i]\n",
    "    end\n",
    "    return d\n",
    "end"
   ]
  },
  {
   "cell_type": "code",
   "execution_count": 2,
   "metadata": {
    "collapsed": false
   },
   "outputs": [
    {
     "name": "stdout",
     "output_type": "stream",
     "text": [
      "search: sumdiff\n",
      "\n"
     ]
    },
    {
     "data": {
      "text/markdown": [
       "# `sumdiff`\n",
       "\n",
       "computes the sum of differences between two vectors  without creating a third vector in the middle.\n",
       "\n",
       "## Functions\n",
       "\n",
       "  * `sumdiff(x,y)` Computes the sum of x-y where x and y are vectors\n",
       "\n",
       "## Example\n",
       "\n",
       "```\n",
       "x = [1 2 3]\n",
       "y = [3 2 1]\n",
       "@show sumdiff(x,y)\n",
       "```\n"
      ],
      "text/plain": [
       "# `sumdiff`\n",
       "\n",
       "computes the sum of differences between two vectors  without creating a third vector in the middle.\n",
       "\n",
       "## Functions\n",
       "\n",
       "  * `sumdiff(x,y)` Computes the sum of x-y where x and y are vectors\n",
       "\n",
       "## Example\n",
       "\n",
       "```\n",
       "x = [1 2 3]\n",
       "y = [3 2 1]\n",
       "@show sumdiff(x,y)\n",
       "```\n"
      ]
     },
     "execution_count": 2,
     "metadata": {},
     "output_type": "execute_result"
    }
   ],
   "source": [
    "?sumdiff"
   ]
  },
  {
   "cell_type": "code",
   "execution_count": 3,
   "metadata": {
    "collapsed": false
   },
   "outputs": [
    {
     "name": "stdout",
     "output_type": "stream",
     "text": [
      "sumdiff(x,y) = 0.0\n"
     ]
    },
    {
     "data": {
      "text/plain": [
       "0.0"
      ]
     },
     "execution_count": 3,
     "metadata": {},
     "output_type": "execute_result"
    }
   ],
   "source": [
    "x = [1 2 3]\n",
    "y = [3 2 1]\n",
    "@show sumdiff(x,y)"
   ]
  },
  {
   "cell_type": "code",
   "execution_count": 4,
   "metadata": {
    "collapsed": false
   },
   "outputs": [
    {
     "data": {
      "text/plain": [
       "0"
      ]
     },
     "execution_count": 4,
     "metadata": {},
     "output_type": "execute_result"
    }
   ],
   "source": [
    "sum(x-y)"
   ]
  },
  {
   "cell_type": "code",
   "execution_count": 10,
   "metadata": {
    "collapsed": false
   },
   "outputs": [
    {
     "ename": "LoadError",
     "evalue": "LoadError: AssertionError: length(y) == n\nwhile loading In[10], in expression starting on line 1",
     "output_type": "error",
     "traceback": [
      "LoadError: AssertionError: length(y) == n\nwhile loading In[10], in expression starting on line 1",
      "",
      " in sumdiff at In[9]:22"
     ]
    }
   ],
   "source": [
    "sumdiff([1,2,3,4,5,7,8,9],[1 2 3 4 5])"
   ]
  },
  {
   "cell_type": "code",
   "execution_count": 18,
   "metadata": {
    "collapsed": false
   },
   "outputs": [
    {
     "data": {
      "text/plain": [
       "3-element Array{Float64,1}:\n",
       " 0.5     \n",
       " 0.333333\n",
       " 0.25    "
      ]
     },
     "execution_count": 18,
     "metadata": {},
     "output_type": "execute_result"
    }
   ],
   "source": [
    "\"\"\"\n",
    "`diagsolve`\n",
    "===========\n",
    "\n",
    "This function will pretend an input matrix is diagonal and solve the linear system \n",
    "Ax = b\n",
    "\n",
    "Function\n",
    "--------\n",
    "* `diagsolve(A,b)` takes an input matrix A and a vector b and only uses the diagonal elements of b\n",
    "\n",
    "Examples\n",
    "--------\n",
    "~~~~\n",
    "A = diagm(randn(5))\n",
    "b = ones(5)\n",
    "@show x = diagsolve(A,b)\n",
    "@show y = A\\b  # this should be the same thing\n",
    "~~~~\n",
    "\"\"\"\n",
    "function diagsolve(A,b)\n",
    "    x = zeros(length(b))\n",
    "    for i=1:length(b)\n",
    "        x[i] = b[i] / A[i,i]\n",
    "    end\n",
    "    return x\n",
    "end\n",
    "A = diagm([2,3,4.])\n",
    "b = [1. 1. 1.]\n",
    "diagsolve(A,b)"
   ]
  }
 ],
 "metadata": {
  "kernelspec": {
   "display_name": "Julia 0.4.6",
   "language": "julia",
   "name": "julia-0.4"
  },
  "language_info": {
   "file_extension": ".jl",
   "mimetype": "application/julia",
   "name": "julia",
   "version": "0.4.6"
  }
 },
 "nbformat": 4,
 "nbformat_minor": 0
}
