{
 "cells": [
  {
   "cell_type": "code",
   "execution_count": 1,
   "metadata": {
    "collapsed": false
   },
   "outputs": [
    {
     "name": "stdout",
     "output_type": "stream",
     "text": [
      "f(a) = -0.11000000000000001\n",
      "f(b) = 220264.5479480672\n"
     ]
    },
    {
     "data": {
      "text/plain": [
       "220264.5479480672"
      ]
     },
     "execution_count": 1,
     "metadata": {},
     "output_type": "execute_result"
    }
   ],
   "source": [
    "## Look at the log-product function to solve Backwards Euler\n",
    "f = x -> x*exp(x) - (0.1)*(1.0+0.1)\n",
    "\n",
    "## Find a region where f has a different sign\n",
    "a = 0.0\n",
    "b = 10.0\n",
    "@show f(a)\n",
    "@show f(b)\n"
   ]
  },
  {
   "cell_type": "code",
   "execution_count": 3,
   "metadata": {
    "collapsed": false
   },
   "outputs": [
    {
     "name": "stdout",
     "output_type": "stream",
     "text": [
      "[Plots.jl] Initializing backend: pyplot\n"
     ]
    },
    {
     "name": "stderr",
     "output_type": "stream",
     "text": [
      "WARNING: No working GUI backend found for matplotlib.\n"
     ]
    },
    {
     "data": {
      "image/png": "[encoded data removed]",
      "text/plain": [
       "PyPlot.Figure(PyObject <matplotlib.figure.Figure object at 0x7ff168651fd0>)"
      ]
     },
     "metadata": {},
     "output_type": "display_data"
    },
    {
     "name": "stderr",
     "output_type": "stream",
     "text": [
      "INFO: Saved animation to /home/juser/CS314-2016/bisection.gif\n"
     ]
    },
    {
     "data": {
      "text/html": [
       "<img src=\"bisection.gif?0.5044861376681034>\" />"
      ],
      "text/plain": [
       "Plots.AnimatedGif(\"/home/juser/CS314-2016/bisection.gif\")"
      ]
     },
     "execution_count": 3,
     "metadata": {},
     "output_type": "execute_result"
    }
   ],
   "source": [
    "## Illustrate bisection\n",
    "using Plots\n",
    "pyplot()\n",
    "a = 0.0\n",
    "b = 10.0\n",
    "anim = @animate for i=1:10\n",
    "    plot(f,linspace(a,b,50))\n",
    "    fa = f(a)\n",
    "    fb = f(b)\n",
    "    ab2 = 0.5*a + 0.5*b\n",
    "    fab2 = f(ab2)\n",
    "    if sign(fab2*fb) <= 0\n",
    "        a = ab2\n",
    "    else\n",
    "        b = ab2\n",
    "    end\n",
    "    yl = max(abs(fa),abs(fb)) # show symmetric y\n",
    "    ylims!(-yl,yl)\n",
    "    title!(@sprintf(\"iter = %i\",i))\n",
    "end\n",
    "gif(anim, \"bisection.gif\", fps = 1)"
   ]
  },
  {
   "cell_type": "code",
   "execution_count": 31,
   "metadata": {
    "collapsed": false
   },
   "outputs": [
    {
     "data": {
      "text/plain": [
       "bisection (generic function with 2 methods)"
      ]
     },
     "execution_count": 31,
     "metadata": {},
     "output_type": "execute_result"
    }
   ],
   "source": [
    "\"\"\"\n",
    "`bisection`\n",
    "===========\n",
    "-`bisection(f, a, b)`\n",
    "-`bisection(f, a, b, delta)`\n",
    "\n",
    "Find a root of the scalar function f, given that f(a) and f(b) have \n",
    "different signs and f is continuous. The value x will be within\n",
    "delta of a root. The method is repeated interval bisection.\n",
    "\"\"\"\n",
    "function bisection(f,a,b,delta)\n",
    "    fa = f(a)\n",
    "    fb = f(b)\n",
    "    @assert(sign(fa*fb) <= 0)\n",
    "    maxit = 150 # see more on why so large\n",
    "    for i=1:maxit\n",
    "        ab2 = 0.5*a + 0.5*b\n",
    "        fab2 = f(ab2)\n",
    "        if abs(fab2) <= eps(1.0)\n",
    "            break\n",
    "        end\n",
    "        if sign(fab2*fb) <= 0\n",
    "            a = ab2\n",
    "            fa = fab2\n",
    "        else\n",
    "            b = ab2\n",
    "            fb= fab2\n",
    "        end\n",
    "        if abs(b-a) <= delta\n",
    "            break\n",
    "        end\n",
    "    end\n",
    "    return 0.5*a + 0.5*b\n",
    "end\n",
    "# set default \n",
    "bisection(f,a,b) = bisection(f,a,b,eps(1.0))"
   ]
  },
  {
   "cell_type": "code",
   "execution_count": 35,
   "metadata": {
    "collapsed": false
   },
   "outputs": [
    {
     "name": "stdout",
     "output_type": "stream",
     "text": [
      "x = bisection(f,0.0,10.0) = 0.09957447809219977\n",
      "f(x) = -2.7755575615628914e-17\n",
      "f(x + eps(1.0)) = 2.3592239273284576e-16\n"
     ]
    },
    {
     "data": {
      "text/plain": [
       "2.3592239273284576e-16"
      ]
     },
     "execution_count": 35,
     "metadata": {},
     "output_type": "execute_result"
    }
   ],
   "source": [
    "@show x = bisection(f,0.0,10.0)\n",
    "@show f(x)\n",
    "@show f(x+eps(1.0))"
   ]
  },
  {
   "cell_type": "code",
   "execution_count": null,
   "metadata": {
    "collapsed": true
   },
   "outputs": [],
   "source": []
  },
  {
   "cell_type": "code",
   "execution_count": null,
   "metadata": {
    "collapsed": true
   },
   "outputs": [],
   "source": []
  }
 ],
 "metadata": {
  "kernelspec": {
   "display_name": "Julia 0.4.7",
   "language": "julia",
   "name": "julia-0.4"
  },
  "language_info": {
   "file_extension": ".jl",
   "mimetype": "application/julia",
   "name": "julia",
   "version": "0.4.7"
  }
 },
 "nbformat": 4,
 "nbformat_minor": 1
}
