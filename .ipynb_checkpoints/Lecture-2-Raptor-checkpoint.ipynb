{
 "cells": [
  {
   "cell_type": "code",
   "execution_count": 67,
   "metadata": {
    "collapsed": false
   },
   "outputs": [
    {
     "name": "stdout",
     "output_type": "stream",
     "text": [
      "The raptors caught the human in 1.190000 seconds\n"
     ]
    },
    {
     "name": "stderr",
     "output_type": "stream",
     "text": [
      "WARNING: redefining constant angle\n"
     ]
    }
   ],
   "source": [
    "angle=0.\n",
    "vhuman=6.7\n",
    "vraptor0=10. # the slow raptor velocity in m/s\n",
    "vraptor=17. # \n",
    "\n",
    "raptor_distance = 20.\n",
    "\n",
    "raptor_min_distance = 0.2; # a raptor within 20 cm can attack\n",
    "tmax=10. # the maximum time in seconds \n",
    "nsteps=1000\n",
    "\n",
    "\"\"\"\n",
    "This function will compute the derivatives of the\n",
    "positions of the human and the raptors\n",
    "\"\"\"\n",
    "function compute_derivatives(h,r0,r1,r2)\n",
    "    dh = [cos(angle),sin(angle)]*vhuman\n",
    "    dr0 = (h-r0)/norm(h-r0)*vraptor0\n",
    "    dr1 = (h-r1)/norm(h-r1)*vraptor\n",
    "    dr2 = (h-r2)/norm(h-r2)*vraptor\n",
    "    return dh, dr0, dr1, dr2\n",
    "end\n",
    "\"\"\"\n",
    "This function will use forward Euler to simulate the Raptors\n",
    "\"\"\"\n",
    "function simulate_raptors()\n",
    "    # initial positions \n",
    "    h = [0.0,0.0]\n",
    "    r0 = [1.0,0.0]*raptor_distance\n",
    "    r1 = [-0.5,sqrt(3.)/2.]*raptor_distance\n",
    "    r2 = [-0.5,-sqrt(3.)/2.]*raptor_distance\n",
    "    \n",
    "    # how much time el\n",
    "    dt = tmax/nsteps\n",
    "    t = 0.\n",
    "    \n",
    "    hhist = zeros(2,nsteps+1)\n",
    "    r0hist = zeros(2,nsteps+1)\n",
    "    r1hist = zeros(2,nsteps+2)\n",
    "    r2hist = zeros(2,nsteps+2)\n",
    "    \n",
    "    hhist[:,1] = h\n",
    "    r0hist[:,1] = r0\n",
    "    r1hist[:,1] = r1\n",
    "    r2hist[:,1] = r2\n",
    "    \n",
    "    for i=1:nsteps\n",
    "        dh, dr0, dr1, dr2 = compute_derivatives(h,r0,r1,r2)\n",
    "        h += dh*dt\n",
    "        r0 += dr0*dt\n",
    "        r1 += dr1*dt\n",
    "        r2 += dr2*dt\n",
    "        t += dt\n",
    "\n",
    "        hhist[:,i+1] = h\n",
    "        r0hist[:,i+1] = r0\n",
    "        r1hist[:,i+1] = r1\n",
    "        r2hist[:,i+1] = r2\n",
    "        \n",
    "        if norm(r0-h) <= raptor_min_distance ||\n",
    "            norm(r1-h) <= raptor_min_distance ||\n",
    "            norm(r2-h) <= raptor_min_distance\n",
    "            @printf(\"The raptors caught the human in %f seconds\\n\", t)\n",
    "            \n",
    "            # truncate the history\n",
    "            hhist = hhist[:,1:i+1]\n",
    "            r0hist = r0hist[:,1:i+1]\n",
    "            r1hist = r1hist[:,1:i+1]\n",
    "            r2hist = r2hist[:,1:i+1]\n",
    "            \n",
    "            break\n",
    "        end\n",
    "    end\n",
    "    return hhist, r0hist, r1hist, r2hist\n",
    "end\n",
    "\n",
    "angle = 0.\n",
    "simulate_raptors();"
   ]
  },
  {
   "cell_type": "code",
   "execution_count": 15,
   "metadata": {
    "collapsed": true
   },
   "outputs": [],
   "source": [
    "using Plots"
   ]
  },
  {
   "cell_type": "code",
   "execution_count": 58,
   "metadata": {
    "collapsed": false
   },
   "outputs": [
    {
     "name": "stdout",
     "output_type": "stream",
     "text": [
      "The raptors caught the human in 0.910000 seconds\n"
     ]
    },
    {
     "data": {
      "text/html": [
       "<img src=\"data:image/png;base64,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\" />"
      ]
     },
     "execution_count": 58,
     "metadata": {},
     "output_type": "execute_result"
    }
   ],
   "source": [
    "function show_raptors()\n",
    "    hhist, r0hist, r1hist, r2hist = simulate_raptors()\n",
    "    plot(vec(hhist[1,:]),vec(hhist[2,:]))\n",
    "    plot!(vec(r0hist[1,:]),vec(r0hist[2,:]))\n",
    "    plot!(vec(r1hist[1,:]),vec(r1hist[2,:]))    \n",
    "    plot!(vec(r2hist[1,:]),vec(r2hist[2,:]))    \n",
    "    plot!(grid=false,xticks=false,yticks=false,legend=false,border=false)\n",
    "    plot!(xlim=[-20.,20.],ylim=[-20.,20.])    \n",
    "end\n",
    "show_raptors()"
   ]
  },
  {
   "cell_type": "code",
   "execution_count": 70,
   "metadata": {
    "collapsed": false
   },
   "outputs": [
    {
     "name": "stdout",
     "output_type": "stream",
     "text": [
      "The raptors caught the human in 1.190000 seconds\n"
     ]
    }
   ],
   "source": [
    "angle = pi/2.\n",
    "simulate_raptors();"
   ]
  }
 ],
 "metadata": {
  "kernelspec": {
   "display_name": "Julia 0.4.6",
   "language": "julia",
   "name": "julia-0.4"
  },
  "language_info": {
   "file_extension": ".jl",
   "mimetype": "application/julia",
   "name": "julia",
   "version": "0.4.6"
  }
 },
 "nbformat": 4,
 "nbformat_minor": 0
}
