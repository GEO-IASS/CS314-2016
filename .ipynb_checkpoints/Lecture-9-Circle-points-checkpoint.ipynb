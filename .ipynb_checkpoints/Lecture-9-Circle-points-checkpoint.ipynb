{
 "cells": [
  {
   "cell_type": "markdown",
   "metadata": {},
   "source": [
    "## Check the probability that two points on the circle are at least distance 1 apart.\n",
    "We'll do a Monte Carlo simulation! "
   ]
  },
  {
   "cell_type": "code",
   "execution_count": 16,
   "metadata": {
    "collapsed": false
   },
   "outputs": [
    {
     "data": {
      "text/plain": [
       "0.4639907082801117"
      ]
     },
     "execution_count": 16,
     "metadata": {},
     "output_type": "execute_result"
    }
   ],
   "source": [
    "\"\"\"\n",
    "`random_points_distance()`\n",
    "=========================\n",
    "\n",
    "Return the euclidean distance of two points \n",
    "generated at random on the unit circle.\n",
    "\"\"\"\n",
    "function random_points_distance()\n",
    "    phi1 = 2*pi*rand() # random angle \n",
    "    phi2 = 2*pi*rand()\n",
    "    p1 = [cos(phi1),sin(phi1)] # x,y coords of pt 1\n",
    "    p2 = [cos(phi2),sin(phi2)] # x,y coords of pt 2\n",
    "    return norm(p1-p2)\n",
    "end\n",
    "    \n",
    "random_points_distance()"
   ]
  },
  {
   "cell_type": "markdown",
   "metadata": {},
   "source": [
    "Now compute a Monte Carlo estimate of the probability that the points are at least distance 1 away."
   ]
  },
  {
   "cell_type": "code",
   "execution_count": 17,
   "metadata": {
    "collapsed": false
   },
   "outputs": [
    {
     "data": {
      "text/plain": [
       "0.66567"
      ]
     },
     "execution_count": 17,
     "metadata": {},
     "output_type": "execute_result"
    }
   ],
   "source": [
    "ntrials = 10^5\n",
    "wins = 0\n",
    "for i=1:ntrials\n",
    "    dist = random_points_distance()\n",
    "    if dist >= 1.\n",
    "        wins += 1\n",
    "    end\n",
    "end\n",
    "wins/ntrials"
   ]
  },
  {
   "cell_type": "code",
   "execution_count": 25,
   "metadata": {
    "collapsed": false
   },
   "outputs": [
    {
     "data": {
      "text/plain": [
       "0.9999999999999998"
      ]
     },
     "execution_count": 25,
     "metadata": {},
     "output_type": "execute_result"
    }
   ],
   "source": []
  }
 ],
 "metadata": {
  "kernelspec": {
   "display_name": "Julia 0.4.6",
   "language": "julia",
   "name": "julia-0.4"
  },
  "language_info": {
   "file_extension": ".jl",
   "mimetype": "application/julia",
   "name": "julia",
   "version": "0.4.6"
  }
 },
 "nbformat": 4,
 "nbformat_minor": 0
}
