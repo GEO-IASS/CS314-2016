{
 "cells": [
  {
   "cell_type": "code",
   "execution_count": 1,
   "metadata": {
    "collapsed": true
   },
   "outputs": [],
   "source": [
    "include(\"float-help.jl\")"
   ]
  },
  {
   "cell_type": "code",
   "execution_count": 2,
   "metadata": {
    "collapsed": false
   },
   "outputs": [
    {
     "name": "stdout",
     "output_type": "stream",
     "text": [
      "bits(x[1]) = \"0000000000000000000000000000000000000000000000000000000000000001\"\n",
      "The computer representation of (reinterpret(Float64,x))[1] is:\n",
      "  \u001b[1m\u001b[31m0\u001b[0m\u001b[7m\u001b[32m00000000000\u001b[0m\u001b[4m\u001b[34m0000000000000000000000000000000000000000000000000001\u001b[0m\n",
      "  which decodes to \n",
      "  | sign |   exponent  |    mantissa    \n",
      "     \u001b[1m\u001b[31m0\u001b[0m     \u001b[7m\u001b[32m00000000000\u001b[0m   \u001b[4m\u001b[34m0000000000000000000000000000000000000000000000000001\u001b[0m\n",
      "= (-1)^(0) x 2^(-1022)   x 0.00000000000000022 = 4.94066e-324 \n"
     ]
    }
   ],
   "source": [
    "x = Array{UInt64}(1) # allocate 1 64-bit number\n",
    "x[1] = 0 # zero out all the bits\n",
    "Base.unsafe_bitsetindex!(x,true,1) # set the 1st bit to true\n",
    "@show bits(x[1])\n",
    "@show_float reinterpret(Float64,x)[1]"
   ]
  },
  {
   "cell_type": "markdown",
   "metadata": {},
   "source": [
    "Note that the first bit is interpreted as the \"last bit\" in the `bits` representation. This is just because we are stealing the `unsafe_bitsetindex!` function from another use where that doesn't matter.\n",
    "\n",
    "So in this case, the sign bit in the 64th bit.\n"
   ]
  },
  {
   "cell_type": "code",
   "execution_count": 4,
   "metadata": {
    "collapsed": false
   },
   "outputs": [
    {
     "name": "stdout",
     "output_type": "stream",
     "text": [
      "The computer representation of (reinterpret(Float64,x))[1] is:\n",
      "  \u001b[1m\u001b[31m1\u001b[0m\u001b[7m\u001b[32m00000000000\u001b[0m\u001b[4m\u001b[34m0000000000000000000000000000000000000000000000000000\u001b[0m\n",
      "  which decodes to \n",
      "  | sign |   exponent  |    mantissa    \n",
      "     \u001b[1m\u001b[31m1\u001b[0m     \u001b[7m\u001b[32m00000000000\u001b[0m   \u001b[4m\u001b[34m0000000000000000000000000000000000000000000000000000\u001b[0m\n",
      "= (-1)^(1) x 2^(-1022)   x 0.00000000000000000 = -0  \n"
     ]
    }
   ],
   "source": [
    "x[1] = 0 # reset\n",
    "Base.unsafe_bitsetindex!(x,true,64)\n",
    "@show_float reinterpret(Float64,x)[1]"
   ]
  },
  {
   "cell_type": "code",
   "execution_count": 6,
   "metadata": {
    "collapsed": false
   },
   "outputs": [
    {
     "name": "stdout",
     "output_type": "stream",
     "text": [
      "The computer representation of (reinterpret(Float64,x))[1] is:\n",
      "  \u001b[1m\u001b[31m0\u001b[0m\u001b[7m\u001b[32m11111111111\u001b[0m\u001b[4m\u001b[34m0000000000000000000000000000000000000000000000000000\u001b[0m\n",
      "  which decodes to \n",
      "  | sign |   exponent  |    mantissa    \n",
      "     \u001b[1m\u001b[31m0\u001b[0m     \u001b[7m\u001b[32m11111111111\u001b[0m   \u001b[4m\u001b[34m0000000000000000000000000000000000000000000000000000\u001b[0m\n",
      "= (-1)^(0) x 2^( Inf)   x 1.00000000000000000 = Inf \n"
     ]
    }
   ],
   "source": [
    "x[1] = 0 # reset\n",
    "for bit=63:-1:53\n",
    "    Base.unsafe_bitsetindex!(x,true,bit)\n",
    "end\n",
    "@show_float reinterpret(Float64,x)[1]"
   ]
  },
  {
   "cell_type": "code",
   "execution_count": 7,
   "metadata": {
    "collapsed": false
   },
   "outputs": [
    {
     "name": "stdout",
     "output_type": "stream",
     "text": [
      "The computer representation of (reinterpret(Float64,x))[1] is:\n",
      "  \u001b[1m\u001b[31m0\u001b[0m\u001b[7m\u001b[32m11111111111\u001b[0m\u001b[4m\u001b[34m0000000001000000000000000000000000000000000000000000\u001b[0m\n",
      "  which decodes to \n",
      "  | sign |   exponent  |    mantissa    \n",
      "     \u001b[1m\u001b[31m0\u001b[0m     \u001b[7m\u001b[32m11111111111\u001b[0m   \u001b[4m\u001b[34m0000000001000000000000000000000000000000000000000000\u001b[0m\n",
      "= (-1)^(0) x 2^( Inf)   x 1.00097656250000000 = NaN \n"
     ]
    }
   ],
   "source": [
    "x[1] = 0 # reset\n",
    "for bit=63:-1:53\n",
    "    Base.unsafe_bitsetindex!(x,true,bit)\n",
    "end\n",
    "Base.unsafe_bitsetindex!(x,true,43)\n",
    "@show_float reinterpret(Float64,x)[1]"
   ]
  }
 ],
 "metadata": {
  "kernelspec": {
   "display_name": "Julia 0.4.6",
   "language": "julia",
   "name": "julia-0.4"
  },
  "language_info": {
   "file_extension": ".jl",
   "mimetype": "application/julia",
   "name": "julia",
   "version": "0.4.6"
  }
 },
 "nbformat": 4,
 "nbformat_minor": 0
}
