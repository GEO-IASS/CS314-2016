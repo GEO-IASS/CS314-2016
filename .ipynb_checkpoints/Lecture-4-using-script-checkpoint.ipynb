{
 "cells": [
  {
   "cell_type": "markdown",
   "metadata": {},
   "source": [
    "## Using scripts\n",
    "In Julia and Juliabox, you can use scripts! These can be handy, but I don't find them quite as useful with Juliabox as I do when I'm working at the command line. "
   ]
  },
  {
   "cell_type": "code",
   "execution_count": 3,
   "metadata": {
    "collapsed": false
   },
   "outputs": [
    {
     "data": {
      "text/plain": [
       "([1.1102230246251565e-15,1.0,2.0],\n",
       "3x3 Array{Float64,2}:\n",
       " -0.707107   0.0  0.707107\n",
       "  0.0       -1.0  0.0     \n",
       "  0.707107   0.0  0.707107)"
      ]
     },
     "execution_count": 3,
     "metadata": {},
     "output_type": "execute_result"
    }
   ],
   "source": [
    "include(\"Lecture-4-in-class-example-script.jl\")"
   ]
  },
  {
   "cell_type": "code",
   "execution_count": 4,
   "metadata": {
    "collapsed": false
   },
   "outputs": [
    {
     "name": "stdout",
     "output_type": "stream",
     "text": [
      "A = [1 0 1\n",
      " 0 1 0\n",
      " 1 0 1]\n"
     ]
    },
    {
     "data": {
      "text/plain": [
       "3x3 Array{Int64,2}:\n",
       " 1  0  1\n",
       " 0  1  0\n",
       " 1  0  1"
      ]
     },
     "execution_count": 4,
     "metadata": {},
     "output_type": "execute_result"
    }
   ],
   "source": [
    "@show A"
   ]
  },
  {
   "cell_type": "code",
   "execution_count": 7,
   "metadata": {
    "collapsed": false
   },
   "outputs": [
    {
     "data": {
      "text/plain": [
       "3x3 Array{Float64,2}:\n",
       " -0.707107   0.0  0.707107\n",
       "  0.0       -1.0  0.0     \n",
       "  0.707107   0.0  0.707107"
      ]
     },
     "execution_count": 7,
     "metadata": {},
     "output_type": "execute_result"
    }
   ],
   "source": [
    "eigvals(A)\n",
    "eigvecs(A)"
   ]
  }
 ],
 "metadata": {
  "kernelspec": {
   "display_name": "Julia 0.4.6",
   "language": "julia",
   "name": "julia-0.4"
  },
  "language_info": {
   "file_extension": ".jl",
   "mimetype": "application/julia",
   "name": "julia",
   "version": "0.4.6"
  }
 },
 "nbformat": 4,
 "nbformat_minor": 0
}
