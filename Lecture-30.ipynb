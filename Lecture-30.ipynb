{
 "cells": [
  {
   "cell_type": "markdown",
   "metadata": {},
   "source": [
    "## Errors in finite different approximations of the derivatives"
   ]
  },
  {
   "cell_type": "code",
   "execution_count": 1,
   "metadata": {
    "collapsed": false
   },
   "outputs": [
    {
     "data": {
      "text/plain": [
       "(anonymous function)"
      ]
     },
     "execution_count": 1,
     "metadata": {},
     "output_type": "execute_result"
    }
   ],
   "source": [
    "f = x -> sin(x) # create a simple function f(x) = sin(x)\n",
    "df = x -> cos(x) # and its derivative"
   ]
  },
  {
   "cell_type": "code",
   "execution_count": 5,
   "metadata": {
    "collapsed": false
   },
   "outputs": [
    {
     "name": "stdout",
     "output_type": "stream",
     "text": [
      "forward_diff(pi / 3,0.01) = 0.4956615757736871\n",
      "df(pi / 3) = 0.5000000000000001\n"
     ]
    },
    {
     "data": {
      "text/plain": [
       "0.5000000000000001"
      ]
     },
     "execution_count": 5,
     "metadata": {},
     "output_type": "execute_result"
    }
   ],
   "source": [
    "# Look at accuracy\n",
    "forward_diff = (x, h) -> (f(x+h) - f(x))/h\n",
    "@show forward_diff(pi/3, 0.01)\n",
    "@show df(pi/3)"
   ]
  },
  {
   "cell_type": "code",
   "execution_count": 6,
   "metadata": {
    "collapsed": false
   },
   "outputs": [
    {
     "name": "stdout",
     "output_type": "stream",
     "text": [
      "1.00000000e-01  0.4559018854107610  4.40981e-02\n",
      "1.00000000e-02  0.4956615757736871  4.33842e-03\n",
      "1.00000000e-03  0.4995669040007700  4.33096e-04\n",
      "1.00000000e-04  0.4999566978958203  4.33021e-05\n",
      "1.00000000e-05  0.4999956698670260  4.33013e-06\n",
      "1.00000000e-06  0.4999995669718871  4.33028e-07\n",
      "1.00000000e-07  0.4999999569932356  4.30068e-08\n",
      "1.00000000e-08  0.4999999969612645  3.03874e-09\n",
      "1.00000000e-09  0.5000000413701855  4.13702e-08\n",
      "1.00000000e-10  0.5000000413701855  4.13702e-08\n",
      "1.00000000e-11  0.5000000413701855  4.13702e-08\n",
      "1.00000000e-12  0.5000444502911705  4.44503e-05\n",
      "1.00000000e-13  0.4996003610813204  3.99639e-04\n",
      "1.00000000e-14  0.4996003610813204  3.99639e-04\n",
      "1.00000000e-15  0.5551115123125783  5.51115e-02\n",
      "1.00000000e-16  0.0000000000000000  5.00000e-01\n"
     ]
    }
   ],
   "source": [
    "# Let's look at things in a more structured fashion\n",
    "x = pi/3.0\n",
    "for i=1:16\n",
    "    h = 10.0^(-i)\n",
    "    adf = forward_diff(x, h)\n",
    "    err = abs(adf - df(x))\n",
    "    @printf(\"%.8e  %.16f  %.5e\\n\", h, adf, err)\n",
    "end\n"
   ]
  },
  {
   "cell_type": "code",
   "execution_count": 7,
   "metadata": {
    "collapsed": false
   },
   "outputs": [
    {
     "name": "stdout",
     "output_type": "stream",
     "text": [
      "central_diff(pi / 3,0.01) = 0.49999166670833817\n",
      "df(pi / 3) = 0.5000000000000001\n"
     ]
    },
    {
     "data": {
      "text/plain": [
       "0.5000000000000001"
      ]
     },
     "execution_count": 7,
     "metadata": {},
     "output_type": "execute_result"
    }
   ],
   "source": [
    "central_diff = (x, h) -> (f(x+h) - f(x-h))/(2.0*h)\n",
    "@show central_diff(pi/3, 0.01)\n",
    "@show df(pi/3)"
   ]
  },
  {
   "cell_type": "code",
   "execution_count": 8,
   "metadata": {
    "collapsed": false
   },
   "outputs": [
    {
     "name": "stdout",
     "output_type": "stream",
     "text": [
      "1.00000000e-01  0.4991670832341411  8.32917e-04\n",
      "1.00000000e-02  0.4999916667083382  8.33329e-06\n",
      "1.00000000e-03  0.4999999166666047  8.33334e-08\n",
      "1.00000000e-04  0.4999999991661674  8.33833e-10\n",
      "1.00000000e-05  0.4999999999921733  7.82679e-12\n",
      "1.00000000e-06  0.4999999999588667  4.11334e-11\n",
      "1.00000000e-07  0.5000000002919336  2.91933e-10\n",
      "1.00000000e-08  0.4999999969612645  3.03874e-09\n",
      "1.00000000e-09  0.5000000413701855  4.13702e-08\n",
      "1.00000000e-10  0.5000000413701855  4.13702e-08\n",
      "1.00000000e-11  0.5000000413701855  4.13702e-08\n",
      "1.00000000e-12  0.5000444502911705  4.44503e-05\n",
      "1.00000000e-13  0.4996003610813204  3.99639e-04\n",
      "1.00000000e-14  0.4996003610813204  3.99639e-04\n",
      "1.00000000e-15  0.5551115123125783  5.51115e-02\n",
      "1.00000000e-16  0.0000000000000000  5.00000e-01\n"
     ]
    }
   ],
   "source": [
    "x = pi/3.0\n",
    "for i=1:16\n",
    "    h = 10.0^(-i)\n",
    "    adf = central_diff(x, h)\n",
    "    err = abs(adf - df(x))\n",
    "    @printf(\"%.8e  %.16f  %.5e\\n\", h, adf, err)\n",
    "end"
   ]
  }
 ],
 "metadata": {
  "kernelspec": {
   "display_name": "Julia 0.4.7",
   "language": "julia",
   "name": "julia-0.4"
  },
  "language_info": {
   "file_extension": ".jl",
   "mimetype": "application/julia",
   "name": "julia",
   "version": "0.4.7"
  }
 },
 "nbformat": 4,
 "nbformat_minor": 0
}
