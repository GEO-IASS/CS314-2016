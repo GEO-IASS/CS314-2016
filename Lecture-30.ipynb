{
 "cells": [
  {
   "cell_type": "markdown",
   "metadata": {},
   "source": [
    "## Errors in finite different approximations of the derivatives"
   ]
  },
  {
   "cell_type": "code",
   "execution_count": 6,
   "metadata": {
    "collapsed": false
   },
   "outputs": [
    {
     "data": {
      "text/plain": [
       "(anonymous function)"
      ]
     },
     "execution_count": 6,
     "metadata": {},
     "output_type": "execute_result"
    }
   ],
   "source": [
    "f = x -> sqrt(exp(x)) # create a simple function f(x) = sin(x)\n",
    "df = x -> sqrt(exp(x))/2 # and its derivative"
   ]
  },
  {
   "cell_type": "code",
   "execution_count": 13,
   "metadata": {
    "collapsed": false
   },
   "outputs": [
    {
     "name": "stdout",
     "output_type": "stream",
     "text": [
      "forward_diff(pi / 3,1.0e-7) = 0.8440459198233441\n",
      "df(pi / 3) = 0.8440458974822342\n"
     ]
    },
    {
     "data": {
      "text/plain": [
       "0.8440458974822342"
      ]
     },
     "execution_count": 13,
     "metadata": {},
     "output_type": "execute_result"
    }
   ],
   "source": [
    "# Look at accuracy\n",
    "forward_diff = (x, h) -> (f(x+h) - f(x))/h\n",
    "@show forward_diff(pi/3, 0.0000001)\n",
    "@show df(pi/3)"
   ]
  },
  {
   "cell_type": "code",
   "execution_count": 14,
   "metadata": {
    "collapsed": false
   },
   "outputs": [
    {
     "name": "stdout",
     "output_type": "stream",
     "text": [
      "1.00000000e-01  0.8655031711119876  2.14573e-02\n",
      "1.00000000e-02  0.8461595334843253  2.11364e-03\n",
      "1.00000000e-03  0.8442569441295955  2.11047e-04\n",
      "1.00000000e-04  0.8440669989817629  2.11015e-05\n",
      "1.00000000e-05  0.8440480075977418  2.11012e-06\n",
      "1.00000000e-06  0.8440461083392137  2.10857e-07\n",
      "1.00000000e-07  0.8440459198233441  2.23411e-08\n",
      "1.00000000e-08  0.8440458998393296  2.35710e-09\n",
      "1.00000000e-09  0.8440459442482506  4.67660e-08\n",
      "1.00000000e-10  0.8440470544712753  1.15699e-06\n",
      "1.00000000e-11  0.8440581567015215  1.22592e-05\n",
      "1.00000000e-12  0.8439915433200440  5.43542e-05\n",
      "1.00000000e-13  0.8437694987151190  2.76399e-04\n",
      "1.00000000e-14  0.8437694987151190  2.76399e-04\n",
      "1.00000000e-15  0.8881784197001251  4.41325e-02\n",
      "1.00000000e-16  0.0000000000000000  8.44046e-01\n"
     ]
    }
   ],
   "source": [
    "# Let's look at things in a more structured fashion\n",
    "x = pi/3.0\n",
    "for i=1:16\n",
    "    h = 10.0^(-i)\n",
    "    adf = forward_diff(x, h)\n",
    "    err = abs(adf - df(x))\n",
    "    @printf(\"%.8e  %.16f  %.5e\\n\", h, adf, err)\n",
    "end\n"
   ]
  },
  {
   "cell_type": "code",
   "execution_count": 15,
   "metadata": {
    "collapsed": false
   },
   "outputs": [
    {
     "name": "stdout",
     "output_type": "stream",
     "text": [
      "central_diff(pi / 3,0.01) = 0.8440494143445387\n",
      "df(pi / 3) = 0.8440458974822342\n"
     ]
    },
    {
     "data": {
      "text/plain": [
       "0.8440458974822342"
      ]
     },
     "execution_count": 15,
     "metadata": {},
     "output_type": "execute_result"
    }
   ],
   "source": [
    "central_diff = (x, h) -> (f(x+h) - f(x-h))/(2.0*h)\n",
    "@show central_diff(pi/3, 0.01)\n",
    "@show df(pi/3)"
   ]
  },
  {
   "cell_type": "code",
   "execution_count": 16,
   "metadata": {
    "collapsed": false
   },
   "outputs": [
    {
     "name": "stdout",
     "output_type": "stream",
     "text": [
      "1.00000000e-01  0.8443976272361930  3.51730e-04\n",
      "1.00000000e-02  0.8440494143445387  3.51686e-06\n",
      "1.00000000e-03  0.8440459326507499  3.51685e-08\n",
      "1.00000000e-04  0.8440458978342669  3.52033e-10\n",
      "1.00000000e-05  0.8440458974856567  3.42248e-12\n",
      "1.00000000e-06  0.8440458973968390  8.53952e-11\n",
      "1.00000000e-07  0.8440458987291066  1.24687e-09\n",
      "1.00000000e-08  0.8440458998393296  2.35710e-09\n",
      "1.00000000e-09  0.8440459442482506  4.67660e-08\n",
      "1.00000000e-10  0.8440459442482506  4.67660e-08\n",
      "1.00000000e-11  0.8440581567015215  1.22592e-05\n",
      "1.00000000e-12  0.8439915433200440  5.43542e-05\n",
      "1.00000000e-13  0.8437694987151190  2.76399e-04\n",
      "1.00000000e-14  0.8437694987151190  2.76399e-04\n",
      "1.00000000e-15  0.8881784197001251  4.41325e-02\n",
      "1.00000000e-16  0.0000000000000000  8.44046e-01\n"
     ]
    }
   ],
   "source": [
    "x = pi/3.0\n",
    "for i=1:16\n",
    "    h = 10.0^(-i)\n",
    "    adf = central_diff(x, h)\n",
    "    err = abs(adf - df(x))\n",
    "    @printf(\"%.8e  %.16f  %.5e\\n\", h, adf, err)\n",
    "end"
   ]
  }
 ],
 "metadata": {
  "kernelspec": {
   "display_name": "Julia 0.4.7",
   "language": "julia",
   "name": "julia-0.4"
  },
  "language_info": {
   "file_extension": ".jl",
   "mimetype": "application/julia",
   "name": "julia",
   "version": "0.4.7"
  }
 },
 "nbformat": 4,
 "nbformat_minor": 0
}
