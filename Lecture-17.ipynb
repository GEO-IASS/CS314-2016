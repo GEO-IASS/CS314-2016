{
 "cells": [
  {
   "cell_type": "code",
   "execution_count": 31,
   "metadata": {
    "collapsed": false
   },
   "outputs": [
    {
     "name": "stdout",
     "output_type": "stream",
     "text": [
      "A \\ b = [-1.0,-2.0,1.0]\n",
      "x = backward_sweep(U,y) = [-1.0,-2.0,1.0]\n",
      "norm(x - A \\ b) = 0.0\n"
     ]
    }
   ],
   "source": [
    "L = [1.0  0 0 \n",
    "     1.0  1 0 \n",
    "    -1.0  0 1]\n",
    "U = [1.0 -1 2\n",
    "     0.0 1  1\n",
    "     0.0 0  4]\n",
    "A = L*U\n",
    "\n",
    "function forward_sweep(L,b)\n",
    "    y = zeros(size(L,1))\n",
    "    for i=1:size(L,1)\n",
    "        r = b[i]\n",
    "        for j=1:i-1\n",
    "            r -= L[i,j]*y[j]\n",
    "        end\n",
    "        y[i] = r/L[i,i]\n",
    "    end\n",
    "    return y\n",
    "end\n",
    "\n",
    "function backward_sweep(U,y)\n",
    "    x = zeros(size(U,1))\n",
    "    for i=size(U,1):-1:1 # reverse order\n",
    "        r = y[i]\n",
    "        for j=i+1:size(U,2)\n",
    "            r -= U[i,j]*x[j]\n",
    "        end\n",
    "        x[i] = r/U[i,i]\n",
    "    end\n",
    "    return x\n",
    "end\n",
    "\n",
    "b = [3.0; 2.0; 1.0]\n",
    "@show A \\ b\n",
    "y = forward_sweep(L,b)\n",
    "@show x = backward_sweep(U,y)\n",
    "@show norm(x - A\\b);"
   ]
  },
  {
   "cell_type": "code",
   "execution_count": 33,
   "metadata": {
    "collapsed": false
   },
   "outputs": [
    {
     "name": "stdout",
     "output_type": "stream",
     "text": [
      "\n",
      "LU factorization of\n",
      "A = \n",
      "[1.0 -1.0 2.0\n",
      " 1.0 0.0 3.0\n",
      " -1.0 1.0 2.0]\n",
      "\n",
      "after step 1\n",
      "L = \n",
      "[1.0 0.0 0.0\n",
      " 1.0 1.0 0.0\n",
      " -1.0 0.0 1.0]\n",
      "L^{-1} A = \n",
      "[1.0 -1.0 2.0\n",
      " 0.0 1.0 1.0\n",
      " 0.0 0.0 4.0]\n",
      "\n",
      "after step 2\n",
      "L = \n",
      "[1.0 0.0 0.0\n",
      " 1.0 1.0 0.0\n",
      " -1.0 0.0 1.0]\n",
      "L^{-1} A = \n",
      "[1.0 -1.0 2.0\n",
      " 0.0 1.0 1.0\n",
      " 0.0 0.0 4.0]\n",
      "\n"
     ]
    }
   ],
   "source": [
    "function lusteps(A)\n",
    "    A = deepcopy(A)\n",
    "    A0 = copy(A)\n",
    "    println()\n",
    "    println(\"LU factorization of\")\n",
    "    println(\"A = \")\n",
    "    println(A)\n",
    "    println()\n",
    "    \n",
    "    # Begin real stuff... \n",
    "    n = size(A,1)\n",
    "    @assert n == size(A,2)\n",
    "    L = eye(n)\n",
    "    for k=1:n-1 # outer step of Gaussian Elimination\n",
    "        for i = k+1:n # for each row\n",
    "            L[i,k] = A[i,k]/A[k,k]\n",
    "            for j = k:n # for each column\n",
    "                A[i,j] = A[i,j] - L[i,k]*A[k,j]\n",
    "            end\n",
    "        end\n",
    "        # end real stuff!\n",
    "        \n",
    "        @printf(\"after step %i\\n\", k)\n",
    "        println(\"L = \")\n",
    "        println(L)\n",
    "        println(\"L^{-1} A = \")\n",
    "        println(L\\A0)\n",
    "        println()\n",
    "        #@show L*A, A0, L*A - A0\n",
    "    end\n",
    "    \n",
    "    # One more real thing!\n",
    "    U = triu(A)\n",
    "    return L, U\n",
    "end\n",
    "#lusteps([3.0 6 9; 2 5 -2; 1 3 -1])\n",
    "lusteps(A);"
   ]
  },
  {
   "cell_type": "code",
   "execution_count": 28,
   "metadata": {
    "collapsed": false
   },
   "outputs": [
    {
     "name": "stdout",
     "output_type": "stream",
     "text": [
      "A = \n",
      "[3.0 6.0 9.0\n",
      " 2.0 5.0 -2.0\n",
      " 1.0 3.0 -1.0]\n",
      "\n",
      "after step 1\n",
      "L = \n",
      "[1.0 0.0 0.0\n",
      " 0.6666666666666666 1.0 0.0\n",
      " 0.3333333333333333 0.0 1.0]\n",
      "L^{-1} A = \n",
      "[3.0 6.0 9.0\n",
      " 0.0 1.0 -8.0\n",
      " 0.0 1.0 -4.0]\n",
      "\n",
      "after step 2\n",
      "L = \n",
      "[1.0 0.0 0.0\n",
      " 0.6666666666666666 1.0 0.0\n",
      " 0.3333333333333333 1.0 1.0]\n",
      "L^{-1} A = \n",
      "[3.0 6.0 9.0\n",
      " 0.0 1.0 -8.0\n",
      " 0.0 0.0 4.0]\n",
      "\n",
      "x = [2.0,1.0,3.0]\n",
      "norm(x - A \\ b) = 0.0\n"
     ]
    },
    {
     "data": {
      "text/plain": [
       "0.0"
      ]
     },
     "execution_count": 28,
     "metadata": {},
     "output_type": "execute_result"
    }
   ],
   "source": [
    "A = [3.0 6 9; 2 5 -2; 1 3 -1];\n",
    "b = [39; 3; 2.0]\n",
    "\n",
    "L,U = lusteps(A)\n",
    "x = backward_sweep(U,forward_sweep(L,b))\n",
    "@show x\n",
    "@show norm(x - A\\b)"
   ]
  },
  {
   "cell_type": "code",
   "execution_count": 55,
   "metadata": {
    "collapsed": false
   },
   "outputs": [
    {
     "name": "stdout",
     "output_type": "stream",
     "text": [
      "\n",
      "LU factorization of\n",
      "A = \n",
      "[1.0 -1.0 2.0\n",
      " 1.0 0.0 3.0\n",
      " -1.0 1.0 2.0]\n",
      "\n",
      "after step 1\n",
      "L = \n",
      "[1.0 0.0 0.0\n",
      " 1.0 1.0 0.0\n",
      " -1.0 0.0 1.0]\n",
      "L^{-1} A = \n",
      "[1.0 -1.0 2.0\n",
      " 0.0 1.0 1.0\n",
      " 0.0 0.0 4.0]\n",
      "\n",
      "after step 2\n",
      "L = \n",
      "[1.0 0.0 0.0\n",
      " 1.0 1.0 0.0\n",
      " -1.0 0.0 1.0]\n",
      "L^{-1} A = \n",
      "[1.0 -1.0 2.0\n",
      " 0.0 1.0 1.0\n",
      " 0.0 0.0 4.0]\n",
      "\n"
     ]
    },
    {
     "data": {
      "text/plain": [
       "(\n",
       "3x3 Array{Float64,2}:\n",
       "  1.0  0.0  0.0\n",
       "  1.0  1.0  0.0\n",
       " -1.0  0.0  1.0,\n",
       "\n",
       "3x3 Array{Float64,2}:\n",
       " 1.0  -1.0  2.0\n",
       " 0.0   1.0  1.0\n",
       " 0.0   0.0  4.0)"
      ]
     },
     "execution_count": 55,
     "metadata": {},
     "output_type": "execute_result"
    }
   ],
   "source": [
    "A = [1.0 -1 2;\n",
    "     1.0 0  3;\n",
    "    -1.0 1  2]\n",
    "\n",
    "lusteps(A);"
   ]
  },
  {
   "cell_type": "code",
   "execution_count": 56,
   "metadata": {
    "collapsed": false
   },
   "outputs": [
    {
     "name": "stdout",
     "output_type": "stream",
     "text": [
      "\n",
      "LU factorization of\n",
      "A = \n",
      "[1.0 -1.0 2.0\n",
      " -1.0 1.0 2.0\n",
      " 1.0 0.0 3.0]\n",
      "\n",
      "after step 1\n",
      "L = \n",
      "[1.0 0.0 0.0\n",
      " -1.0 1.0 0.0\n",
      " 1.0 0.0 1.0]\n",
      "L^{-1} A = \n",
      "[1.0 -1.0 2.0\n",
      " 0.0 0.0 4.0\n",
      " 0.0 1.0 1.0]\n",
      "\n",
      "after step 2\n",
      "L = \n",
      "[1.0 0.0 0.0\n",
      " -1.0 1.0 0.0\n",
      " 1.0 Inf 1.0]\n",
      "L^{-1} A = \n",
      "[1.0 -1.0 2.0\n",
      " 0.0 0.0 4.0\n",
      " NaN NaN -Inf]\n",
      "\n",
      "(L,U) = (\n",
      "[1.0 0.0 0.0\n",
      " -1.0 1.0 0.0\n",
      " 1.0 Inf 1.0],\n",
      "\n",
      "[1.0 -1.0 2.0\n",
      " 0.0 0.0 4.0\n",
      " 0.0 0.0 -Inf])\n"
     ]
    },
    {
     "data": {
      "text/plain": [
       "(\n",
       "3x3 Array{Float64,2}:\n",
       "  1.0    0.0  0.0\n",
       " -1.0    1.0  0.0\n",
       "  1.0  Inf    1.0,\n",
       "\n",
       "3x3 Array{Float64,2}:\n",
       " 1.0  -1.0     2.0\n",
       " 0.0   0.0     4.0\n",
       " 0.0   0.0  -Inf  )"
      ]
     },
     "execution_count": 56,
     "metadata": {},
     "output_type": "execute_result"
    }
   ],
   "source": [
    "A = [1.0 -1 2;\n",
    "    -1.0 1  2\n",
    "     1.0 0  3]\n",
    "L,U = lusteps(A);\n",
    "@show L,U"
   ]
  },
  {
   "cell_type": "code",
   "execution_count": 52,
   "metadata": {
    "collapsed": false
   },
   "outputs": [
    {
     "data": {
      "text/plain": [
       "lupsteps (generic function with 1 method)"
      ]
     },
     "execution_count": 52,
     "metadata": {},
     "output_type": "execute_result"
    }
   ],
   "source": [
    "function swaprows!(A,i,r,cols=:)\n",
    "    temp = A[i,cols]\n",
    "    A[i,cols] = A[r,cols]\n",
    "    A[r,cols] = temp\n",
    "end\n",
    "function lupsteps(A)\n",
    "    A = deepcopy(A)\n",
    "    A0 = copy(A)\n",
    "    println()\n",
    "    println(\"Pivoted LU factorization of\")\n",
    "    println(\"A = \")\n",
    "    println(A)\n",
    "    println()\n",
    "    \n",
    "    # Begin real stuff... \n",
    "    n = size(A,1)\n",
    "    @assert n == size(A,2)\n",
    "    L = eye(n)\n",
    "    P = eye(n)\n",
    "    for k=1:n-1 # outer step of Gaussian Elimination\n",
    "        # find Pivot\n",
    "        r = indmax(abs(A[k:n,k]))\n",
    "        @show A[k:n,k]\n",
    "        @show r\n",
    "        if r > 1 # then we need to pivot\n",
    "            swaprows!(A,k,k+r-1)\n",
    "            swaprows!(P,k,k+r-1)\n",
    "            swaprows!(L,k,k+r-1,1:k-1)\n",
    "        end\n",
    "        for i = k+1:n # for each row\n",
    "            L[i,k] = A[i,k]/A[k,k]\n",
    "            for j = k:n # for each column\n",
    "                A[i,j] = A[i,j] - L[i,k]*A[k,j]\n",
    "            end\n",
    "        end\n",
    "        # end real stuff!\n",
    "        \n",
    "        @printf(\"after step %i\\n\", k)\n",
    "        println(\"L = \")\n",
    "        println(L)\n",
    "        println(\"L^{-1} P A = \")\n",
    "        println(L\\(P*A0))\n",
    "        println()\n",
    "        #@show L*A, A0, L*A - A0\n",
    "    end\n",
    "    \n",
    "    # One more real thing!\n",
    "    U = triu(A)\n",
    "    return L, U, P\n",
    "end"
   ]
  },
  {
   "cell_type": "code",
   "execution_count": 53,
   "metadata": {
    "collapsed": false
   },
   "outputs": [
    {
     "name": "stdout",
     "output_type": "stream",
     "text": [
      "\n",
      "Pivoted LU factorization of\n",
      "A = \n",
      "[1.0e-20 1.0\n",
      " 1.0 1.0]\n",
      "\n",
      "A[k:n,k] = [1.0e-20,1.0]\n",
      "r = 2\n",
      "after step 1\n",
      "L = \n",
      "[1.0 0.0\n",
      " 1.0e-20 1.0]\n",
      "L^{-1} P A = \n",
      "[1.0 1.0\n",
      " 0.0 1.0]\n",
      "\n"
     ]
    },
    {
     "data": {
      "text/plain": [
       "(\n",
       "2x2 Array{Float64,2}:\n",
       " 1.0      0.0\n",
       " 1.0e-20  1.0,\n",
       "\n",
       "2x2 Array{Float64,2}:\n",
       " 1.0  1.0\n",
       " 0.0  1.0,\n",
       "\n",
       "2x2 Array{Float64,2}:\n",
       " 0.0  1.0\n",
       " 1.0  0.0)"
      ]
     },
     "execution_count": 53,
     "metadata": {},
     "output_type": "execute_result"
    }
   ],
   "source": [
    "lupsteps([1.0e-20 1; 1 1])"
   ]
  },
  {
   "cell_type": "code",
   "execution_count": 57,
   "metadata": {
    "collapsed": false
   },
   "outputs": [
    {
     "name": "stdout",
     "output_type": "stream",
     "text": [
      "\n",
      "Pivoted LU factorization of\n",
      "A = \n",
      "[1.0 -1.0 2.0\n",
      " -1.0 1.0 2.0\n",
      " 1.0 0.0 3.0]\n",
      "\n",
      "A[k:n,k] = [1.0,-1.0,1.0]\n",
      "r = 1\n",
      "after step 1\n",
      "L = \n",
      "[1.0 0.0 0.0\n",
      " -1.0 1.0 0.0\n",
      " 1.0 0.0 1.0]\n",
      "L^{-1} P A = \n",
      "[1.0 -1.0 2.0\n",
      " 0.0 0.0 4.0\n",
      " 0.0 1.0 1.0]\n",
      "\n",
      "A[k:n,k] = [0.0,1.0]\n",
      "r = 2\n",
      "after step 2\n",
      "L = \n",
      "[1.0 0.0 0.0\n",
      " 1.0 1.0 0.0\n",
      " -1.0 0.0 1.0]\n",
      "L^{-1} P A = \n",
      "[1.0 -1.0 2.0\n",
      " 0.0 1.0 1.0\n",
      " 0.0 0.0 4.0]\n",
      "\n"
     ]
    },
    {
     "data": {
      "text/plain": [
       "(\n",
       "3x3 Array{Float64,2}:\n",
       "  1.0  0.0  0.0\n",
       "  1.0  1.0  0.0\n",
       " -1.0  0.0  1.0,\n",
       "\n",
       "3x3 Array{Float64,2}:\n",
       " 1.0  -1.0  2.0\n",
       " 0.0   1.0  1.0\n",
       " 0.0   0.0  4.0,\n",
       "\n",
       "3x3 Array{Float64,2}:\n",
       " 1.0  0.0  0.0\n",
       " 0.0  0.0  1.0\n",
       " 0.0  1.0  0.0)"
      ]
     },
     "execution_count": 57,
     "metadata": {},
     "output_type": "execute_result"
    }
   ],
   "source": [
    "A = [1.0 -1 2;\n",
    "    -1.0 1  2\n",
    "     1.0 0  3]\n",
    "lupsteps(A)"
   ]
  }
 ],
 "metadata": {
  "kernelspec": {
   "display_name": "Julia 0.4.7",
   "language": "julia",
   "name": "julia-0.4"
  },
  "language_info": {
   "file_extension": ".jl",
   "mimetype": "application/julia",
   "name": "julia",
   "version": "0.4.7"
  }
 },
 "nbformat": 4,
 "nbformat_minor": 0
}
