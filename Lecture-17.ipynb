{
 "cells": [
  {
   "cell_type": "code",
   "execution_count": 2,
   "metadata": {
    "collapsed": false
   },
   "outputs": [
    {
     "name": "stdout",
     "output_type": "stream",
     "text": [
      "A \\ b = [-1.0,-2.0,1.0]\n",
      "x = backward_sweep(U,y) = [-1.0,-2.0,1.0]\n",
      "norm(x - A \\ b) = 0.0\n"
     ]
    }
   ],
   "source": [
    "\n",
    "\n",
    "function forward_sweep(L,b)\n",
    "    y = zeros(size(L,1))\n",
    "    for i=1:size(L,1)\n",
    "        r = b[i]\n",
    "        for j=1:i-1\n",
    "            r -= L[i,j]*y[j]\n",
    "        end\n",
    "        y[i] = r/L[i,i]\n",
    "    end\n",
    "    return y\n",
    "end\n",
    "\n",
    "function backward_sweep(U,y)\n",
    "    x = zeros(size(U,1))\n",
    "    for i=size(U,1):-1:1 # reverse order\n",
    "        r = y[i]\n",
    "        for j=i+1:size(U,2)\n",
    "            r -= U[i,j]*x[j]\n",
    "        end\n",
    "        x[i] = r/U[i,i]\n",
    "    end\n",
    "    return x\n",
    "end\n",
    "\n",
    "L = [1.0  0 0 \n",
    "     1.0  1 0 \n",
    "    -1.0  0 1]\n",
    "U = [1.0 -1 2\n",
    "     0.0 1  1\n",
    "     0.0 0  4]\n",
    "A = L*U\n",
    "\n",
    "b = [3.0; 2.0; 1.0]\n",
    "@show A \\ b\n",
    "y = forward_sweep(L,b)\n",
    "@show x = backward_sweep(U,y)\n",
    "@show norm(x - A\\b);"
   ]
  },
  {
   "cell_type": "code",
   "execution_count": 3,
   "metadata": {
    "collapsed": false
   },
   "outputs": [
    {
     "ename": "LoadError",
     "evalue": "LoadError: UndefVarError: A not defined\nwhile loading In[3], in expression starting on line 37",
     "output_type": "error",
     "traceback": [
      "LoadError: UndefVarError: A not defined\nwhile loading In[3], in expression starting on line 37",
      ""
     ]
    }
   ],
   "source": [
    "function lusteps(A)\n",
    "    A = deepcopy(A)\n",
    "    A0 = copy(A)\n",
    "    println()\n",
    "    println(\"LU factorization of\")\n",
    "    println(\"A = \")\n",
    "    println(A)\n",
    "    println()\n",
    "    \n",
    "    # Begin real stuff... \n",
    "    n = size(A,1)\n",
    "    @assert n == size(A,2)\n",
    "    L = eye(n)\n",
    "    for k=1:n-1 # outer step of Gaussian Elimination\n",
    "        for i = k+1:n # for each row\n",
    "            L[i,k] = A[i,k]/A[k,k]\n",
    "            for j = k:n # for each column\n",
    "                A[i,j] = A[i,j] - L[i,k]*A[k,j]\n",
    "            end\n",
    "        end\n",
    "        # end real stuff!\n",
    "        \n",
    "        @printf(\"after step %i\\n\", k)\n",
    "        println(\"L = \")\n",
    "        println(L)\n",
    "        println(\"L^{-1} A = \")\n",
    "        println(L\\A0)\n",
    "        println()\n",
    "        #@show L*A, A0, L*A - A0\n",
    "    end\n",
    "    \n",
    "    # One more real thing!\n",
    "    U = triu(A)\n",
    "    return L, U\n",
    "end\n",
    "#lusteps([3.0 6 9; 2 5 -2; 1 3 -1])\n",
    "lusteps(A);"
   ]
  },
  {
   "cell_type": "code",
   "execution_count": 4,
   "metadata": {
    "collapsed": false
   },
   "outputs": [
    {
     "name": "stdout",
     "output_type": "stream",
     "text": [
      "\n",
      "LU factorization of\n",
      "A = \n",
      "[3.0 6.0 9.0\n",
      " 2.0 5.0 -2.0\n",
      " 1.0 3.0 -1.0]\n",
      "\n",
      "after step 1\n",
      "L = \n",
      "[1.0 0.0 0.0\n",
      " 0.6666666666666666 1.0 0.0\n",
      " 0.3333333333333333 0.0 1.0]\n",
      "L^{-1} A = \n",
      "[3.0 6.0 9.0\n",
      " 0.0 1.0 -8.0\n",
      " 0.0 1.0 -4.0]\n",
      "\n",
      "after step 2\n",
      "L = \n",
      "[1.0 0.0 0.0\n",
      " 0.6666666666666666 1.0 0.0\n",
      " 0.3333333333333333 1.0 1.0]\n",
      "L^{-1} A = \n",
      "[3.0 6.0 9.0\n",
      " 0.0 1.0 -8.0\n",
      " 0.0 0.0 4.0]\n",
      "\n",
      "x = [2.0,1.0,3.0]\n",
      "norm(x - A \\ b) = 0.0\n"
     ]
    },
    {
     "data": {
      "text/plain": [
       "0.0"
      ]
     },
     "execution_count": 4,
     "metadata": {},
     "output_type": "execute_result"
    }
   ],
   "source": [
    "A = [3.0 6 9; 2 5 -2; 1 3 -1];\n",
    "b = [39; 3; 2.0]\n",
    "\n",
    "L,U = lusteps(A)\n",
    "x = backward_sweep(U,forward_sweep(L,b))\n",
    "@show x\n",
    "@show norm(x - A\\b)"
   ]
  },
  {
   "cell_type": "code",
   "execution_count": null,
   "metadata": {
    "collapsed": false
   },
   "outputs": [],
   "source": [
    "A = [1.0 -1 2;\n",
    "     1.0 0  3;\n",
    "    -1.0 1  2]\n",
    "\n",
    "lusteps(A);"
   ]
  },
  {
   "cell_type": "code",
   "execution_count": 6,
   "metadata": {
    "collapsed": false
   },
   "outputs": [
    {
     "name": "stdout",
     "output_type": "stream",
     "text": [
      "\n",
      "LU factorization of\n",
      "A = \n",
      "[1.0 -1.0 2.0\n",
      " -1.0 1.0 2.0\n",
      " 1.0 0.0 3.0]\n",
      "\n",
      "after step 1\n",
      "L = \n",
      "[1.0 0.0 0.0\n",
      " -1.0 1.0 0.0\n",
      " 1.0 0.0 1.0]\n",
      "L^{-1} A = \n",
      "[1.0 -1.0 2.0\n",
      " 0.0 0.0 4.0\n",
      " 0.0 1.0 1.0]\n",
      "\n",
      "after step 2\n",
      "L = \n",
      "[1.0 0.0 0.0\n",
      " -1.0 1.0 0.0\n",
      " 1.0 Inf 1.0]\n",
      "L^{-1} A = \n",
      "[1.0 -1.0 2.0\n",
      " 0.0 0.0 4.0\n",
      " NaN NaN -Inf]\n",
      "\n",
      "(L,U) = (\n",
      "[1.0 0.0 0.0\n",
      " -1.0 1.0 0.0\n",
      " 1.0 Inf 1.0],\n",
      "\n",
      "[1.0 -1.0 2.0\n",
      " 0.0 0.0 4.0\n",
      " 0.0 0.0 -Inf])\n"
     ]
    },
    {
     "data": {
      "text/plain": [
       "(\n",
       "3x3 Array{Float64,2}:\n",
       "  1.0    0.0  0.0\n",
       " -1.0    1.0  0.0\n",
       "  1.0  Inf    1.0,\n",
       "\n",
       "3x3 Array{Float64,2}:\n",
       " 1.0  -1.0     2.0\n",
       " 0.0   0.0     4.0\n",
       " 0.0   0.0  -Inf  )"
      ]
     },
     "execution_count": 6,
     "metadata": {},
     "output_type": "execute_result"
    }
   ],
   "source": [
    "A = [1.0 -1 2;\n",
    "    -1.0 1  2\n",
    "     1.0 0  3]\n",
    "L,U = lusteps(A);\n",
    "@show L,U"
   ]
  },
  {
   "cell_type": "code",
   "execution_count": 1,
   "metadata": {
    "collapsed": false
   },
   "outputs": [
    {
     "data": {
      "text/plain": [
       "lupsteps (generic function with 1 method)"
      ]
     },
     "execution_count": 1,
     "metadata": {},
     "output_type": "execute_result"
    }
   ],
   "source": [
    "function swaprows!(A,i,r,cols=:)\n",
    "    temp = A[i,cols]\n",
    "    A[i,cols] = A[r,cols]\n",
    "    A[r,cols] = temp\n",
    "end\n",
    "function lupsteps(A)\n",
    "    A = deepcopy(A)\n",
    "    A0 = copy(A)\n",
    "    println()\n",
    "    println(\"Pivoted LU factorization of\")\n",
    "    println(\"A = \")\n",
    "    println(A)\n",
    "    println()\n",
    "    \n",
    "    # Begin real stuff... \n",
    "    n = size(A,1)\n",
    "    @assert n == size(A,2)\n",
    "    L = eye(n)\n",
    "    P = eye(n)\n",
    "    for k=1:n-1 # outer step of Gaussian Elimination\n",
    "        # find Pivot\n",
    "        r = indmax(abs(A[k:n,k]))\n",
    "        @show r\n",
    "        if r > 1 # then we need to pivot\n",
    "            swaprows!(A,k,k+r-1)\n",
    "            swaprows!(P,k,k+r-1)\n",
    "            swaprows!(L,k,k+r-1,1:k-1)\n",
    "        end\n",
    "        for i = k+1:n # for each row\n",
    "            L[i,k] = A[i,k]/A[k,k]\n",
    "            for j = k:n # for each column\n",
    "                A[i,j] = A[i,j] - L[i,k]*A[k,j]\n",
    "            end\n",
    "        end\n",
    "        # end real stuff!\n",
    "        \n",
    "        @printf(\"after step %i\\n\", k)\n",
    "        println(\"L = \")\n",
    "        println(L)\n",
    "        println(\"L^{-1} P A = \")\n",
    "        println(L\\(P*A0))\n",
    "        println()\n",
    "        #@show L*A, A0, L*A - A0\n",
    "    end\n",
    "    \n",
    "    # One more real thing!\n",
    "    U = triu(A)\n",
    "    return L, U, P\n",
    "end"
   ]
  },
  {
   "cell_type": "code",
   "execution_count": null,
   "metadata": {
    "collapsed": true
   },
   "outputs": [],
   "source": []
  },
  {
   "cell_type": "code",
   "execution_count": 5,
   "metadata": {
    "collapsed": false
   },
   "outputs": [
    {
     "name": "stdout",
     "output_type": "stream",
     "text": [
      "\n",
      "Pivoted LU factorization of\n",
      "A = \n",
      "[1.0e-20 1.0\n",
      " 1.0 1.0]\n",
      "\n",
      "r = 2\n",
      "after step 1\n",
      "L = \n",
      "[1.0 0.0\n",
      " 1.0e-20 1.0]\n",
      "L^{-1} P A = \n",
      "[1.0 1.0\n",
      " 0.0 1.0]\n",
      "\n"
     ]
    },
    {
     "data": {
      "text/plain": [
       "(\n",
       "2x2 Array{Float64,2}:\n",
       " 1.0      0.0\n",
       " 1.0e-20  1.0,\n",
       "\n",
       "2x2 Array{Float64,2}:\n",
       " 1.0  1.0\n",
       " 0.0  1.0,\n",
       "\n",
       "2x2 Array{Float64,2}:\n",
       " 0.0  1.0\n",
       " 1.0  0.0)"
      ]
     },
     "execution_count": 5,
     "metadata": {},
     "output_type": "execute_result"
    }
   ],
   "source": [
    "lupsteps([1.0e-20 1; 1 1])"
   ]
  },
  {
   "cell_type": "code",
   "execution_count": null,
   "metadata": {
    "collapsed": true
   },
   "outputs": [],
   "source": []
  },
  {
   "cell_type": "code",
   "execution_count": 8,
   "metadata": {
    "collapsed": false
   },
   "outputs": [
    {
     "name": "stdout",
     "output_type": "stream",
     "text": [
      "\n",
      "Pivoted LU factorization of\n",
      "A = \n",
      "[1.0 -1.0 2.0\n",
      " -1.0 1.0 2.0\n",
      " 1.0 0.0 3.0]\n",
      "\n",
      "r = 1\n",
      "after step 1\n",
      "L = \n",
      "[1.0 0.0 0.0\n",
      " -1.0 1.0 0.0\n",
      " 1.0 0.0 1.0]\n",
      "L^{-1} P A = \n",
      "[1.0 -1.0 2.0\n",
      " 0.0 0.0 4.0\n",
      " 0.0 1.0 1.0]\n",
      "\n",
      "r = 2\n",
      "after step 2\n",
      "L = \n",
      "[1.0 0.0 0.0\n",
      " 1.0 1.0 0.0\n",
      " -1.0 0.0 1.0]\n",
      "L^{-1} P A = \n",
      "[1.0 -1.0 2.0\n",
      " 0.0 1.0 1.0\n",
      " 0.0 0.0 4.0]\n",
      "\n"
     ]
    },
    {
     "data": {
      "text/plain": [
       "(\n",
       "3x3 Array{Float64,2}:\n",
       "  1.0  0.0  0.0\n",
       "  1.0  1.0  0.0\n",
       " -1.0  0.0  1.0,\n",
       "\n",
       "3x3 Array{Float64,2}:\n",
       " 1.0  -1.0  2.0\n",
       " 0.0   1.0  1.0\n",
       " 0.0   0.0  4.0,\n",
       "\n",
       "3x3 Array{Float64,2}:\n",
       " 1.0  0.0  0.0\n",
       " 0.0  0.0  1.0\n",
       " 0.0  1.0  0.0)"
      ]
     },
     "execution_count": 8,
     "metadata": {},
     "output_type": "execute_result"
    }
   ],
   "source": [
    "A = [1.0 -1 2;\n",
    "    -1.0 1  2\n",
    "     1.0 0  3]\n",
    "lupsteps(A)"
   ]
  },
  {
   "cell_type": "code",
   "execution_count": 9,
   "metadata": {
    "collapsed": false
   },
   "outputs": [
    {
     "name": "stdout",
     "output_type": "stream",
     "text": [
      "\n",
      "Pivoted LU factorization of\n",
      "A = \n",
      "[1.0 2.0 3.0\n",
      " 4.0 5.0 6.0\n",
      " 7.0 8.0 0.0]\n",
      "\n",
      "r = 3\n",
      "after step 1\n",
      "L = \n",
      "[1.0 0.0 0.0\n",
      " 0.5714285714285714 1.0 0.0\n",
      " 0.14285714285714285 0.0 1.0]\n",
      "L^{-1} P A = \n",
      "[7.0 8.0 0.0\n",
      " 0.0 0.4285714285714288 6.0\n",
      " 0.0 0.8571428571428572 3.0]\n",
      "\n",
      "r = 2\n",
      "after step 2\n",
      "L = \n",
      "[1.0 0.0 0.0\n",
      " 0.14285714285714285 1.0 0.0\n",
      " 0.5714285714285714 0.5000000000000002 1.0]\n",
      "L^{-1} P A = \n",
      "[7.0 8.0 0.0\n",
      " 0.0 0.8571428571428572 3.0\n",
      " 0.0 0.0 4.499999999999999]\n",
      "\n"
     ]
    },
    {
     "data": {
      "text/plain": [
       "(\n",
       "3x3 Array{Float64,2}:\n",
       " 1.0       0.0  0.0\n",
       " 0.142857  1.0  0.0\n",
       " 0.571429  0.5  1.0,\n",
       "\n",
       "3x3 Array{Float64,2}:\n",
       " 7.0  8.0       0.0\n",
       " 0.0  0.857143  3.0\n",
       " 0.0  0.0       4.5,\n",
       "\n",
       "3x3 Array{Float64,2}:\n",
       " 0.0  0.0  1.0\n",
       " 1.0  0.0  0.0\n",
       " 0.0  1.0  0.0)"
      ]
     },
     "execution_count": 9,
     "metadata": {},
     "output_type": "execute_result"
    }
   ],
   "source": [
    "lupsteps([1.0 2 3;\n",
    "     4.0 5 6;\n",
    "     7.0 8 0])"
   ]
  },
  {
   "cell_type": "code",
   "execution_count": 10,
   "metadata": {
    "collapsed": false
   },
   "outputs": [
    {
     "name": "stdout",
     "output_type": "stream",
     "text": [
      "\n",
      "Pivoted LU factorization of\n",
      "A = \n",
      "[1.3536006267991767 -0.6203480402843149 1.5010001572343763 1.610451834998707\n",
      " 0.16405135363831408 -0.16784458699816776 -0.3265101827949094 -0.5244591110414828\n",
      " 0.44477684695433733 -1.1647885807349385 -0.28029146783200054 -0.5358697932291413\n",
      " -0.5729518937189758 1.46590400214269 2.0053370063498295 -1.1892766968680581]\n",
      "\n",
      "r = 1\n",
      "after step 1\n",
      "L = \n",
      "[1.0 0.0 0.0 0.0\n",
      " 0.1211962748763215 1.0 0.0 0.0\n",
      " 0.3285879439979939 0.0 1.0 0.0\n",
      " -0.4232798673223282 0.0 0.0 1.0]\n",
      "L^{-1} P A = \n",
      "[1.3536006267991767 -0.6203480402843149 1.5010001572343763 1.610451834998707\n",
      " 0.0 -0.09266071538888257 -0.5084258104404886 -0.7196398743110625\n",
      " 0.0 -0.9609496936147308 -0.7735020234383099 -1.065044850599163\n",
      " 0.0 1.2033231659574788 2.64068015375479 -0.5076048578208056]\n",
      "\n",
      "r = 3\n",
      "after step 2\n",
      "L = \n",
      "[1.0 0.0 0.0 0.0\n",
      " -0.4232798673223282 1.0 0.0 0.0\n",
      " 0.3285879439979939 -0.7985799000637601 1.0 0.0\n",
      " 0.1211962748763215 -0.07700401522242187 0.0 1.0]\n",
      "L^{-1} P A = \n",
      "[1.3536006267991767 -0.6203480402843149 1.5010001572343763 1.610451834998707\n",
      " 0.0 1.2033231659574788 2.64068015375479 -0.5076048578208056\n",
      " 0.0 0.0 1.3352920698475448 -1.4704078872295812\n",
      " 0.0 0.0 -0.3050828356832075 -0.758727486509671]\n",
      "\n",
      "r = 1\n",
      "after step 3\n",
      "L = \n",
      "[1.0 0.0 0.0 0.0\n",
      " -0.4232798673223282 1.0 0.0 0.0\n",
      " 0.3285879439979939 -0.7985799000637601 1.0 0.0\n",
      " 0.1211962748763215 -0.07700401522242187 -0.22847648284022232 1.0]\n",
      "L^{-1} P A = \n",
      "[1.3536006267991767 -0.6203480402843149 1.5010001572343763 1.610451834998707\n",
      " 0.0 1.2033231659574788 2.64068015375479 -0.5076048578208056\n",
      " 0.0 0.0 1.3352920698475448 -1.4704078872295812\n",
      " 0.0 0.0 0.0 -1.094681108924408]\n",
      "\n"
     ]
    },
    {
     "data": {
      "text/plain": [
       "(\n",
       "4x4 Array{Float64,2}:\n",
       "  1.0        0.0        0.0       0.0\n",
       " -0.42328    1.0        0.0       0.0\n",
       "  0.328588  -0.79858    1.0       0.0\n",
       "  0.121196  -0.077004  -0.228476  1.0,\n",
       "\n",
       "4x4 Array{Float64,2}:\n",
       " 1.3536  -0.620348  1.501     1.61045 \n",
       " 0.0      1.20332   2.64068  -0.507605\n",
       " 0.0      0.0       1.33529  -1.47041 \n",
       " 0.0      0.0       0.0      -1.09468 ,\n",
       "\n",
       "4x4 Array{Float64,2}:\n",
       " 1.0  0.0  0.0  0.0\n",
       " 0.0  0.0  0.0  1.0\n",
       " 0.0  0.0  1.0  0.0\n",
       " 0.0  1.0  0.0  0.0)"
      ]
     },
     "execution_count": 10,
     "metadata": {},
     "output_type": "execute_result"
    }
   ],
   "source": [
    "lupsteps(randn(4,4))"
   ]
  }
 ],
 "metadata": {
  "kernelspec": {
   "display_name": "Julia 0.4.7",
   "language": "julia",
   "name": "julia-0.4"
  },
  "language_info": {
   "file_extension": ".jl",
   "mimetype": "application/julia",
   "name": "julia",
   "version": "0.4.7"
  }
 },
 "nbformat": 4,
 "nbformat_minor": 0
}
