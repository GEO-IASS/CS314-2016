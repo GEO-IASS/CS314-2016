{
 "cells": [
  {
   "cell_type": "code",
   "execution_count": 1,
   "metadata": {
    "collapsed": false
   },
   "outputs": [
    {
     "data": {
      "text/plain": [
       "enorm_simple (generic function with 1 method)"
      ]
     },
     "execution_count": 1,
     "metadata": {},
     "output_type": "execute_result"
    }
   ],
   "source": [
    "function enorm_simple(x)\n",
    "    n = 0.\n",
    "    for i=1:length(x)\n",
    "        n += x[i]*x[i]\n",
    "    end\n",
    "    return sqrt(n)\n",
    "end"
   ]
  },
  {
   "cell_type": "code",
   "execution_count": 7,
   "metadata": {
    "collapsed": false
   },
   "outputs": [
    {
     "name": "stdout",
     "output_type": "stream",
     "text": [
      "norm(x) = 1.0e160\n",
      "enorm_simple(x) = Inf\n"
     ]
    },
    {
     "data": {
      "text/plain": [
       "Inf"
      ]
     },
     "execution_count": 7,
     "metadata": {},
     "output_type": "execute_result"
    }
   ],
   "source": [
    "x = [10.^160.; 10.^100.]\n",
    "@show norm(x)\n",
    "@show enorm_simple(x);"
   ]
  },
  {
   "cell_type": "code",
   "execution_count": 15,
   "metadata": {
    "collapsed": false
   },
   "outputs": [
    {
     "name": "stderr",
     "output_type": "stream",
     "text": [
      "INFO: Cloning cache of PlotlyJS from git://github.com/spencerlyon2/PlotlyJS.jl.git\n",
      "INFO: Installing PlotlyJS v0.3.3\n",
      "INFO: Building HttpParser\n",
      "INFO: Building Homebrew\n"
     ]
    },
    {
     "name": "stdout",
     "output_type": "stream",
     "text": [
      "To restore the stashed changes to /Users/dgleich/.julia/Homebrew/deps/usr run:\n",
      "  'cd /Users/dgleich/.julia/Homebrew/deps/usr && git stash pop'\n",
      "Updated Homebrew from aa165e1 to f37d004.\n",
      "Updated 3 taps (homebrew/core, homebrew/science, staticfloat/juliadeps).\n",
      "==> New Formulae\n",
      "apache-zeppelin\n",
      "folly\n",
      "gron\n",
      "homebrew/science/afra\n",
      "homebrew/science/cfitsio\n",
      "homebrew/science/dlib\n",
      "homebrew/science/fplll\n",
      "homebrew/science/jsbsim\n",
      "homebrew/science/kmacs\n",
      "homebrew/science/macse\n",
      "homebrew/science/ococo\n",
      "homebrew/science/parallel-netcdf\n",
      "homebrew/science/sequel\n",
      "homebrew/science/spaced\n",
      "homebrew/science/swarm\n",
      "lean-cli\n",
      "libngspice\n",
      "liquigraph\n",
      "openssl@1.1\n",
      "sslsplit\n",
      "staticfloat/juliadeps/openlibm\n",
      "staticfloat/juliadeps/openspecfun\n",
      "wego\n",
      "xcenv\n",
      "==> Updated Formulae\n",
      "acmetool\n",
      "activemq\n",
      "amap\n",
      "ammonite-repl\n",
      "ansible-cmdb\n",
      "antigen\n",
      "antlr\n",
      "apr\n",
      "apr-util\n",
      "aria2\n",
      "artifactory\n",
      "aws-elasticbeanstalk\n",
      "aws-sdk-cpp\n",
      "aws-shell\n",
      "awscli\n",
      "azure-cli\n",
      "b2-tools\n",
      "bfg\n",
      "botan\n",
      "caf\n",
      "ccache\n",
      "cconv\n",
      "cereal\n",
      "cgal\n",
      "charm\n",
      "checkstyle\n",
      "chisel\n",
      "citus\n",
      "clang-format\n",
      "cli53\n",
      "codequery\n",
      "cogl\n",
      "conan\n",
      "concurrencykit\n",
      "crystal-lang\n",
      "csfml\n",
      "curl\n",
      "darkice\n",
      "deheader\n",
      "dependency-check\n",
      "depqbf\n",
      "dieharder\n",
      "dovecot\n",
      "doxygen\n",
      "dpkg\n",
      "dtach\n",
      "elasticsearch\n",
      "enca\n",
      "etcd\n",
      "fdk-aac-encoder\n",
      "ffmpegthumbnailer\n",
      "fleetctl\n",
      "flow\n",
      "flowgrind\n",
      "fluent-bit\n",
      "git\n",
      "git-cola\n",
      "git-credential-manager\n",
      "git-lfs\n",
      "git-when-merged\n",
      "gitbucket\n",
      "gitg\n",
      "gitlab-ci-multi-runner\n",
      "gitversion\n",
      "gjstest\n",
      "glib\n",
      "glide\n",
      "gnu-apl\n",
      "gnuradio\n",
      "go\n",
      "googler\n",
      "gor\n",
      "govendor\n",
      "gputils\n",
      "graphicsmagick\n",
      "groonga\n",
      "gsl\n",
      "gst-plugins-bad\n",
      "gst-plugins-base\n",
      "gst-plugins-good\n",
      "gst-plugins-ugly\n",
      "gtk+3\n",
      "gtk-gnutella\n",
      "gtkextra\n",
      "gtkmm\n",
      "heroku\n",
      "homebrew/science/abinit\n",
      "homebrew/science/analysis\n",
      "homebrew/science/andi\n",
      "homebrew/science/apophenia\n",
      "homebrew/science/armadillo\n",
      "homebrew/science/arpack\n",
      "homebrew/science/art\n",
      "homebrew/science/astrometry-net\n",
      "homebrew/science/atomic-pseudopotential-engine\n",
      "homebrew/science/ceres-solver\n",
      "homebrew/science/clark\n",
      "homebrew/science/cmdstan\n",
      "homebrew/science/dealii\n",
      "homebrew/science/diamond\n",
      "homebrew/science/ea-utils\n",
      "homebrew/science/fgsl\n",
      "homebrew/science/fwdpp\n",
      "homebrew/science/garli\n",
      "homebrew/science/gdcm\n",
      "homebrew/science/getdp\n",
      "homebrew/science/gnudatalanguage\n",
      "homebrew/science/gromacs\n",
      "homebrew/science/hwloc\n",
      "homebrew/science/igv\n",
      "homebrew/science/igvtools\n",
      "homebrew/science/lobstr\n",
      "homebrew/science/mash\n",
      "homebrew/science/mathgl\n",
      "homebrew/science/methpipe\n",
      "homebrew/science/mlpack\n",
      "homebrew/science/nco\n",
      "homebrew/science/nest\n",
      "homebrew/science/nextflow\n",
      "homebrew/science/nip2\n",
      "homebrew/science/poretools\n",
      "homebrew/science/proteinortho\n",
      "homebrew/science/pspp\n",
      "homebrew/science/root\n",
      "homebrew/science/root6\n",
      "homebrew/science/salmon\n",
      "homebrew/science/scotch\n",
      "homebrew/science/scotch5\n",
      "homebrew/science/shark\n",
      "homebrew/science/slepc\n",
      "homebrew/science/stringtie\n",
      "homebrew/science/sundials\n",
      "homebrew/science/visp\n",
      "homebrew/science/vsearch\n",
      "homebrew/science/xmi-msim\n",
      "homebrew/science/xrmc\n",
      "homebrew/science/zoltan\n",
      "hyperscan\n",
      "imagemagick\n",
      "influxdb\n",
      "inspircd\n",
      "iso-codes\n",
      "jboss-forge\n",
      "jenkins\n",
      "jlog\n",
      "jq\n",
      "jruby\n",
      "jsoncpp\n",
      "jsonschema2pojo\n",
      "khal\n",
      "khard\n",
      "kobalt\n",
      "kubernetes-cli\n",
      "lftp\n",
      "libflowmanager\n",
      "libfreenect\n",
      "libgit2-glib\n",
      "libgraphqlparser\n",
      "libiscsi\n",
      "libksba\n",
      "libmicrohttpd\n",
      "libpointing\n",
      "libprotoident\n",
      "libtess2\n",
      "libvirt\n",
      "libvpx\n",
      "logstash\n",
      "logtalk\n",
      "macvim\n",
      "mailhog\n",
      "mariadb\n",
      "mawk\n",
      "mbelib\n",
      "media-info\n",
      "mediaconch\n",
      "mercurial\n",
      "meson\n",
      "mg3a\n",
      "monkeysphere\n",
      "mosquitto\n",
      "mpv\n",
      "mtools\n",
      "mysql-sandbox\n",
      "mysqltuner\n",
      "nifi\n",
      "node\n",
      "node-build\n",
      "noti\n",
      "nvm\n",
      "oniguruma\n",
      "open-mpi\n",
      "orc\n",
      "oscats\n",
      "pandoc-crossref\n",
      "pango\n",
      "pangomm\n",
      "pgbadger\n",
      "pgroonga\n",
      "pidcat\n",
      "platformio\n",
      "plowshare\n",
      "poco\n",
      "ponyc\n",
      "postgis\n",
      "pre-commit\n",
      "prometheus\n",
      "pushpin\n",
      "pypy\n",
      "qemu\n",
      "rainbarf\n",
      "rbenv-binstubs\n",
      "re2\n",
      "rebar\n",
      "remarshal\n",
      "reposurgeon\n",
      "rethinkdb\n",
      "rhino\n",
      "riemann\n",
      "rtv\n",
      "saltstack\n",
      "sane-backends\n",
      "sbcl\n",
      "scriptcs\n",
      "sfcgal\n",
      "sfml\n",
      "shadowsocks-libev\n",
      "shared-mime-info\n",
      "sile\n",
      "smlnj\n",
      "sonar-runner\n",
      "sqlmap\n",
      "staticfloat/juliadeps/fontconfig\n",
      "staticfloat/juliadeps/mbedtls\n",
      "subliminal\n",
      "svtplay-dl\n",
      "swiftgen\n",
      "syncthing\n",
      "tcpkali\n",
      "telegraf\n",
      "terraform\n",
      "tgui\n",
      "the_platinum_searcher\n",
      "tile38\n",
      "tippecanoe\n",
      "todolist\n",
      "tomcat\n",
      "transcrypt\n",
      "upscaledb\n",
      "urweb\n",
      "vapoursynth\n",
      "vegeta\n",
      "vim\n",
      "vnstat\n",
      "wakatime-cli\n",
      "wartremover\n",
      "wrangler\n",
      "x265\n",
      "xmake\n",
      "xonsh\n",
      "youtube-dl\n",
      "zimg\n",
      "zplug\n",
      "zstd\n",
      "zurl\n",
      "==> Deleted Formulae\n",
      "box2d\n",
      "cfitsio\n",
      "dircproxy\n",
      "git-stree\n",
      "lastfmlib\n",
      "orpie\n",
      "Uninstalling fontconfig... (450 files, 2.9M)\n",
      "==> Installing fontconfig from staticfloat/juliatranslated\n",
      "==> Downloading https://homebrew.bintray.com/bottles/fontconfig-2.12.1.el_capitan.bottle.tar.gz\n",
      "==> Pouring fontconfig-2.12.1.el_capitan.bottle.tar.gz\n",
      "==> Regenerating font cache, this may take a while\n",
      "==> /Users/dgleich/.julia/Homebrew/deps/usr/Cellar/fontconfig/2.12.1/bin/fc-cache -frv\n",
      "🍺  /Users/dgleich/.julia/Homebrew/deps/usr/Cellar/fontconfig/2.12.1: 468 files, 3M\n"
     ]
    },
    {
     "name": "stderr",
     "output_type": "stream",
     "text": [
      "Warning: Already linked: /Users/dgleich/.julia/Homebrew/deps/usr/Cellar/fontconfig/2.12.1\n"
     ]
    },
    {
     "name": "stdout",
     "output_type": "stream",
     "text": [
      "Uninstalling glib... (425 files, 22.3M)\n",
      "==> Installing glib from staticfloat/juliatranslated\n",
      "==> Downloading https://homebrew.bintray.com/bottles/glib-2.48.2.el_capitan.bottle.tar.gz\n",
      "==> Pouring glib-2.48.2.el_capitan.bottle.tar.gz\n",
      "🍺  /Users/dgleich/.julia/Homebrew/deps/usr/Cellar/glib/2.48.2: 425 files, 16.9M\n"
     ]
    },
    {
     "name": "stderr",
     "output_type": "stream",
     "text": [
      "Warning: Already linked: /Users/dgleich/.julia/Homebrew/deps/usr/Cellar/glib/2.48.2\n"
     ]
    },
    {
     "name": "stdout",
     "output_type": "stream",
     "text": [
      "Uninstalling gtk+3... (1,365 files, 68.2M)\n",
      "==> Installing gtk+3 from staticfloat/juliatranslated\n",
      "==> Installing dependencies for staticfloat/juliatranslated/gtk+3: staticfloat/juliatranslated/pango\n",
      "==> Installing staticfloat/juliatranslated/gtk+3 dependency: staticfloat/juliatranslated/pango\n",
      "==> Downloading https://homebrew.bintray.com/bottles/pango-1.40.2.el_capitan.bottle.tar.gz\n",
      "==> Pouring pango-1.40.2.el_capitan.bottle.tar.gz\n",
      "🍺  /Users/dgleich/.julia/Homebrew/deps/usr/Cellar/pango/1.40.2: 125 files, 5.1M\n",
      "==> Installing staticfloat/juliatranslated/gtk+3\n",
      "==> Downloading https://homebrew.bintray.com/bottles/gtk+3-3.20.9.el_capitan.bottle.tar.gz\n",
      "==> Pouring gtk+3-3.20.9.el_capitan.bottle.tar.gz\n",
      "==> /Users/dgleich/.julia/Homebrew/deps/usr/opt/glib/bin/glib-compile-schemas /Users/dgleich/.julia/Homebrew/deps/usr/share/glib-2.0/schemas\n",
      "🍺  /Users/dgleich/.julia/Homebrew/deps/usr/Cellar/gtk+3/3.20.9: 1,365 files, 68.4M\n"
     ]
    },
    {
     "name": "stderr",
     "output_type": "stream",
     "text": [
      "Warning: Already linked: /Users/dgleich/.julia/Homebrew/deps/usr/Cellar/gtk+3/3.20.9\n"
     ]
    },
    {
     "name": "stdout",
     "output_type": "stream",
     "text": [
      "Uninstalling mbedtls... (122 files, 2.7M)\n",
      "==> Installing mbedtls from staticfloat/juliatranslated\n",
      "==> Downloading https://juliabottles.s3.amazonaws.com/mbedtls-2.3.0_3.el_capitan.bottle.tar.gz\n",
      "==> Pouring mbedtls-2.3.0_3.el_capitan.bottle.tar.gz\n",
      "🍺  /Users/dgleich/.julia/Homebrew/deps/usr/Cellar/mbedtls/2.3.0_3: 124 files, 2.8M\n"
     ]
    },
    {
     "name": "stderr",
     "output_type": "stream",
     "text": [
      "Warning: Already linked: /Users/dgleich/.julia/Homebrew/deps/usr/Cellar/mbedtls/2.3.0_3\n"
     ]
    },
    {
     "name": "stdout",
     "output_type": "stream",
     "text": [
      "Uninstalling pango... (369 files, 14.5M)\n",
      "==> Installing pango from staticfloat/juliatranslated\n",
      "==> Downloading https://homebrew.bintray.com/bottles/pango-1.40.2.el_capitan.bottle.tar.gz\n",
      "Already downloaded: /Users/dgleich/Library/Caches/Homebrew.jl/pango-1.40.2.el_capitan.bottle.tar.gz\n",
      "==> Pouring pango-1.40.2.el_capitan.bottle.tar.gz\n",
      "🍺  /Users/dgleich/.julia/Homebrew/deps/usr/Cellar/pango/1.40.2: 125 files, 5.1M\n"
     ]
    },
    {
     "name": "stderr",
     "output_type": "stream",
     "text": [
      "Warning: Already linked: /Users/dgleich/.julia/Homebrew/deps/usr/Cellar/pango/1.40.2\n",
      "INFO: Building MbedTLS\n",
      "INFO: Package database updated\n",
      "INFO: METADATA is out-of-date — you may not have the latest version of PlotlyJS\n",
      "INFO: Use `Pkg.update()` to get the latest versions of your packages\n"
     ]
    }
   ],
   "source": [
    "Pkg.add(\"PlotlyJS\")"
   ]
  },
  {
   "cell_type": "code",
   "execution_count": 17,
   "metadata": {
    "collapsed": false
   },
   "outputs": [
    {
     "data": {
      "text/html": [
       "<html>\n",
       "<head>\n",
       "     <script src=\"/Users/dgleich/.julia/PlotlyJS/deps/plotly-latest.min.js\"></script>\n",
       "</head>\n",
       "<body>\n",
       "     <div id=\"693def92-6d19-4085-bcdb-0a239acd61e1\" class=\"plotly-graph-div\"></div>\n",
       "\n",
       "<script>\n",
       "    window.PLOTLYENV=window.PLOTLYENV || {};\n",
       "    window.PLOTLYENV.BASE_URL=\"https://plot.ly\";\n",
       "    Plotly.newPlot('693def92-6d19-4085-bcdb-0a239acd61e1', [{\"yaxis\":\"y\",\"y\":[4.440892098500626e-16,1.7763568394002505e-15,2.5934809855243657e-13,6.480149750132114e-12,2.085016603814438e-10,5.918195711274166e-9,6.776190275559202e-9,7.4221170507371426e-6],\"showlegend\":true,\"name\":\"enorm\",\"type\":\"scatter\",\"xaxis\":\"x\",\"line\":{\"width\":1,\"dash\":\"solid\",\"color\":\"rgba(0, 154, 250, 1.000)\",\"shape\":\"linear\"},\"x\":[10,100,1000,10000,100000,1000000,10000000,100000000],\"mode\":\"lines\"},{\"yaxis\":\"y\",\"y\":[4.440892098500626e-16,0.0,3.552713678800501e-15,0.0,5.684341886080802e-14,3.410605131648481e-13,3.3651303965598345e-11,7.73070496506989e-10],\"showlegend\":true,\"name\":\"norm\",\"type\":\"scatter\",\"xaxis\":\"x\",\"line\":{\"width\":1,\"dash\":\"solid\",\"color\":\"rgba(227, 111, 71, 1.000)\",\"shape\":\"linear\"},\"x\":[10,100,1000,10000,100000,1000000,10000000,100000000],\"mode\":\"lines\"}],  {\"yaxis\":{\"type\":\"log\",\"titlefont\":{\"size\":15,\"color\":\"rgba(0, 0, 0, 1.000)\",\"family\":\"Helvetica\"},\"title\":\"\",\"tickfont\":{\"size\":11,\"color\":\"rgba(0, 0, 0, 1.000)\",\"family\":\"Helvetica\"},\"tickmode\":\"array\",\"showgrid\":true,\"tickvals\":[0.0],\"domain\":[0.057305336832895896,0.9901574803149605],\"ticktext\":[],\"zeroline\":false,\"linecolor\":\"rgba(0, 0, 0, 1.000)\",\"tickcolor\":\"rgba(0, 0, 0, 1.000)\",\"anchor\":\"x\"},\"annotations\":[],\"width\":600,\"plot_bgcolor\":\"rgba(255, 255, 255, 1.000)\",\"showlegend\":true,\"legend\":{\"bgcolor\":\"rgba(255, 255, 255, 1.000)\",\"font\":{\"size\":11,\"color\":\"rgba(0, 0, 0, 1.000)\",\"family\":\"Helvetica\"},\"bordercolor\":\"rgba(0, 0, 0, 1.000)\"},\"xaxis\":{\"type\":\"log\",\"titlefont\":{\"size\":15,\"color\":\"rgba(0, 0, 0, 1.000)\",\"family\":\"Helvetica\"},\"title\":\"\",\"tickfont\":{\"size\":11,\"color\":\"rgba(0, 0, 0, 1.000)\",\"family\":\"Helvetica\"},\"tickmode\":\"array\",\"showgrid\":true,\"tickvals\":[10.0,100.0,1000.0,10000.0,100000.0,1.0e6,1.0e7,1.0e8],\"domain\":[0.05905511811023622,0.9934383202099738],\"ticktext\":[\"10^1\",\"10^2\",\"10^3\",\"10^4\",\"10^5\",\"10^6\",\"10^7\",\"10^8\"],\"zeroline\":false,\"linecolor\":\"rgba(0, 0, 0, 1.000)\",\"tickcolor\":\"rgba(0, 0, 0, 1.000)\",\"anchor\":\"y\"},\"paper_bgcolor\":\"rgba(255, 255, 255, 1.000)\",\"margin\":{\"r\":0,\"l\":0,\"b\":0,\"t\":20},\"height\":400}, {showLink: false});\n",
       "\n",
       " </script>\n",
       "\n",
       "</body>\n",
       "</html>\n"
      ]
     },
     "execution_count": 17,
     "metadata": {},
     "output_type": "execute_result"
    }
   ],
   "source": [
    "# What happens if we take a long vector too?\n",
    "k = 8\n",
    "err1 = zeros(k)\n",
    "err2 = zeros(k)\n",
    "for i=1:k\n",
    "    n = 10^i;\n",
    "    x = ones(n)*1.01;\n",
    "    err1[i] = abs(sqrt(n)*1.01 - norm(x));\n",
    "    err2[i] = abs(sqrt(n)*1.01 - enorm_simple(x));\n",
    "end\n",
    "using Plots\n",
    "plotlyjs()\n",
    "plot(10.^(1:k), err2, label=\"enorm\")\n",
    "plot!(10.^(1:k), err1, label=\"norm\")\n",
    "plot!(xscale=:log10, yscale=:log10)"
   ]
  },
  {
   "cell_type": "code",
   "execution_count": 21,
   "metadata": {
    "collapsed": false
   },
   "outputs": [
    {
     "data": {
      "text/plain": [
       "enorm_guard1 (generic function with 1 method)"
      ]
     },
     "execution_count": 21,
     "metadata": {},
     "output_type": "execute_result"
    }
   ],
   "source": [
    "function enorm_guard1(x)\n",
    "n = 1.; xmax = abs(x[1])\n",
    "for i=2:length(x)\n",
    "  ab = abs(x[i])\n",
    "  if ab > xmax \n",
    "    n = 1 + n*(xmax/ab).^2\n",
    "    xmax=ab\n",
    "  else n += (ab/xmax).^2;\n",
    "end; end\n",
    "return xmax*sqrt(n)\n",
    "end\n"
   ]
  },
  {
   "cell_type": "code",
   "execution_count": 22,
   "metadata": {
    "collapsed": false
   },
   "outputs": [
    {
     "data": {
      "text/html": [
       "<html>\n",
       "<head>\n",
       "     <script src=\"/Users/dgleich/.julia/PlotlyJS/deps/plotly-latest.min.js\"></script>\n",
       "</head>\n",
       "<body>\n",
       "     <div id=\"36c5b278-72ab-4794-a36e-b7085e067080\" class=\"plotly-graph-div\"></div>\n",
       "\n",
       "<script>\n",
       "    window.PLOTLYENV=window.PLOTLYENV || {};\n",
       "    window.PLOTLYENV.BASE_URL=\"https://plot.ly\";\n",
       "    Plotly.newPlot('36c5b278-72ab-4794-a36e-b7085e067080', [{\"yaxis\":\"y\",\"y\":[0.0,0.0,0.0,0.0,0.0,0.0,0.0,0.0],\"showlegend\":true,\"name\":\"enorm\",\"type\":\"scatter\",\"xaxis\":\"x\",\"line\":{\"width\":1,\"dash\":\"solid\",\"color\":\"rgba(0, 154, 250, 1.000)\",\"shape\":\"linear\"},\"x\":[10,100,1000,10000,100000,1000000,10000000,100000000],\"mode\":\"lines\"},{\"yaxis\":\"y\",\"y\":[4.440892098500626e-16,0.0,3.552713678800501e-15,0.0,5.684341886080802e-14,3.410605131648481e-13,3.3651303965598345e-11,7.73070496506989e-10],\"showlegend\":true,\"name\":\"norm\",\"type\":\"scatter\",\"xaxis\":\"x\",\"line\":{\"width\":1,\"dash\":\"solid\",\"color\":\"rgba(227, 111, 71, 1.000)\",\"shape\":\"linear\"},\"x\":[10,100,1000,10000,100000,1000000,10000000,100000000],\"mode\":\"lines\"}],  {\"yaxis\":{\"type\":\"log\",\"titlefont\":{\"size\":15,\"color\":\"rgba(0, 0, 0, 1.000)\",\"family\":\"Helvetica\"},\"title\":\"\",\"tickfont\":{\"size\":11,\"color\":\"rgba(0, 0, 0, 1.000)\",\"family\":\"Helvetica\"},\"tickmode\":\"array\",\"showgrid\":true,\"tickvals\":[0.0],\"domain\":[0.057305336832895896,0.9901574803149605],\"ticktext\":[],\"zeroline\":false,\"linecolor\":\"rgba(0, 0, 0, 1.000)\",\"tickcolor\":\"rgba(0, 0, 0, 1.000)\",\"anchor\":\"x\"},\"annotations\":[],\"width\":600,\"plot_bgcolor\":\"rgba(255, 255, 255, 1.000)\",\"showlegend\":true,\"legend\":{\"bgcolor\":\"rgba(255, 255, 255, 1.000)\",\"font\":{\"size\":11,\"color\":\"rgba(0, 0, 0, 1.000)\",\"family\":\"Helvetica\"},\"bordercolor\":\"rgba(0, 0, 0, 1.000)\"},\"xaxis\":{\"type\":\"log\",\"titlefont\":{\"size\":15,\"color\":\"rgba(0, 0, 0, 1.000)\",\"family\":\"Helvetica\"},\"title\":\"\",\"tickfont\":{\"size\":11,\"color\":\"rgba(0, 0, 0, 1.000)\",\"family\":\"Helvetica\"},\"tickmode\":\"array\",\"showgrid\":true,\"tickvals\":[10.0,100.0,1000.0,10000.0,100000.0,1.0e6,1.0e7,1.0e8],\"domain\":[0.05905511811023622,0.9934383202099738],\"ticktext\":[\"10^1\",\"10^2\",\"10^3\",\"10^4\",\"10^5\",\"10^6\",\"10^7\",\"10^8\"],\"zeroline\":false,\"linecolor\":\"rgba(0, 0, 0, 1.000)\",\"tickcolor\":\"rgba(0, 0, 0, 1.000)\",\"anchor\":\"y\"},\"paper_bgcolor\":\"rgba(255, 255, 255, 1.000)\",\"margin\":{\"r\":0,\"l\":0,\"b\":0,\"t\":20},\"height\":400}, {showLink: false});\n",
       "\n",
       " </script>\n",
       "\n",
       "</body>\n",
       "</html>\n"
      ]
     },
     "execution_count": 22,
     "metadata": {},
     "output_type": "execute_result"
    }
   ],
   "source": [
    "# What happens if we take a long vector too?\n",
    "k = 8\n",
    "err1 = zeros(k)\n",
    "err2 = zeros(k)\n",
    "for i=1:k\n",
    "    n = 10^i;\n",
    "    x = ones(n)*1.01;\n",
    "    err1[i] = abs(sqrt(n)*1.01 - norm(x));\n",
    "    err2[i] = abs(sqrt(n)*1.01 - enorm_guard1(x));\n",
    "end\n",
    "using Plots\n",
    "plotlyjs()\n",
    "plot(10.^(1:k), err2, label=\"enorm\")\n",
    "plot!(10.^(1:k), err1, label=\"norm\")\n",
    "plot!(xscale=:log10, yscale=:log10)"
   ]
  }
 ],
 "metadata": {
  "kernelspec": {
   "display_name": "Julia 0.4.5",
   "language": "julia",
   "name": "julia-0.4"
  },
  "language_info": {
   "file_extension": ".jl",
   "mimetype": "application/julia",
   "name": "julia",
   "version": "0.4.5"
  }
 },
 "nbformat": 4,
 "nbformat_minor": 0
}
