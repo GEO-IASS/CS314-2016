{
 "cells": [
  {
   "cell_type": "code",
   "execution_count": 15,
   "metadata": {
    "collapsed": false
   },
   "outputs": [
    {
     "data": {
      "text/plain": [
       "enorm_simple (generic function with 1 method)"
      ]
     },
     "execution_count": 15,
     "metadata": {},
     "output_type": "execute_result"
    }
   ],
   "source": [
    "function enorm_simple(x)\n",
    "    n = 0.\n",
    "    for i=1:length(x)\n",
    "        n = n + x[i]*x[i]\n",
    "    end\n",
    "    return sqrt(n)\n",
    "end"
   ]
  },
  {
   "cell_type": "code",
   "execution_count": 16,
   "metadata": {
    "collapsed": false
   },
   "outputs": [
    {
     "name": "stdout",
     "output_type": "stream",
     "text": [
      "norm(x) = 1.0e160\n",
      "enorm_simple(x) = Inf\n"
     ]
    }
   ],
   "source": [
    "x = [10.^160.; 10.^100.]\n",
    "@show norm(x)\n",
    "@show enorm_simple(x);"
   ]
  },
  {
   "cell_type": "code",
   "execution_count": 17,
   "metadata": {
    "collapsed": false
   },
   "outputs": [
    {
     "data": {
      "text/html": [
       "<html>\n",
       "<head>\n",
       "     <script src=\"/home/juser/.julia/v0.4/PlotlyJS/deps/plotly-latest.min.js\"></script>\n",
       "</head>\n",
       "<body>\n",
       "     <div id=\"02bebe7b-676d-44aa-a66c-abc5d5aaf32e\" class=\"plotly-graph-div\"></div>\n",
       "\n",
       "<script>\n",
       "    window.PLOTLYENV=window.PLOTLYENV || {};\n",
       "    window.PLOTLYENV.BASE_URL=\"https://plot.ly\";\n",
       "    Plotly.newPlot('02bebe7b-676d-44aa-a66c-abc5d5aaf32e', [{\"yaxis\":\"y\",\"y\":[4.440892098500626e-16,1.7763568394002505e-15,2.5934809855243657e-13,6.480149750132114e-12,2.085016603814438e-10,5.918195711274166e-9,6.776190275559202e-9,7.4221170507371426e-6],\"showlegend\":true,\"name\":\"enorm\",\"type\":\"scatter\",\"xaxis\":\"x\",\"line\":{\"width\":1,\"dash\":\"solid\",\"color\":\"rgba(0, 154, 250, 1.000)\",\"shape\":\"linear\"},\"x\":[10,100,1000,10000,100000,1000000,10000000,100000000],\"mode\":\"lines\"},{\"yaxis\":\"y\",\"y\":[4.440892098500626e-16,0.0,3.552713678800501e-15,0.0,5.684341886080802e-14,3.410605131648481e-13,3.3651303965598345e-11,7.73070496506989e-10],\"showlegend\":true,\"name\":\"norm\",\"type\":\"scatter\",\"xaxis\":\"x\",\"line\":{\"width\":1,\"dash\":\"solid\",\"color\":\"rgba(227, 111, 71, 1.000)\",\"shape\":\"linear\"},\"x\":[10,100,1000,10000,100000,1000000,10000000,100000000],\"mode\":\"lines\"}],  {\"yaxis\":{\"type\":\"log\",\"titlefont\":{\"size\":15,\"color\":\"rgba(0, 0, 0, 1.000)\",\"family\":\"Helvetica\"},\"title\":\"\",\"tickfont\":{\"size\":11,\"color\":\"rgba(0, 0, 0, 1.000)\",\"family\":\"Helvetica\"},\"tickmode\":\"array\",\"showgrid\":true,\"tickvals\":[0.0],\"domain\":[0.057305336832895896,0.9901574803149605],\"ticktext\":[],\"zeroline\":false,\"linecolor\":\"rgba(0, 0, 0, 1.000)\",\"tickcolor\":\"rgba(0, 0, 0, 1.000)\",\"anchor\":\"x\"},\"annotations\":[],\"width\":600,\"plot_bgcolor\":\"rgba(255, 255, 255, 1.000)\",\"showlegend\":true,\"legend\":{\"bgcolor\":\"rgba(255, 255, 255, 1.000)\",\"font\":{\"size\":11,\"color\":\"rgba(0, 0, 0, 1.000)\",\"family\":\"Helvetica\"},\"bordercolor\":\"rgba(0, 0, 0, 1.000)\"},\"xaxis\":{\"type\":\"log\",\"titlefont\":{\"size\":15,\"color\":\"rgba(0, 0, 0, 1.000)\",\"family\":\"Helvetica\"},\"title\":\"\",\"tickfont\":{\"size\":11,\"color\":\"rgba(0, 0, 0, 1.000)\",\"family\":\"Helvetica\"},\"tickmode\":\"array\",\"showgrid\":true,\"tickvals\":[10.0,100.0,1000.0,10000.0,100000.0,1.0e6,1.0e7,1.0e8],\"domain\":[0.05905511811023622,0.9934383202099738],\"ticktext\":[\"10^1\",\"10^2\",\"10^3\",\"10^4\",\"10^5\",\"10^6\",\"10^7\",\"10^8\"],\"zeroline\":false,\"linecolor\":\"rgba(0, 0, 0, 1.000)\",\"tickcolor\":\"rgba(0, 0, 0, 1.000)\",\"anchor\":\"y\"},\"paper_bgcolor\":\"rgba(255, 255, 255, 1.000)\",\"margin\":{\"r\":0,\"l\":0,\"b\":0,\"t\":20},\"height\":400}, {showLink: false});\n",
       "\n",
       " </script>\n",
       "\n",
       "</body>\n",
       "</html>\n"
      ]
     },
     "execution_count": 17,
     "metadata": {},
     "output_type": "execute_result"
    }
   ],
   "source": [
    "# What happens if we take a long vector too?\n",
    "k = 8\n",
    "err1 = zeros(k)\n",
    "err2 = zeros(k)\n",
    "for i=1:k\n",
    "    n = 10^i;\n",
    "    x = ones(n)*1.01;\n",
    "    err1[i] = abs(sqrt(n)*1.01 - norm(x));\n",
    "    err2[i] = abs(sqrt(n)*1.01 - enorm_simple(x));\n",
    "end\n",
    "using Plots\n",
    "plotlyjs()\n",
    "plot(10.^(1:k), err2, label=\"enorm\")\n",
    "plot!(10.^(1:k), err1, label=\"norm\")\n",
    "plot!(xscale=:log10, yscale=:log10)"
   ]
  },
  {
   "cell_type": "code",
   "execution_count": 18,
   "metadata": {
    "collapsed": false
   },
   "outputs": [
    {
     "data": {
      "text/plain": [
       "enorm_guard1 (generic function with 1 method)"
      ]
     },
     "execution_count": 18,
     "metadata": {},
     "output_type": "execute_result"
    }
   ],
   "source": [
    "function enorm_guard1(x)\n",
    "n = 1.; xmax = abs(x[1])\n",
    "for i=2:length(x)\n",
    "  ab = abs(x[i])\n",
    "  if ab > xmax \n",
    "    n = 1 + n*(xmax/ab).^2\n",
    "    xmax=ab\n",
    "  else n += (ab/xmax).^2;\n",
    "end; end\n",
    "return xmax*sqrt(n)\n",
    "end\n"
   ]
  },
  {
   "cell_type": "code",
   "execution_count": 20,
   "metadata": {
    "collapsed": false
   },
   "outputs": [
    {
     "data": {
      "text/html": [
       "<html>\n",
       "<head>\n",
       "     <script src=\"/home/juser/.julia/v0.4/PlotlyJS/deps/plotly-latest.min.js\"></script>\n",
       "</head>\n",
       "<body>\n",
       "     <div id=\"be97e90a-7269-4b6a-bd54-a70355d24acd\" class=\"plotly-graph-div\"></div>\n",
       "\n",
       "<script>\n",
       "    window.PLOTLYENV=window.PLOTLYENV || {};\n",
       "    window.PLOTLYENV.BASE_URL=\"https://plot.ly\";\n",
       "    Plotly.newPlot('be97e90a-7269-4b6a-bd54-a70355d24acd', [{\"yaxis\":\"y\",\"y\":[0.0,0.0,0.0,0.0,0.0,0.0,0.0,0.0],\"showlegend\":true,\"name\":\"enorm\",\"type\":\"scatter\",\"xaxis\":\"x\",\"line\":{\"width\":1,\"dash\":\"solid\",\"color\":\"rgba(0, 154, 250, 1.000)\",\"shape\":\"linear\"},\"x\":[10,100,1000,10000,100000,1000000,10000000,100000000],\"mode\":\"lines\"},{\"yaxis\":\"y\",\"y\":[4.440892098500626e-16,0.0,3.552713678800501e-15,0.0,5.684341886080802e-14,3.410605131648481e-13,3.3651303965598345e-11,7.73070496506989e-10],\"showlegend\":true,\"name\":\"norm\",\"type\":\"scatter\",\"xaxis\":\"x\",\"line\":{\"width\":1,\"dash\":\"solid\",\"color\":\"rgba(227, 111, 71, 1.000)\",\"shape\":\"linear\"},\"x\":[10,100,1000,10000,100000,1000000,10000000,100000000],\"mode\":\"lines\"}],  {\"yaxis\":{\"type\":\"log\",\"titlefont\":{\"size\":15,\"color\":\"rgba(0, 0, 0, 1.000)\",\"family\":\"Helvetica\"},\"title\":\"\",\"tickfont\":{\"size\":11,\"color\":\"rgba(0, 0, 0, 1.000)\",\"family\":\"Helvetica\"},\"tickmode\":\"array\",\"showgrid\":true,\"tickvals\":[0.0],\"domain\":[0.057305336832895896,0.9901574803149605],\"ticktext\":[],\"zeroline\":false,\"linecolor\":\"rgba(0, 0, 0, 1.000)\",\"tickcolor\":\"rgba(0, 0, 0, 1.000)\",\"anchor\":\"x\"},\"annotations\":[],\"width\":600,\"plot_bgcolor\":\"rgba(255, 255, 255, 1.000)\",\"showlegend\":true,\"legend\":{\"bgcolor\":\"rgba(255, 255, 255, 1.000)\",\"font\":{\"size\":11,\"color\":\"rgba(0, 0, 0, 1.000)\",\"family\":\"Helvetica\"},\"bordercolor\":\"rgba(0, 0, 0, 1.000)\"},\"xaxis\":{\"type\":\"log\",\"titlefont\":{\"size\":15,\"color\":\"rgba(0, 0, 0, 1.000)\",\"family\":\"Helvetica\"},\"title\":\"\",\"tickfont\":{\"size\":11,\"color\":\"rgba(0, 0, 0, 1.000)\",\"family\":\"Helvetica\"},\"tickmode\":\"array\",\"showgrid\":true,\"tickvals\":[10.0,100.0,1000.0,10000.0,100000.0,1.0e6,1.0e7,1.0e8],\"domain\":[0.05905511811023622,0.9934383202099738],\"ticktext\":[\"10^1\",\"10^2\",\"10^3\",\"10^4\",\"10^5\",\"10^6\",\"10^7\",\"10^8\"],\"zeroline\":false,\"linecolor\":\"rgba(0, 0, 0, 1.000)\",\"tickcolor\":\"rgba(0, 0, 0, 1.000)\",\"anchor\":\"y\"},\"paper_bgcolor\":\"rgba(255, 255, 255, 1.000)\",\"margin\":{\"r\":0,\"l\":0,\"b\":0,\"t\":20},\"height\":400}, {showLink: false});\n",
       "\n",
       " </script>\n",
       "\n",
       "</body>\n",
       "</html>\n"
      ]
     },
     "execution_count": 20,
     "metadata": {},
     "output_type": "execute_result"
    }
   ],
   "source": [
    "# What happens if we take a long vector too?\n",
    "k = 8\n",
    "err1 = zeros(k)\n",
    "err2 = zeros(k)\n",
    "for i=1:k\n",
    "    n = 10^i;\n",
    "    x = ones(n)*1.01;\n",
    "    err1[i] = abs(sqrt(n)*1.01 - norm(x));\n",
    "    err2[i] = abs(sqrt(n)*1.01 - enorm_guard1(x));\n",
    "end\n",
    "using Plots\n",
    "plotlyjs()\n",
    "plot(10.^(1:k), err2, label=\"enorm\")\n",
    "plot!(10.^(1:k), err1, label=\"norm\")\n",
    "plot!(xscale=:log10, yscale=:log10)"
   ]
  },
  {
   "cell_type": "code",
   "execution_count": 21,
   "metadata": {
    "collapsed": false
   },
   "outputs": [
    {
     "data": {
      "text/plain": [
       "8-element Array{Float64,1}:\n",
       " 0.0\n",
       " 0.0\n",
       " 0.0\n",
       " 0.0\n",
       " 0.0\n",
       " 0.0\n",
       " 0.0\n",
       " 0.0"
      ]
     },
     "execution_count": 21,
     "metadata": {},
     "output_type": "execute_result"
    }
   ],
   "source": [
    "err2"
   ]
  },
  {
   "cell_type": "code",
   "execution_count": 24,
   "metadata": {
    "collapsed": false
   },
   "outputs": [
    {
     "name": "stdout",
     "output_type": "stream",
     "text": [
      "(norm(x),exact,enorm_guard1(x)) = (15275.252321974915,15275.252321974915,15275.252313719811)\n"
     ]
    },
    {
     "data": {
      "text/html": [
       "<html>\n",
       "<head>\n",
       "     <script src=\"/home/juser/.julia/v0.4/PlotlyJS/deps/plotly-latest.min.js\"></script>\n",
       "</head>\n",
       "<body>\n",
       "     <div id=\"fb8b752c-8200-4032-8e92-3f3f519ea7ef\" class=\"plotly-graph-div\"></div>\n",
       "\n",
       "<script>\n",
       "    window.PLOTLYENV=window.PLOTLYENV || {};\n",
       "    window.PLOTLYENV.BASE_URL=\"https://plot.ly\";\n",
       "    Plotly.newPlot('fb8b752c-8200-4032-8e92-3f3f519ea7ef', [{\"yaxis\":\"y\",\"y\":[0.0,1.7763568394002505e-15,1.4210854715202004e-14,1.1368683772161603e-13,1.2505552149377763e-12,7.048583938740194e-12,1.1550582712516189e-10,1.4006218407303095e-10],\"showlegend\":true,\"name\":\"enorm\",\"type\":\"scatter\",\"xaxis\":\"x\",\"line\":{\"width\":1,\"dash\":\"solid\",\"color\":\"rgba(0, 154, 250, 1.000)\",\"shape\":\"linear\"},\"x\":[10,100,1000,10000,100000,1000000,10000000,100000000],\"mode\":\"lines\"},{\"yaxis\":\"y\",\"y\":[0.0,0.0,7.105427357601002e-15,0.0,0.0,0.0,0.0,0.0],\"showlegend\":true,\"name\":\"norm\",\"type\":\"scatter\",\"xaxis\":\"x\",\"line\":{\"width\":1,\"dash\":\"solid\",\"color\":\"rgba(227, 111, 71, 1.000)\",\"shape\":\"linear\"},\"x\":[10,100,1000,10000,100000,1000000,10000000,100000000],\"mode\":\"lines\"}],  {\"yaxis\":{\"type\":\"log\",\"titlefont\":{\"size\":15,\"color\":\"rgba(0, 0, 0, 1.000)\",\"family\":\"Helvetica\"},\"title\":\"\",\"tickfont\":{\"size\":11,\"color\":\"rgba(0, 0, 0, 1.000)\",\"family\":\"Helvetica\"},\"tickmode\":\"array\",\"showgrid\":true,\"tickvals\":[0.0],\"domain\":[0.057305336832895896,0.9901574803149605],\"ticktext\":[],\"zeroline\":false,\"linecolor\":\"rgba(0, 0, 0, 1.000)\",\"tickcolor\":\"rgba(0, 0, 0, 1.000)\",\"anchor\":\"x\"},\"annotations\":[],\"width\":600,\"plot_bgcolor\":\"rgba(255, 255, 255, 1.000)\",\"showlegend\":true,\"legend\":{\"bgcolor\":\"rgba(255, 255, 255, 1.000)\",\"font\":{\"size\":11,\"color\":\"rgba(0, 0, 0, 1.000)\",\"family\":\"Helvetica\"},\"bordercolor\":\"rgba(0, 0, 0, 1.000)\"},\"xaxis\":{\"type\":\"log\",\"titlefont\":{\"size\":15,\"color\":\"rgba(0, 0, 0, 1.000)\",\"family\":\"Helvetica\"},\"title\":\"\",\"tickfont\":{\"size\":11,\"color\":\"rgba(0, 0, 0, 1.000)\",\"family\":\"Helvetica\"},\"tickmode\":\"array\",\"showgrid\":true,\"tickvals\":[10.0,100.0,1000.0,10000.0,100000.0,1.0e6,1.0e7,1.0e8],\"domain\":[0.05905511811023622,0.9934383202099738],\"ticktext\":[\"10^1\",\"10^2\",\"10^3\",\"10^4\",\"10^5\",\"10^6\",\"10^7\",\"10^8\"],\"zeroline\":false,\"linecolor\":\"rgba(0, 0, 0, 1.000)\",\"tickcolor\":\"rgba(0, 0, 0, 1.000)\",\"anchor\":\"y\"},\"paper_bgcolor\":\"rgba(255, 255, 255, 1.000)\",\"margin\":{\"r\":0,\"l\":0,\"b\":0,\"t\":20},\"height\":400}, {showLink: false});\n",
       "\n",
       " </script>\n",
       "\n",
       "</body>\n",
       "</html>\n"
      ]
     },
     "execution_count": 24,
     "metadata": {},
     "output_type": "execute_result"
    }
   ],
   "source": [
    "# What happens if we take a long vector too?\n",
    "k = 8\n",
    "err1 = zeros(k)\n",
    "err2 = zeros(k)\n",
    "for i=1:k\n",
    "    n = 10^i;\n",
    "    x = collect(linspace(1,2,n))\n",
    "    exact = sqrt(14*n^2 - 13*n)/sqrt(6*(n-1))\n",
    "    err1[i] = abs(exact - norm(x));\n",
    "    err2[i] = abs(exact - enorm_simple(x));\n",
    "    if i==k\n",
    "        @show norm(x), exact, enorm_guard1(x)\n",
    "    end\n",
    "end\n",
    "using Plots\n",
    "plotlyjs()\n",
    "plot(10.^(1:k), err2, label=\"enorm\")\n",
    "plot!(10.^(1:k), err1, label=\"norm\")\n",
    "plot!(xscale=:log10, yscale=:log10)\n"
   ]
  },
  {
   "cell_type": "code",
   "execution_count": null,
   "metadata": {
    "collapsed": true
   },
   "outputs": [],
   "source": []
  }
 ],
 "metadata": {
  "kernelspec": {
   "display_name": "Julia 0.4.6",
   "language": "julia",
   "name": "julia-0.4"
  },
  "language_info": {
   "file_extension": ".jl",
   "mimetype": "application/julia",
   "name": "julia",
   "version": "0.4.6"
  }
 },
 "nbformat": 4,
 "nbformat_minor": 0
}
