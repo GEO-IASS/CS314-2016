{
 "cells": [
  {
   "cell_type": "markdown",
   "metadata": {},
   "source": [
    "## Check the probability that two points on the circle are at least distance 1 apart.\n",
    "We'll do a Monte Carlo simulation! "
   ]
  },
  {
   "cell_type": "code",
   "execution_count": 5,
   "metadata": {
    "collapsed": false
   },
   "outputs": [
    {
     "name": "stdout",
     "output_type": "stream",
     "text": [
      "random_points_distance() = 0.8645741793248586\n"
     ]
    },
    {
     "data": {
      "text/plain": [
       "0.8645741793248586"
      ]
     },
     "execution_count": 5,
     "metadata": {},
     "output_type": "execute_result"
    }
   ],
   "source": [
    "\"\"\"\n",
    "`random_points_distance()`\n",
    "=========================\n",
    "\n",
    "Return the euclidean distance of two points \n",
    "generated at random on the unit circle.\n",
    "\"\"\"\n",
    "function random_points_distance()\n",
    "    phi1 = 2*pi*rand()\n",
    "    phi2 = 2*pi*rand()\n",
    "    p1 = [cos(phi1);sin(phi1)]\n",
    "    p2 = [cos(phi2);sin(phi2)]\n",
    "    return norm(p1-p2)\n",
    "end\n",
    "@show random_points_distance()"
   ]
  },
  {
   "cell_type": "markdown",
   "metadata": {},
   "source": [
    "Now compute a Monte Carlo estimate of the probability that the points are at least distance 1 away."
   ]
  },
  {
   "cell_type": "code",
   "execution_count": 9,
   "metadata": {
    "collapsed": false
   },
   "outputs": [
    {
     "data": {
      "text/plain": [
       "0.666765"
      ]
     },
     "execution_count": 9,
     "metadata": {},
     "output_type": "execute_result"
    }
   ],
   "source": [
    "ntrials = 10^7\n",
    "wins = 0\n",
    "for i=1:ntrials\n",
    "    dist = random_points_distance()\n",
    "    if dist > 1\n",
    "        wins += 1\n",
    "    end\n",
    "end\n",
    "wins/ntrials"
   ]
  }
 ],
 "metadata": {
  "kernelspec": {
   "display_name": "Julia 0.4.6",
   "language": "julia",
   "name": "julia-0.4"
  },
  "language_info": {
   "file_extension": ".jl",
   "mimetype": "application/julia",
   "name": "julia",
   "version": "0.4.6"
  }
 },
 "nbformat": 4,
 "nbformat_minor": 0
}
