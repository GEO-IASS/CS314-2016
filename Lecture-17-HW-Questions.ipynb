{
 "cells": [
  {
   "cell_type": "code",
   "execution_count": 6,
   "metadata": {
    "collapsed": false
   },
   "outputs": [
    {
     "data": {
      "text/plain": [
       "10x10 Array{Int64,2}:\n",
       "  1   0   1  -1   1  -1  -1   0  -1   1\n",
       "  1  -1  -1   0   0   0  -1   0   1   0\n",
       "  0  -1   0   1  -1  -1   1   0   0  -1\n",
       " -1  -1  -1   0  -1  -1   1   0  -1   0\n",
       " -1  -1   1   0   0   0  -1  -1  -1   1\n",
       "  0   1  -1   1   1   0  -1   1   1   1\n",
       "  1  -1   0   0   1   0   0   0   1   1\n",
       "  1   0   0   1   0   0  -1   1  -1   1\n",
       "  1   1  -1   0   1   1   1   0  -1   0\n",
       " -1   0   1   1   1   1  -1   0   1   0"
      ]
     },
     "execution_count": 6,
     "metadata": {},
     "output_type": "execute_result"
    }
   ],
   "source": [
    "A = rand(-1:1, 10,10)"
   ]
  },
  {
   "cell_type": "code",
   "execution_count": 8,
   "metadata": {
    "collapsed": false
   },
   "outputs": [
    {
     "data": {
      "text/plain": [
       "3x4 Array{Int64,2}:\n",
       "  0   0  -1  0\n",
       " -1  -1   1  0\n",
       " -1  -1   1  0"
      ]
     },
     "execution_count": 8,
     "metadata": {},
     "output_type": "execute_result"
    }
   ],
   "source": [
    "A[2:4,5:8]"
   ]
  }
 ],
 "metadata": {
  "kernelspec": {
   "display_name": "Julia 0.4.7",
   "language": "julia",
   "name": "julia-0.4"
  },
  "language_info": {
   "file_extension": ".jl",
   "mimetype": "application/julia",
   "name": "julia",
   "version": "0.4.7"
  }
 },
 "nbformat": 4,
 "nbformat_minor": 0
}
