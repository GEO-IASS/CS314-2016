{
 "cells": [
  {
   "cell_type": "markdown",
   "metadata": {},
   "source": [
    "## Newton's method and the Secant method"
   ]
  },
  {
   "cell_type": "code",
   "execution_count": 15,
   "metadata": {
    "collapsed": false
   },
   "outputs": [
    {
     "data": {
      "text/html": [
       "<img src=\"data:image/png;base64,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\" />"
      ]
     },
     "execution_count": 15,
     "metadata": {},
     "output_type": "execute_result"
    }
   ],
   "source": [
    "using Plots\n",
    "f = x -> (x.^2 - 2)\n",
    "fp = x -> 2x\n",
    "plot(f, linspace(-2,2,50))"
   ]
  },
  {
   "cell_type": "code",
   "execution_count": 19,
   "metadata": {
    "collapsed": false
   },
   "outputs": [
    {
     "data": {
      "text/plain": [
       "(1.4142135623746899,[1.5,1.4166666666666667,1.4142156862745099,1.4142135623746899])"
      ]
     },
     "execution_count": 19,
     "metadata": {},
     "output_type": "execute_result"
    }
   ],
   "source": [
    "\"\"\"\n",
    "`newton`\n",
    "=======\n",
    "\n",
    "Find a point where f(x) = 0 via Newton's method. \n",
    "\n",
    "-`x, hist = newton(f,fp,x0,delta,maxit)` \n",
    "-`x = newton(f,fp,x0)` uses `delta = sqrt(eps(1.0)), maxit=100`\n",
    "Runs newton's method starting from x0 where f evaluates\n",
    "the function f and fp evaluates the derivative of the function\n",
    "f. This runs for at most maxit iterations until `abs(f(x)) <= delta`\n",
    "\"\"\"\n",
    "function newton(f, fp, x, delta, maxit)\n",
    "    hist = zeros(maxit)\n",
    "    for i=1:maxit\n",
    "        fpx = fp(x)\n",
    "        step = f(x)/fpx\n",
    "        x = x - step\n",
    "        hist[i] = x\n",
    "        if abs(f(x)) < delta\n",
    "            hist = hist[1:i]\n",
    "            break \n",
    "        end\n",
    "    end\n",
    "    return x, hist\n",
    "end\n",
    "# default options\n",
    "newton(f, fp, x) = newton(f, fp, x, sqrt(eps(1.0)), 100)\n",
    "\n",
    "# show example \n",
    "newton(f, fp, 1.0)\n"
   ]
  },
  {
   "cell_type": "code",
   "execution_count": 20,
   "metadata": {
    "collapsed": false
   },
   "outputs": [
    {
     "data": {
      "text/plain": [
       "(1.4142135620573204,[1.5000000037252903,1.3999999994039536,1.413793103412839,1.4142156862747783,1.4142135620573204])"
      ]
     },
     "execution_count": 20,
     "metadata": {},
     "output_type": "execute_result"
    }
   ],
   "source": [
    "\"\"\"\n",
    "`secant`\n",
    "=======\n",
    "\n",
    "Find a point where f(x) = 0 via the secant's method. \n",
    "\n",
    "-`x, hist = secant(f,x0,delta,maxit)` \n",
    "-`x = secant(f,x0)` uses `delta = sqrt(eps(1.0)), maxit=100`\n",
    "Runs the secant method starting from x0 where f evaluates\n",
    "the function f and x0 and x1 are two starting vectors that produce\n",
    "an initial approximation of the derivative. This runs for at \n",
    "most maxit iterations until `abs(f(x)) <= delta`\n",
    "\"\"\"\n",
    "function secant(f, x, delta, maxit)\n",
    "    hist = zeros(maxit)\n",
    "    # evaluate initial derivative \n",
    "    fpx = (f(x) - f(x - sqrt(eps(1.0))))/(sqrt(eps(1.0)))\n",
    "    for i=1:maxit\n",
    "        xold = x\n",
    "        step = f(x)/fpx\n",
    "        x = x - step\n",
    "        fpx = (f(x) - f(xold))/(-step) # could improve \n",
    "        hist[i] = x\n",
    "        if abs(f(x)) < delta \n",
    "            hist = hist[1:i]\n",
    "            break\n",
    "        end\n",
    "    end\n",
    "    return x, hist\n",
    "end\n",
    "# default options\n",
    "secant(f, x) = secant(f, x, sqrt(eps(1.0)), 100)\n",
    "\n",
    "# show example \n",
    "secant(f, 1.0)\n",
    "\n"
   ]
  },
  {
   "cell_type": "code",
   "execution_count": 22,
   "metadata": {
    "collapsed": false
   },
   "outputs": [
    {
     "data": {
      "text/plain": [
       "14-element Array{Float64,1}:\n",
       " 0.5        \n",
       " 0.25       \n",
       " 0.125      \n",
       " 0.0625     \n",
       " 0.03125    \n",
       " 0.015625   \n",
       " 0.0078125  \n",
       " 0.00390625 \n",
       " 0.00195313 \n",
       " 0.000976563\n",
       " 0.000488281\n",
       " 0.000244141\n",
       " 0.00012207 \n",
       " 6.10352e-5 "
      ]
     },
     "metadata": {},
     "output_type": "display_data"
    },
    {
     "data": {
      "text/plain": [
       "19-element Array{Float64,1}:\n",
       " 0.5        \n",
       " 0.333333   \n",
       " 0.2        \n",
       " 0.125      \n",
       " 0.0769231  \n",
       " 0.047619   \n",
       " 0.0294118  \n",
       " 0.0181818  \n",
       " 0.011236   \n",
       " 0.00694444 \n",
       " 0.00429185 \n",
       " 0.00265252 \n",
       " 0.00163934 \n",
       " 0.00101317 \n",
       " 0.000626174\n",
       " 0.000386997\n",
       " 0.000239177\n",
       " 0.00014782 \n",
       " 9.13576e-5 "
      ]
     },
     "metadata": {},
     "output_type": "display_data"
    }
   ],
   "source": [
    "\n",
    "f1 = x -> x^2\n",
    "f1p = x -> 2*x\n",
    "xn,nhist = newton(f1, f1p, 1.0)\n",
    "xs,shist = secant(f1, 1.0)\n",
    "\n",
    "display(nhist)\n",
    "display(shist)\n"
   ]
  },
  {
   "cell_type": "code",
   "execution_count": 24,
   "metadata": {
    "collapsed": false
   },
   "outputs": [
    {
     "data": {
      "text/plain": [
       "100-element Array{Float64,1}:\n",
       " -3.0       \n",
       " -1.96154   \n",
       " -1.14718   \n",
       " -0.00657937\n",
       " -3.00039   \n",
       " -1.96182   \n",
       " -1.14743   \n",
       " -0.00725625\n",
       " -3.00047   \n",
       " -1.96188   \n",
       " -1.14749   \n",
       " -0.0074025 \n",
       " -3.00049   \n",
       "  ⋮         \n",
       " -3.0005    \n",
       " -1.9619    \n",
       " -1.1475    \n",
       " -0.00744608\n",
       " -3.0005    \n",
       " -1.9619    \n",
       " -1.1475    \n",
       " -0.00744608\n",
       " -3.0005    \n",
       " -1.9619    \n",
       " -1.1475    \n",
       " -0.00744608"
      ]
     },
     "metadata": {},
     "output_type": "display_data"
    },
    {
     "data": {
      "text/plain": [
       "16-element Array{Float64,1}:\n",
       " -3.0     \n",
       "  0.375   \n",
       "  0.848552\n",
       " 18.9483  \n",
       "  0.85719 \n",
       "  0.865796\n",
       "  3.48848 \n",
       "  1.08112 \n",
       "  1.25601 \n",
       "  1.98873 \n",
       "  1.57954 \n",
       "  1.65388 \n",
       "  1.67288 \n",
       "  1.67169 \n",
       "  1.6717  \n",
       "  1.6717  "
      ]
     },
     "metadata": {},
     "output_type": "display_data"
    }
   ],
   "source": [
    "\n",
    "f1 = x -> x^3 - x - 3\n",
    "f1p = x -> 3*x^2 - 1.0\n",
    "xn,nhist = newton(f1, f1p, 0.0)\n",
    "xs,shist = secant(f1, 0.0)\n",
    "\n",
    "display(nhist)\n",
    "display(shist)\n"
   ]
  }
 ],
 "metadata": {
  "kernelspec": {
   "display_name": "Julia 0.4.7",
   "language": "julia",
   "name": "julia-0.4"
  },
  "language_info": {
   "file_extension": ".jl",
   "mimetype": "application/julia",
   "name": "julia",
   "version": "0.4.7"
  }
 },
 "nbformat": 4,
 "nbformat_minor": 1
}
