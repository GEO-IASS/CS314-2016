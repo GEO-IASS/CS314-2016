{
 "cells": [
  {
   "cell_type": "markdown",
   "metadata": {},
   "source": [
    "## Romeo and Juliet\n",
    "This demo runs an example from Section 11.2.6 in Greenbaum & Chartier\n"
   ]
  },
  {
   "cell_type": "code",
   "execution_count": 5,
   "metadata": {
    "collapsed": false
   },
   "outputs": [
    {
     "data": {
      "text/plain": [
       "94x2 Array{Float64,2}:\n",
       "  2.0        2.0     \n",
       "  1.98307    2.06632 \n",
       "  1.60604    3.11169 \n",
       "  1.05388    3.94428 \n",
       "  0.38327    4.40595 \n",
       " -0.141322   4.46319 \n",
       " -0.657546   4.2744  \n",
       " -1.13755    3.85018 \n",
       " -1.5549     3.21389 \n",
       " -1.88661    2.40058 \n",
       " -2.1144     1.45505 \n",
       " -2.23511    0.130685\n",
       " -2.17134   -1.06818 \n",
       "  ⋮                  \n",
       " -2.11247    1.46611 \n",
       " -2.23493    0.141737\n",
       " -2.1724    -1.05944 \n",
       " -1.97426   -2.09972 \n",
       " -1.59782   -3.12851 \n",
       " -1.04276   -3.95604 \n",
       " -0.371128  -4.41007 \n",
       "  0.150083  -4.46201 \n",
       "  0.662562  -4.27126 \n",
       "  1.13903   -3.84838 \n",
       "  1.5536    -3.21635 \n",
       "  1.75393   -2.77391 "
      ]
     },
     "execution_count": 5,
     "metadata": {},
     "output_type": "execute_result"
    }
   ],
   "source": [
    "using ODE\n",
    "# declare the forcing function\n",
    "function love(t,v) \n",
    "    dvdt = zeros(2)\n",
    "    dvdt[1] = -0.2*v[2]\n",
    "    dvdt[2] = 0.8*v[1]\n",
    "    return dvdt\n",
    "end\n",
    "\n",
    "# ode45 - forcing, initial, time-span\n",
    "T,V = ode45(love,[2.,2.],[0.,60.])\n",
    "V = hcat(V...)' # convert to matrix\n"
   ]
  },
  {
   "cell_type": "code",
   "execution_count": 10,
   "metadata": {
    "collapsed": false
   },
   "outputs": [
    {
     "ename": "LoadError",
     "evalue": "LoadError: UndefVarError: legend! not defined\nwhile loading In[10], in expression starting on line 6",
     "output_type": "error",
     "traceback": [
      "LoadError: UndefVarError: legend! not defined\nwhile loading In[10], in expression starting on line 6",
      ""
     ]
    }
   ],
   "source": [
    "using Plots; plotly();\n",
    "plot(T,V[:,1])\n",
    "plot!(T,V[:,2])\n",
    "xlabel!(\"time\") \n",
    "ylabel!(\"affection\")\n",
    "legend!(\"Romeo\",\"Juliet\")\n",
    "title(\"Love in time\");\n",
    "\n"
   ]
  }
 ],
 "metadata": {
  "kernelspec": {
   "display_name": "Julia 0.4.7",
   "language": "julia",
   "name": "julia-0.4"
  },
  "language_info": {
   "file_extension": ".jl",
   "mimetype": "application/julia",
   "name": "julia",
   "version": "0.4.7"
  }
 },
 "nbformat": 4,
 "nbformat_minor": 0
}
