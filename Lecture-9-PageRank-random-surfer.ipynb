{
 "cells": [
  {
   "cell_type": "markdown",
   "metadata": {},
   "source": [
    "## Monte Carlo Simulation of the PageRank Random Surfer\n",
    "\n",
    "Google created the PageRank random surfer to model how someone might\n",
    "browse the web without any particular goal in mind. Their idea was to\n",
    "determine, based solely on the links of the web, which are the most\n",
    "important pages. In particular, they wanted to use this to differentiate\n",
    "between the real \"Sports Illustrated\" and many other pages out there that\n",
    "just contain the term \"Sports Illustrated.\" And they wanted to do this\n",
    "all types of businesses, not just those that are obvious like Sports\n",
    "Illustrated. \n",
    "\n",
    "Here's a story from Lance Fortnow about the impact this had compared with\n",
    "the best search engine of the day:\n",
    "\n",
    "   http://blog.computationalcomplexity.org/2013/07/altavista-versus-google.html\n",
    "\n",
    "But I digress, the PageRank random surfer is an entity that:\n",
    "\n",
    "*  with probability α, follows a random link from the current page\n",
    "*  with probability (1-α), jumps to a random node in the graph.\n",
    "\n",
    "The PageRank score of a page is the probability of finding the surfer on\n",
    "that page after a large number of steps."
   ]
  },
  {
   "cell_type": "markdown",
   "metadata": {},
   "source": [
    "## Step 1: Setup the adjacency matrix\n",
    "In the following code, we establish the adjacency matrix from class."
   ]
  },
  {
   "cell_type": "markdown",
   "metadata": {},
   "source": [
    "<img src=\"figures/lecture-9-adjmat.png\" alt=\"A graph\">"
   ]
  },
  {
   "cell_type": "code",
   "execution_count": 2,
   "metadata": {
    "collapsed": false
   },
   "outputs": [],
   "source": [
    "A = [1 1 1 1 1 1;\n",
    "     1 0 1 0 0 0;\n",
    "     0 0 0 1 1 0;\n",
    "     0 1 1 0 1 0;\n",
    "     0 0 0 0 0 1;\n",
    "     0 0 0 0 1 0]\n",
    "alpha = 1/2\n",
    "; # don't output anything in IJulia"
   ]
  },
  {
   "cell_type": "markdown",
   "metadata": {},
   "source": [
    "Let's see how we can access information from the adjacency matrix."
   ]
  },
  {
   "cell_type": "code",
   "execution_count": 5,
   "metadata": {
    "collapsed": false
   },
   "outputs": [
    {
     "data": {
      "text/plain": [
       "1-element Array{Int64,1}:\n",
       " 6"
      ]
     },
     "execution_count": 5,
     "metadata": {},
     "output_type": "execute_result"
    }
   ],
   "source": [
    "find(A[5,:])"
   ]
  },
  {
   "cell_type": "code",
   "execution_count": 23,
   "metadata": {
    "collapsed": false
   },
   "outputs": [
    {
     "name": "stdout",
     "output_type": "stream",
     "text": [
      "random_walk_step(1) = 3\n"
     ]
    },
    {
     "data": {
      "text/plain": [
       "3"
      ]
     },
     "execution_count": 23,
     "metadata": {},
     "output_type": "execute_result"
    }
   ],
   "source": [
    "\"\"\"\n",
    "`random_walk_step`\n",
    "==================\n",
    "This function uses the global variable A to\n",
    "take a step of a random walk in the graph\n",
    "represented by A.\n",
    "\n",
    "`next = random_walk_step(page)` takes one\n",
    "step of the PageRank random walk and\n",
    "returns the subsequent page.\n",
    "\n",
    "At each step, the surfer tosses a biased\n",
    "coin. With probability alpha, the surfer\n",
    "follows a link in the page. Otherwise the\n",
    "surfer jumps to a random page.\n",
    "\"\"\"\n",
    "function random_walk_step(page)\n",
    "    follow_link = rand() <= alpha\n",
    "    if follow_link\n",
    "        next = rand(find(A[page,:]))\n",
    "        #println(\"Followed link from \"*string(page)*\" to \"*string(next))\n",
    "    else\n",
    "        next = rand(1:size(A,1))\n",
    "        #println(\"  Jumped from \"*string(page)*\" to \"*string(next))\n",
    "    end\n",
    "    return next\n",
    "end\n",
    "@show random_walk_step(1)"
   ]
  },
  {
   "cell_type": "markdown",
   "metadata": {},
   "source": [
    "## Step 3: Do the Monte Carlo estimate.\n",
    "Here, we run a Monte Carlo estimate of the random walk, starting from page 1."
   ]
  },
  {
   "cell_type": "code",
   "execution_count": 28,
   "metadata": {
    "collapsed": false
   },
   "outputs": [
    {
     "data": {
      "text/plain": [
       "6-element Array{Float64,1}:\n",
       " 0.122236\n",
       " 0.115053\n",
       " 0.144044\n",
       " 0.129472\n",
       " 0.26375 \n",
       " 0.225445"
      ]
     },
     "execution_count": 28,
     "metadata": {},
     "output_type": "execute_result"
    }
   ],
   "source": [
    "n = size(A,1)\n",
    "visits = zeros(Int64,n)\n",
    "nsteps = 10000000\n",
    "page = 1\n",
    "for i=1:nsteps\n",
    "    page = random_walk_step(page)\n",
    "    visits[page] += 1\n",
    "end\n",
    "visits/nsteps"
   ]
  },
  {
   "cell_type": "markdown",
   "metadata": {},
   "source": [
    "## Step 4: Does the starting page matter?\n",
    "Wait, you say, you started on Page 1! That's not far, we should have started on a random page. Let's see if this changes anything."
   ]
  },
  {
   "cell_type": "code",
   "execution_count": null,
   "metadata": {
    "collapsed": true
   },
   "outputs": [],
   "source": [
    "# n = size(A,1)\n",
    "visits = zeros(Int64,n)\n",
    "nsteps = 1000000\n",
    "page = rand(1:size(A,1))\n",
    "for i=1:nsteps\n",
    "    page = random_walk_step(page)\n",
    "    visits[page] += 1\n",
    "end\n",
    "visits/nsteps"
   ]
  },
  {
   "cell_type": "markdown",
   "metadata": {},
   "source": [
    "Not really. This is because after a `jump` step, the starting page doesn't matter at all."
   ]
  }
 ],
 "metadata": {
  "kernelspec": {
   "display_name": "Julia 0.4.6",
   "language": "julia",
   "name": "julia-0.4"
  },
  "language_info": {
   "file_extension": ".jl",
   "mimetype": "application/julia",
   "name": "julia",
   "version": "0.4.6"
  }
 },
 "nbformat": 4,
 "nbformat_minor": 0
}
